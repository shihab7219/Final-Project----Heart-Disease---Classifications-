{
 "cells": [
  {
   "cell_type": "markdown",
   "id": "a181736a",
   "metadata": {},
   "source": [
    "# Importing Important Librais "
   ]
  },
  {
   "cell_type": "code",
   "execution_count": 1,
   "id": "ebf420fc",
   "metadata": {},
   "outputs": [],
   "source": [
    "import pandas as pd\n",
    "import numpy as np\n",
    "import seaborn as sns\n",
    "import matplotlib.pyplot as plt\n",
    "import warnings\n",
    "\n",
    "from sklearn.preprocessing import OrdinalEncoder\n",
    "from sklearn.preprocessing import LabelEncoder"
   ]
  },
  {
   "cell_type": "markdown",
   "id": "31dddab1",
   "metadata": {},
   "source": [
    "# Importing Data Set "
   ]
  },
  {
   "cell_type": "code",
   "execution_count": 2,
   "id": "8bee209a",
   "metadata": {},
   "outputs": [],
   "source": [
    "data_set = pd.read_csv(\"Heart Disease.csv - Heart Disease.csv.csv\")"
   ]
  },
  {
   "cell_type": "markdown",
   "id": "441f51c2",
   "metadata": {},
   "source": [
    "# Data Set  Exploration\n"
   ]
  },
  {
   "cell_type": "code",
   "execution_count": 23,
   "id": "b11f7bc4",
   "metadata": {},
   "outputs": [
    {
     "data": {
      "text/plain": [
       "(319795, 18)"
      ]
     },
     "execution_count": 23,
     "metadata": {},
     "output_type": "execute_result"
    }
   ],
   "source": [
    "data_set.shape"
   ]
  },
  {
   "cell_type": "code",
   "execution_count": 24,
   "id": "155c2555",
   "metadata": {},
   "outputs": [
    {
     "data": {
      "text/html": [
       "<div>\n",
       "<style scoped>\n",
       "    .dataframe tbody tr th:only-of-type {\n",
       "        vertical-align: middle;\n",
       "    }\n",
       "\n",
       "    .dataframe tbody tr th {\n",
       "        vertical-align: top;\n",
       "    }\n",
       "\n",
       "    .dataframe thead th {\n",
       "        text-align: right;\n",
       "    }\n",
       "</style>\n",
       "<table border=\"1\" class=\"dataframe\">\n",
       "  <thead>\n",
       "    <tr style=\"text-align: right;\">\n",
       "      <th></th>\n",
       "      <th>HeartDisease</th>\n",
       "      <th>BMI</th>\n",
       "      <th>Smoking</th>\n",
       "      <th>AlcoholDrinking</th>\n",
       "      <th>Stroke</th>\n",
       "      <th>PhysicalHealth</th>\n",
       "      <th>MentalHealth</th>\n",
       "      <th>DiffWalking</th>\n",
       "      <th>Sex</th>\n",
       "      <th>AgeCategory</th>\n",
       "      <th>Race</th>\n",
       "      <th>Diabetic</th>\n",
       "      <th>PhysicalActivity</th>\n",
       "      <th>GenHealth</th>\n",
       "      <th>SleepTime</th>\n",
       "      <th>Asthma</th>\n",
       "      <th>KidneyDisease</th>\n",
       "      <th>SkinCancer</th>\n",
       "    </tr>\n",
       "  </thead>\n",
       "  <tbody>\n",
       "    <tr>\n",
       "      <th>0</th>\n",
       "      <td>No</td>\n",
       "      <td>16.60</td>\n",
       "      <td>Yes</td>\n",
       "      <td>No</td>\n",
       "      <td>No</td>\n",
       "      <td>3</td>\n",
       "      <td>30</td>\n",
       "      <td>No</td>\n",
       "      <td>Female</td>\n",
       "      <td>55-59</td>\n",
       "      <td>White</td>\n",
       "      <td>Yes</td>\n",
       "      <td>Yes</td>\n",
       "      <td>Very good</td>\n",
       "      <td>5</td>\n",
       "      <td>Yes</td>\n",
       "      <td>No</td>\n",
       "      <td>Yes</td>\n",
       "    </tr>\n",
       "    <tr>\n",
       "      <th>1</th>\n",
       "      <td>No</td>\n",
       "      <td>20.34</td>\n",
       "      <td>No</td>\n",
       "      <td>No</td>\n",
       "      <td>Yes</td>\n",
       "      <td>0</td>\n",
       "      <td>0</td>\n",
       "      <td>No</td>\n",
       "      <td>Female</td>\n",
       "      <td>80 or older</td>\n",
       "      <td>White</td>\n",
       "      <td>No</td>\n",
       "      <td>Yes</td>\n",
       "      <td>Very good</td>\n",
       "      <td>7</td>\n",
       "      <td>No</td>\n",
       "      <td>No</td>\n",
       "      <td>No</td>\n",
       "    </tr>\n",
       "    <tr>\n",
       "      <th>2</th>\n",
       "      <td>No</td>\n",
       "      <td>26.58</td>\n",
       "      <td>Yes</td>\n",
       "      <td>No</td>\n",
       "      <td>No</td>\n",
       "      <td>20</td>\n",
       "      <td>30</td>\n",
       "      <td>No</td>\n",
       "      <td>Male</td>\n",
       "      <td>65-69</td>\n",
       "      <td>White</td>\n",
       "      <td>Yes</td>\n",
       "      <td>Yes</td>\n",
       "      <td>Fair</td>\n",
       "      <td>8</td>\n",
       "      <td>Yes</td>\n",
       "      <td>No</td>\n",
       "      <td>No</td>\n",
       "    </tr>\n",
       "    <tr>\n",
       "      <th>3</th>\n",
       "      <td>No</td>\n",
       "      <td>24.21</td>\n",
       "      <td>No</td>\n",
       "      <td>No</td>\n",
       "      <td>No</td>\n",
       "      <td>0</td>\n",
       "      <td>0</td>\n",
       "      <td>No</td>\n",
       "      <td>Female</td>\n",
       "      <td>75-79</td>\n",
       "      <td>White</td>\n",
       "      <td>No</td>\n",
       "      <td>No</td>\n",
       "      <td>Good</td>\n",
       "      <td>6</td>\n",
       "      <td>No</td>\n",
       "      <td>No</td>\n",
       "      <td>Yes</td>\n",
       "    </tr>\n",
       "    <tr>\n",
       "      <th>4</th>\n",
       "      <td>No</td>\n",
       "      <td>23.71</td>\n",
       "      <td>No</td>\n",
       "      <td>No</td>\n",
       "      <td>No</td>\n",
       "      <td>28</td>\n",
       "      <td>0</td>\n",
       "      <td>Yes</td>\n",
       "      <td>Female</td>\n",
       "      <td>40-44</td>\n",
       "      <td>White</td>\n",
       "      <td>No</td>\n",
       "      <td>Yes</td>\n",
       "      <td>Very good</td>\n",
       "      <td>8</td>\n",
       "      <td>No</td>\n",
       "      <td>No</td>\n",
       "      <td>No</td>\n",
       "    </tr>\n",
       "    <tr>\n",
       "      <th>...</th>\n",
       "      <td>...</td>\n",
       "      <td>...</td>\n",
       "      <td>...</td>\n",
       "      <td>...</td>\n",
       "      <td>...</td>\n",
       "      <td>...</td>\n",
       "      <td>...</td>\n",
       "      <td>...</td>\n",
       "      <td>...</td>\n",
       "      <td>...</td>\n",
       "      <td>...</td>\n",
       "      <td>...</td>\n",
       "      <td>...</td>\n",
       "      <td>...</td>\n",
       "      <td>...</td>\n",
       "      <td>...</td>\n",
       "      <td>...</td>\n",
       "      <td>...</td>\n",
       "    </tr>\n",
       "    <tr>\n",
       "      <th>319790</th>\n",
       "      <td>Yes</td>\n",
       "      <td>27.41</td>\n",
       "      <td>Yes</td>\n",
       "      <td>No</td>\n",
       "      <td>No</td>\n",
       "      <td>7</td>\n",
       "      <td>0</td>\n",
       "      <td>Yes</td>\n",
       "      <td>Male</td>\n",
       "      <td>60-64</td>\n",
       "      <td>Hispanic</td>\n",
       "      <td>Yes</td>\n",
       "      <td>No</td>\n",
       "      <td>Fair</td>\n",
       "      <td>6</td>\n",
       "      <td>Yes</td>\n",
       "      <td>No</td>\n",
       "      <td>No</td>\n",
       "    </tr>\n",
       "    <tr>\n",
       "      <th>319791</th>\n",
       "      <td>No</td>\n",
       "      <td>29.84</td>\n",
       "      <td>Yes</td>\n",
       "      <td>No</td>\n",
       "      <td>No</td>\n",
       "      <td>0</td>\n",
       "      <td>0</td>\n",
       "      <td>No</td>\n",
       "      <td>Male</td>\n",
       "      <td>35-39</td>\n",
       "      <td>Hispanic</td>\n",
       "      <td>No</td>\n",
       "      <td>Yes</td>\n",
       "      <td>Very good</td>\n",
       "      <td>5</td>\n",
       "      <td>Yes</td>\n",
       "      <td>No</td>\n",
       "      <td>No</td>\n",
       "    </tr>\n",
       "    <tr>\n",
       "      <th>319792</th>\n",
       "      <td>No</td>\n",
       "      <td>24.24</td>\n",
       "      <td>No</td>\n",
       "      <td>No</td>\n",
       "      <td>No</td>\n",
       "      <td>0</td>\n",
       "      <td>0</td>\n",
       "      <td>No</td>\n",
       "      <td>Female</td>\n",
       "      <td>45-49</td>\n",
       "      <td>Hispanic</td>\n",
       "      <td>No</td>\n",
       "      <td>Yes</td>\n",
       "      <td>Good</td>\n",
       "      <td>6</td>\n",
       "      <td>No</td>\n",
       "      <td>No</td>\n",
       "      <td>No</td>\n",
       "    </tr>\n",
       "    <tr>\n",
       "      <th>319793</th>\n",
       "      <td>No</td>\n",
       "      <td>32.81</td>\n",
       "      <td>No</td>\n",
       "      <td>No</td>\n",
       "      <td>No</td>\n",
       "      <td>0</td>\n",
       "      <td>0</td>\n",
       "      <td>No</td>\n",
       "      <td>Female</td>\n",
       "      <td>25-29</td>\n",
       "      <td>Hispanic</td>\n",
       "      <td>No</td>\n",
       "      <td>No</td>\n",
       "      <td>Good</td>\n",
       "      <td>12</td>\n",
       "      <td>No</td>\n",
       "      <td>No</td>\n",
       "      <td>No</td>\n",
       "    </tr>\n",
       "    <tr>\n",
       "      <th>319794</th>\n",
       "      <td>No</td>\n",
       "      <td>46.56</td>\n",
       "      <td>No</td>\n",
       "      <td>No</td>\n",
       "      <td>No</td>\n",
       "      <td>0</td>\n",
       "      <td>0</td>\n",
       "      <td>No</td>\n",
       "      <td>Female</td>\n",
       "      <td>80 or older</td>\n",
       "      <td>Hispanic</td>\n",
       "      <td>No</td>\n",
       "      <td>Yes</td>\n",
       "      <td>Good</td>\n",
       "      <td>8</td>\n",
       "      <td>No</td>\n",
       "      <td>No</td>\n",
       "      <td>No</td>\n",
       "    </tr>\n",
       "  </tbody>\n",
       "</table>\n",
       "<p>301717 rows × 18 columns</p>\n",
       "</div>"
      ],
      "text/plain": [
       "       HeartDisease    BMI Smoking AlcoholDrinking Stroke  PhysicalHealth  \\\n",
       "0                No  16.60     Yes              No     No               3   \n",
       "1                No  20.34      No              No    Yes               0   \n",
       "2                No  26.58     Yes              No     No              20   \n",
       "3                No  24.21      No              No     No               0   \n",
       "4                No  23.71      No              No     No              28   \n",
       "...             ...    ...     ...             ...    ...             ...   \n",
       "319790          Yes  27.41     Yes              No     No               7   \n",
       "319791           No  29.84     Yes              No     No               0   \n",
       "319792           No  24.24      No              No     No               0   \n",
       "319793           No  32.81      No              No     No               0   \n",
       "319794           No  46.56      No              No     No               0   \n",
       "\n",
       "        MentalHealth DiffWalking     Sex  AgeCategory      Race Diabetic  \\\n",
       "0                 30          No  Female        55-59     White      Yes   \n",
       "1                  0          No  Female  80 or older     White       No   \n",
       "2                 30          No    Male        65-69     White      Yes   \n",
       "3                  0          No  Female        75-79     White       No   \n",
       "4                  0         Yes  Female        40-44     White       No   \n",
       "...              ...         ...     ...          ...       ...      ...   \n",
       "319790             0         Yes    Male        60-64  Hispanic      Yes   \n",
       "319791             0          No    Male        35-39  Hispanic       No   \n",
       "319792             0          No  Female        45-49  Hispanic       No   \n",
       "319793             0          No  Female        25-29  Hispanic       No   \n",
       "319794             0          No  Female  80 or older  Hispanic       No   \n",
       "\n",
       "       PhysicalActivity  GenHealth  SleepTime Asthma KidneyDisease SkinCancer  \n",
       "0                   Yes  Very good          5    Yes            No        Yes  \n",
       "1                   Yes  Very good          7     No            No         No  \n",
       "2                   Yes       Fair          8    Yes            No         No  \n",
       "3                    No       Good          6     No            No        Yes  \n",
       "4                   Yes  Very good          8     No            No         No  \n",
       "...                 ...        ...        ...    ...           ...        ...  \n",
       "319790               No       Fair          6    Yes            No         No  \n",
       "319791              Yes  Very good          5    Yes            No         No  \n",
       "319792              Yes       Good          6     No            No         No  \n",
       "319793               No       Good         12     No            No         No  \n",
       "319794              Yes       Good          8     No            No         No  \n",
       "\n",
       "[301717 rows x 18 columns]"
      ]
     },
     "execution_count": 24,
     "metadata": {},
     "output_type": "execute_result"
    }
   ],
   "source": [
    "data_set.drop_duplicates()"
   ]
  },
  {
   "cell_type": "code",
   "execution_count": 25,
   "id": "b09c1fcc",
   "metadata": {},
   "outputs": [
    {
     "data": {
      "text/plain": [
       "(319795, 18)"
      ]
     },
     "execution_count": 25,
     "metadata": {},
     "output_type": "execute_result"
    }
   ],
   "source": [
    "data_set.shape"
   ]
  },
  {
   "cell_type": "code",
   "execution_count": 26,
   "id": "60622e7f",
   "metadata": {},
   "outputs": [
    {
     "data": {
      "text/html": [
       "<div>\n",
       "<style scoped>\n",
       "    .dataframe tbody tr th:only-of-type {\n",
       "        vertical-align: middle;\n",
       "    }\n",
       "\n",
       "    .dataframe tbody tr th {\n",
       "        vertical-align: top;\n",
       "    }\n",
       "\n",
       "    .dataframe thead th {\n",
       "        text-align: right;\n",
       "    }\n",
       "</style>\n",
       "<table border=\"1\" class=\"dataframe\">\n",
       "  <thead>\n",
       "    <tr style=\"text-align: right;\">\n",
       "      <th></th>\n",
       "      <th>HeartDisease</th>\n",
       "      <th>BMI</th>\n",
       "      <th>Smoking</th>\n",
       "      <th>AlcoholDrinking</th>\n",
       "      <th>Stroke</th>\n",
       "      <th>PhysicalHealth</th>\n",
       "      <th>MentalHealth</th>\n",
       "      <th>DiffWalking</th>\n",
       "      <th>Sex</th>\n",
       "      <th>AgeCategory</th>\n",
       "      <th>Race</th>\n",
       "      <th>Diabetic</th>\n",
       "      <th>PhysicalActivity</th>\n",
       "      <th>GenHealth</th>\n",
       "      <th>SleepTime</th>\n",
       "      <th>Asthma</th>\n",
       "      <th>KidneyDisease</th>\n",
       "      <th>SkinCancer</th>\n",
       "    </tr>\n",
       "  </thead>\n",
       "  <tbody>\n",
       "    <tr>\n",
       "      <th>20873</th>\n",
       "      <td>No</td>\n",
       "      <td>39.16</td>\n",
       "      <td>Yes</td>\n",
       "      <td>No</td>\n",
       "      <td>No</td>\n",
       "      <td>30</td>\n",
       "      <td>25</td>\n",
       "      <td>Yes</td>\n",
       "      <td>Female</td>\n",
       "      <td>60-64</td>\n",
       "      <td>White</td>\n",
       "      <td>Yes</td>\n",
       "      <td>No</td>\n",
       "      <td>Fair</td>\n",
       "      <td>7</td>\n",
       "      <td>No</td>\n",
       "      <td>No</td>\n",
       "      <td>No</td>\n",
       "    </tr>\n",
       "    <tr>\n",
       "      <th>184406</th>\n",
       "      <td>No</td>\n",
       "      <td>23.49</td>\n",
       "      <td>No</td>\n",
       "      <td>No</td>\n",
       "      <td>No</td>\n",
       "      <td>0</td>\n",
       "      <td>2</td>\n",
       "      <td>No</td>\n",
       "      <td>Female</td>\n",
       "      <td>35-39</td>\n",
       "      <td>White</td>\n",
       "      <td>No</td>\n",
       "      <td>Yes</td>\n",
       "      <td>Very good</td>\n",
       "      <td>8</td>\n",
       "      <td>No</td>\n",
       "      <td>No</td>\n",
       "      <td>No</td>\n",
       "    </tr>\n",
       "    <tr>\n",
       "      <th>236908</th>\n",
       "      <td>No</td>\n",
       "      <td>24.55</td>\n",
       "      <td>No</td>\n",
       "      <td>No</td>\n",
       "      <td>No</td>\n",
       "      <td>0</td>\n",
       "      <td>0</td>\n",
       "      <td>No</td>\n",
       "      <td>Male</td>\n",
       "      <td>60-64</td>\n",
       "      <td>Other</td>\n",
       "      <td>Yes</td>\n",
       "      <td>Yes</td>\n",
       "      <td>Very good</td>\n",
       "      <td>8</td>\n",
       "      <td>No</td>\n",
       "      <td>No</td>\n",
       "      <td>No</td>\n",
       "    </tr>\n",
       "    <tr>\n",
       "      <th>143724</th>\n",
       "      <td>No</td>\n",
       "      <td>31.89</td>\n",
       "      <td>No</td>\n",
       "      <td>No</td>\n",
       "      <td>No</td>\n",
       "      <td>0</td>\n",
       "      <td>0</td>\n",
       "      <td>No</td>\n",
       "      <td>Male</td>\n",
       "      <td>75-79</td>\n",
       "      <td>White</td>\n",
       "      <td>No</td>\n",
       "      <td>Yes</td>\n",
       "      <td>Good</td>\n",
       "      <td>7</td>\n",
       "      <td>No</td>\n",
       "      <td>No</td>\n",
       "      <td>Yes</td>\n",
       "    </tr>\n",
       "    <tr>\n",
       "      <th>96108</th>\n",
       "      <td>No</td>\n",
       "      <td>26.52</td>\n",
       "      <td>Yes</td>\n",
       "      <td>No</td>\n",
       "      <td>No</td>\n",
       "      <td>0</td>\n",
       "      <td>0</td>\n",
       "      <td>No</td>\n",
       "      <td>Female</td>\n",
       "      <td>30-34</td>\n",
       "      <td>White</td>\n",
       "      <td>Yes</td>\n",
       "      <td>No</td>\n",
       "      <td>Excellent</td>\n",
       "      <td>7</td>\n",
       "      <td>No</td>\n",
       "      <td>No</td>\n",
       "      <td>No</td>\n",
       "    </tr>\n",
       "    <tr>\n",
       "      <th>273328</th>\n",
       "      <td>No</td>\n",
       "      <td>33.23</td>\n",
       "      <td>Yes</td>\n",
       "      <td>No</td>\n",
       "      <td>No</td>\n",
       "      <td>0</td>\n",
       "      <td>30</td>\n",
       "      <td>No</td>\n",
       "      <td>Male</td>\n",
       "      <td>45-49</td>\n",
       "      <td>White</td>\n",
       "      <td>No</td>\n",
       "      <td>Yes</td>\n",
       "      <td>Good</td>\n",
       "      <td>9</td>\n",
       "      <td>No</td>\n",
       "      <td>No</td>\n",
       "      <td>No</td>\n",
       "    </tr>\n",
       "    <tr>\n",
       "      <th>4956</th>\n",
       "      <td>No</td>\n",
       "      <td>24.41</td>\n",
       "      <td>Yes</td>\n",
       "      <td>No</td>\n",
       "      <td>No</td>\n",
       "      <td>0</td>\n",
       "      <td>0</td>\n",
       "      <td>No</td>\n",
       "      <td>Male</td>\n",
       "      <td>70-74</td>\n",
       "      <td>White</td>\n",
       "      <td>No</td>\n",
       "      <td>No</td>\n",
       "      <td>Excellent</td>\n",
       "      <td>6</td>\n",
       "      <td>No</td>\n",
       "      <td>No</td>\n",
       "      <td>No</td>\n",
       "    </tr>\n",
       "    <tr>\n",
       "      <th>42870</th>\n",
       "      <td>No</td>\n",
       "      <td>27.37</td>\n",
       "      <td>No</td>\n",
       "      <td>No</td>\n",
       "      <td>No</td>\n",
       "      <td>0</td>\n",
       "      <td>20</td>\n",
       "      <td>No</td>\n",
       "      <td>Female</td>\n",
       "      <td>25-29</td>\n",
       "      <td>White</td>\n",
       "      <td>No</td>\n",
       "      <td>Yes</td>\n",
       "      <td>Very good</td>\n",
       "      <td>8</td>\n",
       "      <td>No</td>\n",
       "      <td>No</td>\n",
       "      <td>No</td>\n",
       "    </tr>\n",
       "    <tr>\n",
       "      <th>20240</th>\n",
       "      <td>No</td>\n",
       "      <td>28.32</td>\n",
       "      <td>No</td>\n",
       "      <td>No</td>\n",
       "      <td>No</td>\n",
       "      <td>0</td>\n",
       "      <td>3</td>\n",
       "      <td>No</td>\n",
       "      <td>Female</td>\n",
       "      <td>55-59</td>\n",
       "      <td>White</td>\n",
       "      <td>No</td>\n",
       "      <td>Yes</td>\n",
       "      <td>Very good</td>\n",
       "      <td>6</td>\n",
       "      <td>Yes</td>\n",
       "      <td>No</td>\n",
       "      <td>No</td>\n",
       "    </tr>\n",
       "    <tr>\n",
       "      <th>200097</th>\n",
       "      <td>No</td>\n",
       "      <td>22.71</td>\n",
       "      <td>Yes</td>\n",
       "      <td>No</td>\n",
       "      <td>No</td>\n",
       "      <td>0</td>\n",
       "      <td>2</td>\n",
       "      <td>No</td>\n",
       "      <td>Female</td>\n",
       "      <td>65-69</td>\n",
       "      <td>White</td>\n",
       "      <td>No</td>\n",
       "      <td>Yes</td>\n",
       "      <td>Very good</td>\n",
       "      <td>7</td>\n",
       "      <td>No</td>\n",
       "      <td>No</td>\n",
       "      <td>No</td>\n",
       "    </tr>\n",
       "  </tbody>\n",
       "</table>\n",
       "</div>"
      ],
      "text/plain": [
       "       HeartDisease    BMI Smoking AlcoholDrinking Stroke  PhysicalHealth  \\\n",
       "20873            No  39.16     Yes              No     No              30   \n",
       "184406           No  23.49      No              No     No               0   \n",
       "236908           No  24.55      No              No     No               0   \n",
       "143724           No  31.89      No              No     No               0   \n",
       "96108            No  26.52     Yes              No     No               0   \n",
       "273328           No  33.23     Yes              No     No               0   \n",
       "4956             No  24.41     Yes              No     No               0   \n",
       "42870            No  27.37      No              No     No               0   \n",
       "20240            No  28.32      No              No     No               0   \n",
       "200097           No  22.71     Yes              No     No               0   \n",
       "\n",
       "        MentalHealth DiffWalking     Sex AgeCategory   Race Diabetic  \\\n",
       "20873             25         Yes  Female       60-64  White      Yes   \n",
       "184406             2          No  Female       35-39  White       No   \n",
       "236908             0          No    Male       60-64  Other      Yes   \n",
       "143724             0          No    Male       75-79  White       No   \n",
       "96108              0          No  Female       30-34  White      Yes   \n",
       "273328            30          No    Male       45-49  White       No   \n",
       "4956               0          No    Male       70-74  White       No   \n",
       "42870             20          No  Female       25-29  White       No   \n",
       "20240              3          No  Female       55-59  White       No   \n",
       "200097             2          No  Female       65-69  White       No   \n",
       "\n",
       "       PhysicalActivity  GenHealth  SleepTime Asthma KidneyDisease SkinCancer  \n",
       "20873                No       Fair          7     No            No         No  \n",
       "184406              Yes  Very good          8     No            No         No  \n",
       "236908              Yes  Very good          8     No            No         No  \n",
       "143724              Yes       Good          7     No            No        Yes  \n",
       "96108                No  Excellent          7     No            No         No  \n",
       "273328              Yes       Good          9     No            No         No  \n",
       "4956                 No  Excellent          6     No            No         No  \n",
       "42870               Yes  Very good          8     No            No         No  \n",
       "20240               Yes  Very good          6    Yes            No         No  \n",
       "200097              Yes  Very good          7     No            No         No  "
      ]
     },
     "execution_count": 26,
     "metadata": {},
     "output_type": "execute_result"
    }
   ],
   "source": [
    "data_set.sample(10)"
   ]
  },
  {
   "cell_type": "code",
   "execution_count": 27,
   "id": "c94e38a7",
   "metadata": {},
   "outputs": [
    {
     "name": "stdout",
     "output_type": "stream",
     "text": [
      "<class 'pandas.core.frame.DataFrame'>\n",
      "RangeIndex: 319795 entries, 0 to 319794\n",
      "Data columns (total 18 columns):\n",
      " #   Column            Non-Null Count   Dtype  \n",
      "---  ------            --------------   -----  \n",
      " 0   HeartDisease      319795 non-null  object \n",
      " 1   BMI               319795 non-null  float64\n",
      " 2   Smoking           319795 non-null  object \n",
      " 3   AlcoholDrinking   319795 non-null  object \n",
      " 4   Stroke            319795 non-null  object \n",
      " 5   PhysicalHealth    319795 non-null  int64  \n",
      " 6   MentalHealth      319795 non-null  int64  \n",
      " 7   DiffWalking       319795 non-null  object \n",
      " 8   Sex               319795 non-null  object \n",
      " 9   AgeCategory       319795 non-null  object \n",
      " 10  Race              319795 non-null  object \n",
      " 11  Diabetic          319795 non-null  object \n",
      " 12  PhysicalActivity  319795 non-null  object \n",
      " 13  GenHealth         319795 non-null  object \n",
      " 14  SleepTime         319795 non-null  int64  \n",
      " 15  Asthma            319795 non-null  object \n",
      " 16  KidneyDisease     319795 non-null  object \n",
      " 17  SkinCancer        319795 non-null  object \n",
      "dtypes: float64(1), int64(3), object(14)\n",
      "memory usage: 43.9+ MB\n"
     ]
    }
   ],
   "source": [
    "data_set.info()"
   ]
  },
  {
   "cell_type": "code",
   "execution_count": 28,
   "id": "70b287eb",
   "metadata": {},
   "outputs": [
    {
     "data": {
      "text/html": [
       "<div>\n",
       "<style scoped>\n",
       "    .dataframe tbody tr th:only-of-type {\n",
       "        vertical-align: middle;\n",
       "    }\n",
       "\n",
       "    .dataframe tbody tr th {\n",
       "        vertical-align: top;\n",
       "    }\n",
       "\n",
       "    .dataframe thead th {\n",
       "        text-align: right;\n",
       "    }\n",
       "</style>\n",
       "<table border=\"1\" class=\"dataframe\">\n",
       "  <thead>\n",
       "    <tr style=\"text-align: right;\">\n",
       "      <th></th>\n",
       "      <th>BMI</th>\n",
       "      <th>PhysicalHealth</th>\n",
       "      <th>MentalHealth</th>\n",
       "      <th>SleepTime</th>\n",
       "    </tr>\n",
       "  </thead>\n",
       "  <tbody>\n",
       "    <tr>\n",
       "      <th>count</th>\n",
       "      <td>319795.000000</td>\n",
       "      <td>319795.00000</td>\n",
       "      <td>319795.000000</td>\n",
       "      <td>319795.000000</td>\n",
       "    </tr>\n",
       "    <tr>\n",
       "      <th>mean</th>\n",
       "      <td>28.325399</td>\n",
       "      <td>3.37171</td>\n",
       "      <td>3.898366</td>\n",
       "      <td>7.097075</td>\n",
       "    </tr>\n",
       "    <tr>\n",
       "      <th>std</th>\n",
       "      <td>6.356100</td>\n",
       "      <td>7.95085</td>\n",
       "      <td>7.955235</td>\n",
       "      <td>1.436007</td>\n",
       "    </tr>\n",
       "    <tr>\n",
       "      <th>min</th>\n",
       "      <td>12.020000</td>\n",
       "      <td>0.00000</td>\n",
       "      <td>0.000000</td>\n",
       "      <td>1.000000</td>\n",
       "    </tr>\n",
       "    <tr>\n",
       "      <th>25%</th>\n",
       "      <td>24.030000</td>\n",
       "      <td>0.00000</td>\n",
       "      <td>0.000000</td>\n",
       "      <td>6.000000</td>\n",
       "    </tr>\n",
       "    <tr>\n",
       "      <th>50%</th>\n",
       "      <td>27.340000</td>\n",
       "      <td>0.00000</td>\n",
       "      <td>0.000000</td>\n",
       "      <td>7.000000</td>\n",
       "    </tr>\n",
       "    <tr>\n",
       "      <th>75%</th>\n",
       "      <td>31.420000</td>\n",
       "      <td>2.00000</td>\n",
       "      <td>3.000000</td>\n",
       "      <td>8.000000</td>\n",
       "    </tr>\n",
       "    <tr>\n",
       "      <th>max</th>\n",
       "      <td>94.850000</td>\n",
       "      <td>30.00000</td>\n",
       "      <td>30.000000</td>\n",
       "      <td>24.000000</td>\n",
       "    </tr>\n",
       "  </tbody>\n",
       "</table>\n",
       "</div>"
      ],
      "text/plain": [
       "                 BMI  PhysicalHealth   MentalHealth      SleepTime\n",
       "count  319795.000000    319795.00000  319795.000000  319795.000000\n",
       "mean       28.325399         3.37171       3.898366       7.097075\n",
       "std         6.356100         7.95085       7.955235       1.436007\n",
       "min        12.020000         0.00000       0.000000       1.000000\n",
       "25%        24.030000         0.00000       0.000000       6.000000\n",
       "50%        27.340000         0.00000       0.000000       7.000000\n",
       "75%        31.420000         2.00000       3.000000       8.000000\n",
       "max        94.850000        30.00000      30.000000      24.000000"
      ]
     },
     "execution_count": 28,
     "metadata": {},
     "output_type": "execute_result"
    }
   ],
   "source": [
    "data_set.describe()"
   ]
  },
  {
   "cell_type": "code",
   "execution_count": 29,
   "id": "cb3e15db",
   "metadata": {},
   "outputs": [
    {
     "data": {
      "text/plain": [
       "False"
      ]
     },
     "execution_count": 29,
     "metadata": {},
     "output_type": "execute_result"
    }
   ],
   "source": [
    "data_set.isnull().values.any()"
   ]
  },
  {
   "cell_type": "code",
   "execution_count": 30,
   "id": "93bd7218",
   "metadata": {},
   "outputs": [
    {
     "data": {
      "text/plain": [
       "HeartDisease        0\n",
       "BMI                 0\n",
       "Smoking             0\n",
       "AlcoholDrinking     0\n",
       "Stroke              0\n",
       "PhysicalHealth      0\n",
       "MentalHealth        0\n",
       "DiffWalking         0\n",
       "Sex                 0\n",
       "AgeCategory         0\n",
       "Race                0\n",
       "Diabetic            0\n",
       "PhysicalActivity    0\n",
       "GenHealth           0\n",
       "SleepTime           0\n",
       "Asthma              0\n",
       "KidneyDisease       0\n",
       "SkinCancer          0\n",
       "dtype: int64"
      ]
     },
     "execution_count": 30,
     "metadata": {},
     "output_type": "execute_result"
    }
   ],
   "source": [
    "data_set.isnull().sum()"
   ]
  },
  {
   "cell_type": "code",
   "execution_count": 31,
   "id": "c03fa45c",
   "metadata": {},
   "outputs": [
    {
     "data": {
      "text/plain": [
       "No     292422\n",
       "Yes     27373\n",
       "Name: HeartDisease, dtype: int64"
      ]
     },
     "execution_count": 31,
     "metadata": {},
     "output_type": "execute_result"
    }
   ],
   "source": [
    "data_set.HeartDisease.value_counts()"
   ]
  },
  {
   "cell_type": "code",
   "execution_count": 32,
   "id": "453b2d00",
   "metadata": {},
   "outputs": [],
   "source": [
    "Have_HeartDisease_Count = len(data_set[data_set.HeartDisease == \"Yes\" ])\n",
    "No_HeartDisease_Count = len(data_set[data_set.HeartDisease == \"No\" ])\n"
   ]
  },
  {
   "cell_type": "code",
   "execution_count": 33,
   "id": "b3a6ac84",
   "metadata": {},
   "outputs": [
    {
     "name": "stdout",
     "output_type": "stream",
     "text": [
      "Percentage of Patients Haven Heart Disease: 8.559545959130068 %\n",
      "Percentage of Patients Haven't Heart Disease: 91.44045404086994 %\n"
     ]
    }
   ],
   "source": [
    "print(f\"Percentage of Patients Haven Heart Disease: {Have_HeartDisease_Count / (len(data_set.HeartDisease))*100} %\")\n",
    "print(f\"Percentage of Patients Haven't Heart Disease: {No_HeartDisease_Count / (len(data_set.HeartDisease))*100} %\")\n"
   ]
  },
  {
   "cell_type": "markdown",
   "id": "3f66c365",
   "metadata": {},
   "source": [
    "# Data Set Visualization"
   ]
  },
  {
   "cell_type": "code",
   "execution_count": 3,
   "id": "456311a0",
   "metadata": {},
   "outputs": [],
   "source": [
    "from pandas.core.dtypes.common import is_numeric_dtype\n",
    "for column in data_set.columns:\n",
    "    if is_numeric_dtype(data_set[column]):\n",
    "        continue \n",
    "    else:\n",
    "        data_set[column] = LabelEncoder().fit_transform(data_set[column])"
   ]
  },
  {
   "cell_type": "code",
   "execution_count": 4,
   "id": "dccb8a09",
   "metadata": {},
   "outputs": [
    {
     "data": {
      "text/html": [
       "<div>\n",
       "<style scoped>\n",
       "    .dataframe tbody tr th:only-of-type {\n",
       "        vertical-align: middle;\n",
       "    }\n",
       "\n",
       "    .dataframe tbody tr th {\n",
       "        vertical-align: top;\n",
       "    }\n",
       "\n",
       "    .dataframe thead th {\n",
       "        text-align: right;\n",
       "    }\n",
       "</style>\n",
       "<table border=\"1\" class=\"dataframe\">\n",
       "  <thead>\n",
       "    <tr style=\"text-align: right;\">\n",
       "      <th></th>\n",
       "      <th>HeartDisease</th>\n",
       "      <th>BMI</th>\n",
       "      <th>Smoking</th>\n",
       "      <th>AlcoholDrinking</th>\n",
       "      <th>Stroke</th>\n",
       "      <th>PhysicalHealth</th>\n",
       "      <th>MentalHealth</th>\n",
       "      <th>DiffWalking</th>\n",
       "      <th>Sex</th>\n",
       "      <th>AgeCategory</th>\n",
       "      <th>Race</th>\n",
       "      <th>Diabetic</th>\n",
       "      <th>PhysicalActivity</th>\n",
       "      <th>GenHealth</th>\n",
       "      <th>SleepTime</th>\n",
       "      <th>Asthma</th>\n",
       "      <th>KidneyDisease</th>\n",
       "      <th>SkinCancer</th>\n",
       "    </tr>\n",
       "  </thead>\n",
       "  <tbody>\n",
       "    <tr>\n",
       "      <th>136378</th>\n",
       "      <td>0</td>\n",
       "      <td>24.41</td>\n",
       "      <td>1</td>\n",
       "      <td>0</td>\n",
       "      <td>1</td>\n",
       "      <td>0</td>\n",
       "      <td>0</td>\n",
       "      <td>0</td>\n",
       "      <td>1</td>\n",
       "      <td>11</td>\n",
       "      <td>5</td>\n",
       "      <td>0</td>\n",
       "      <td>1</td>\n",
       "      <td>0</td>\n",
       "      <td>6</td>\n",
       "      <td>0</td>\n",
       "      <td>0</td>\n",
       "      <td>0</td>\n",
       "    </tr>\n",
       "    <tr>\n",
       "      <th>191162</th>\n",
       "      <td>0</td>\n",
       "      <td>29.21</td>\n",
       "      <td>0</td>\n",
       "      <td>0</td>\n",
       "      <td>0</td>\n",
       "      <td>0</td>\n",
       "      <td>0</td>\n",
       "      <td>0</td>\n",
       "      <td>1</td>\n",
       "      <td>0</td>\n",
       "      <td>5</td>\n",
       "      <td>0</td>\n",
       "      <td>1</td>\n",
       "      <td>0</td>\n",
       "      <td>8</td>\n",
       "      <td>0</td>\n",
       "      <td>0</td>\n",
       "      <td>0</td>\n",
       "    </tr>\n",
       "  </tbody>\n",
       "</table>\n",
       "</div>"
      ],
      "text/plain": [
       "        HeartDisease    BMI  Smoking  AlcoholDrinking  Stroke  PhysicalHealth  \\\n",
       "136378             0  24.41        1                0       1               0   \n",
       "191162             0  29.21        0                0       0               0   \n",
       "\n",
       "        MentalHealth  DiffWalking  Sex  AgeCategory  Race  Diabetic  \\\n",
       "136378             0            0    1           11     5         0   \n",
       "191162             0            0    1            0     5         0   \n",
       "\n",
       "        PhysicalActivity  GenHealth  SleepTime  Asthma  KidneyDisease  \\\n",
       "136378                 1          0          6       0              0   \n",
       "191162                 1          0          8       0              0   \n",
       "\n",
       "        SkinCancer  \n",
       "136378           0  \n",
       "191162           0  "
      ]
     },
     "execution_count": 4,
     "metadata": {},
     "output_type": "execute_result"
    }
   ],
   "source": [
    "data_set.sample(2)"
   ]
  },
  {
   "cell_type": "code",
   "execution_count": 36,
   "id": "7640b9cb",
   "metadata": {},
   "outputs": [
    {
     "name": "stdout",
     "output_type": "stream",
     "text": [
      "<class 'pandas.core.frame.DataFrame'>\n",
      "RangeIndex: 319795 entries, 0 to 319794\n",
      "Data columns (total 18 columns):\n",
      " #   Column            Non-Null Count   Dtype  \n",
      "---  ------            --------------   -----  \n",
      " 0   HeartDisease      319795 non-null  int32  \n",
      " 1   BMI               319795 non-null  float64\n",
      " 2   Smoking           319795 non-null  int32  \n",
      " 3   AlcoholDrinking   319795 non-null  int32  \n",
      " 4   Stroke            319795 non-null  int32  \n",
      " 5   PhysicalHealth    319795 non-null  int64  \n",
      " 6   MentalHealth      319795 non-null  int64  \n",
      " 7   DiffWalking       319795 non-null  int32  \n",
      " 8   Sex               319795 non-null  int32  \n",
      " 9   AgeCategory       319795 non-null  int32  \n",
      " 10  Race              319795 non-null  int32  \n",
      " 11  Diabetic          319795 non-null  int32  \n",
      " 12  PhysicalActivity  319795 non-null  int32  \n",
      " 13  GenHealth         319795 non-null  int32  \n",
      " 14  SleepTime         319795 non-null  int64  \n",
      " 15  Asthma            319795 non-null  int32  \n",
      " 16  KidneyDisease     319795 non-null  int32  \n",
      " 17  SkinCancer        319795 non-null  int32  \n",
      "dtypes: float64(1), int32(14), int64(3)\n",
      "memory usage: 26.8 MB\n"
     ]
    }
   ],
   "source": [
    "data_set.info()"
   ]
  },
  {
   "cell_type": "code",
   "execution_count": 19,
   "id": "964aa05c",
   "metadata": {},
   "outputs": [
    {
     "data": {
      "text/html": [
       "<div>\n",
       "<style scoped>\n",
       "    .dataframe tbody tr th:only-of-type {\n",
       "        vertical-align: middle;\n",
       "    }\n",
       "\n",
       "    .dataframe tbody tr th {\n",
       "        vertical-align: top;\n",
       "    }\n",
       "\n",
       "    .dataframe thead th {\n",
       "        text-align: right;\n",
       "    }\n",
       "</style>\n",
       "<table border=\"1\" class=\"dataframe\">\n",
       "  <thead>\n",
       "    <tr style=\"text-align: right;\">\n",
       "      <th></th>\n",
       "      <th>HeartDisease</th>\n",
       "      <th>BMI</th>\n",
       "      <th>Smoking</th>\n",
       "      <th>AlcoholDrinking</th>\n",
       "      <th>Stroke</th>\n",
       "      <th>PhysicalHealth</th>\n",
       "      <th>MentalHealth</th>\n",
       "      <th>DiffWalking</th>\n",
       "      <th>Sex</th>\n",
       "      <th>AgeCategory</th>\n",
       "      <th>Race</th>\n",
       "      <th>Diabetic</th>\n",
       "      <th>PhysicalActivity</th>\n",
       "      <th>GenHealth</th>\n",
       "      <th>SleepTime</th>\n",
       "      <th>Asthma</th>\n",
       "      <th>KidneyDisease</th>\n",
       "      <th>SkinCancer</th>\n",
       "    </tr>\n",
       "  </thead>\n",
       "  <tbody>\n",
       "    <tr>\n",
       "      <th>HeartDisease</th>\n",
       "      <td>1.000000</td>\n",
       "      <td>0.051803</td>\n",
       "      <td>0.107764</td>\n",
       "      <td>-0.032080</td>\n",
       "      <td>0.196835</td>\n",
       "      <td>0.170721</td>\n",
       "      <td>0.028591</td>\n",
       "      <td>0.201258</td>\n",
       "      <td>0.070040</td>\n",
       "      <td>0.233432</td>\n",
       "      <td>0.034854</td>\n",
       "      <td>0.168553</td>\n",
       "      <td>-0.100030</td>\n",
       "      <td>-0.011062</td>\n",
       "      <td>0.008327</td>\n",
       "      <td>0.041444</td>\n",
       "      <td>0.145197</td>\n",
       "      <td>0.093317</td>\n",
       "    </tr>\n",
       "    <tr>\n",
       "      <th>BMI</th>\n",
       "      <td>0.051803</td>\n",
       "      <td>1.000000</td>\n",
       "      <td>0.023118</td>\n",
       "      <td>-0.038816</td>\n",
       "      <td>0.019733</td>\n",
       "      <td>0.109788</td>\n",
       "      <td>0.064131</td>\n",
       "      <td>0.181678</td>\n",
       "      <td>0.026940</td>\n",
       "      <td>-0.004744</td>\n",
       "      <td>-0.037424</td>\n",
       "      <td>0.202472</td>\n",
       "      <td>-0.150616</td>\n",
       "      <td>0.035932</td>\n",
       "      <td>-0.051822</td>\n",
       "      <td>0.092345</td>\n",
       "      <td>0.050768</td>\n",
       "      <td>-0.033644</td>\n",
       "    </tr>\n",
       "    <tr>\n",
       "      <th>Smoking</th>\n",
       "      <td>0.107764</td>\n",
       "      <td>0.023118</td>\n",
       "      <td>1.000000</td>\n",
       "      <td>0.111768</td>\n",
       "      <td>0.061226</td>\n",
       "      <td>0.115352</td>\n",
       "      <td>0.085157</td>\n",
       "      <td>0.120074</td>\n",
       "      <td>0.085052</td>\n",
       "      <td>0.128331</td>\n",
       "      <td>0.065499</td>\n",
       "      <td>0.053847</td>\n",
       "      <td>-0.097174</td>\n",
       "      <td>0.020625</td>\n",
       "      <td>-0.030336</td>\n",
       "      <td>0.024149</td>\n",
       "      <td>0.034920</td>\n",
       "      <td>0.033977</td>\n",
       "    </tr>\n",
       "    <tr>\n",
       "      <th>AlcoholDrinking</th>\n",
       "      <td>-0.032080</td>\n",
       "      <td>-0.038816</td>\n",
       "      <td>0.111768</td>\n",
       "      <td>1.000000</td>\n",
       "      <td>-0.019858</td>\n",
       "      <td>-0.017254</td>\n",
       "      <td>0.051282</td>\n",
       "      <td>-0.035328</td>\n",
       "      <td>0.004200</td>\n",
       "      <td>-0.059528</td>\n",
       "      <td>0.036702</td>\n",
       "      <td>-0.057372</td>\n",
       "      <td>0.017487</td>\n",
       "      <td>0.001629</td>\n",
       "      <td>-0.005065</td>\n",
       "      <td>-0.002202</td>\n",
       "      <td>-0.028280</td>\n",
       "      <td>-0.005702</td>\n",
       "    </tr>\n",
       "    <tr>\n",
       "      <th>Stroke</th>\n",
       "      <td>0.196835</td>\n",
       "      <td>0.019733</td>\n",
       "      <td>0.061226</td>\n",
       "      <td>-0.019858</td>\n",
       "      <td>1.000000</td>\n",
       "      <td>0.137014</td>\n",
       "      <td>0.046467</td>\n",
       "      <td>0.174143</td>\n",
       "      <td>-0.003091</td>\n",
       "      <td>0.137822</td>\n",
       "      <td>-0.003956</td>\n",
       "      <td>0.101518</td>\n",
       "      <td>-0.079455</td>\n",
       "      <td>-0.009335</td>\n",
       "      <td>0.011900</td>\n",
       "      <td>0.038866</td>\n",
       "      <td>0.091167</td>\n",
       "      <td>0.048116</td>\n",
       "    </tr>\n",
       "    <tr>\n",
       "      <th>PhysicalHealth</th>\n",
       "      <td>0.170721</td>\n",
       "      <td>0.109788</td>\n",
       "      <td>0.115352</td>\n",
       "      <td>-0.017254</td>\n",
       "      <td>0.137014</td>\n",
       "      <td>1.000000</td>\n",
       "      <td>0.287987</td>\n",
       "      <td>0.428373</td>\n",
       "      <td>-0.040904</td>\n",
       "      <td>0.110763</td>\n",
       "      <td>-0.000847</td>\n",
       "      <td>0.151361</td>\n",
       "      <td>-0.232283</td>\n",
       "      <td>-0.035703</td>\n",
       "      <td>-0.061387</td>\n",
       "      <td>0.117907</td>\n",
       "      <td>0.142197</td>\n",
       "      <td>0.041700</td>\n",
       "    </tr>\n",
       "    <tr>\n",
       "      <th>MentalHealth</th>\n",
       "      <td>0.028591</td>\n",
       "      <td>0.064131</td>\n",
       "      <td>0.085157</td>\n",
       "      <td>0.051282</td>\n",
       "      <td>0.046467</td>\n",
       "      <td>0.287987</td>\n",
       "      <td>1.000000</td>\n",
       "      <td>0.152235</td>\n",
       "      <td>-0.100058</td>\n",
       "      <td>-0.155506</td>\n",
       "      <td>-0.014491</td>\n",
       "      <td>0.032945</td>\n",
       "      <td>-0.095808</td>\n",
       "      <td>-0.004412</td>\n",
       "      <td>-0.119717</td>\n",
       "      <td>0.114008</td>\n",
       "      <td>0.037281</td>\n",
       "      <td>-0.033412</td>\n",
       "    </tr>\n",
       "    <tr>\n",
       "      <th>DiffWalking</th>\n",
       "      <td>0.201258</td>\n",
       "      <td>0.181678</td>\n",
       "      <td>0.120074</td>\n",
       "      <td>-0.035328</td>\n",
       "      <td>0.174143</td>\n",
       "      <td>0.428373</td>\n",
       "      <td>0.152235</td>\n",
       "      <td>1.000000</td>\n",
       "      <td>-0.068860</td>\n",
       "      <td>0.243263</td>\n",
       "      <td>-0.015831</td>\n",
       "      <td>0.205502</td>\n",
       "      <td>-0.278524</td>\n",
       "      <td>-0.043552</td>\n",
       "      <td>-0.022216</td>\n",
       "      <td>0.103222</td>\n",
       "      <td>0.153064</td>\n",
       "      <td>0.064840</td>\n",
       "    </tr>\n",
       "    <tr>\n",
       "      <th>Sex</th>\n",
       "      <td>0.070040</td>\n",
       "      <td>0.026940</td>\n",
       "      <td>0.085052</td>\n",
       "      <td>0.004200</td>\n",
       "      <td>-0.003091</td>\n",
       "      <td>-0.040904</td>\n",
       "      <td>-0.100058</td>\n",
       "      <td>-0.068860</td>\n",
       "      <td>1.000000</td>\n",
       "      <td>-0.067478</td>\n",
       "      <td>0.018855</td>\n",
       "      <td>-0.013456</td>\n",
       "      <td>0.048247</td>\n",
       "      <td>-0.010283</td>\n",
       "      <td>-0.015704</td>\n",
       "      <td>-0.069191</td>\n",
       "      <td>-0.009084</td>\n",
       "      <td>0.013434</td>\n",
       "    </tr>\n",
       "    <tr>\n",
       "      <th>AgeCategory</th>\n",
       "      <td>0.233432</td>\n",
       "      <td>-0.004744</td>\n",
       "      <td>0.128331</td>\n",
       "      <td>-0.059528</td>\n",
       "      <td>0.137822</td>\n",
       "      <td>0.110763</td>\n",
       "      <td>-0.155506</td>\n",
       "      <td>0.243263</td>\n",
       "      <td>-0.067478</td>\n",
       "      <td>1.000000</td>\n",
       "      <td>0.163090</td>\n",
       "      <td>0.193745</td>\n",
       "      <td>-0.121687</td>\n",
       "      <td>0.044427</td>\n",
       "      <td>0.104953</td>\n",
       "      <td>-0.058108</td>\n",
       "      <td>0.123190</td>\n",
       "      <td>0.263537</td>\n",
       "    </tr>\n",
       "    <tr>\n",
       "      <th>Race</th>\n",
       "      <td>0.034854</td>\n",
       "      <td>-0.037424</td>\n",
       "      <td>0.065499</td>\n",
       "      <td>0.036702</td>\n",
       "      <td>-0.003956</td>\n",
       "      <td>-0.000847</td>\n",
       "      <td>-0.014491</td>\n",
       "      <td>-0.015831</td>\n",
       "      <td>0.018855</td>\n",
       "      <td>0.163090</td>\n",
       "      <td>1.000000</td>\n",
       "      <td>-0.052216</td>\n",
       "      <td>0.056767</td>\n",
       "      <td>0.050344</td>\n",
       "      <td>0.035889</td>\n",
       "      <td>-0.017975</td>\n",
       "      <td>0.003709</td>\n",
       "      <td>0.134780</td>\n",
       "    </tr>\n",
       "    <tr>\n",
       "      <th>Diabetic</th>\n",
       "      <td>0.168553</td>\n",
       "      <td>0.202472</td>\n",
       "      <td>0.053847</td>\n",
       "      <td>-0.057372</td>\n",
       "      <td>0.101518</td>\n",
       "      <td>0.151361</td>\n",
       "      <td>0.032945</td>\n",
       "      <td>0.205502</td>\n",
       "      <td>-0.013456</td>\n",
       "      <td>0.193745</td>\n",
       "      <td>-0.052216</td>\n",
       "      <td>1.000000</td>\n",
       "      <td>-0.133824</td>\n",
       "      <td>-0.010854</td>\n",
       "      <td>0.000449</td>\n",
       "      <td>0.049827</td>\n",
       "      <td>0.142917</td>\n",
       "      <td>0.032523</td>\n",
       "    </tr>\n",
       "    <tr>\n",
       "      <th>PhysicalActivity</th>\n",
       "      <td>-0.100030</td>\n",
       "      <td>-0.150616</td>\n",
       "      <td>-0.097174</td>\n",
       "      <td>0.017487</td>\n",
       "      <td>-0.079455</td>\n",
       "      <td>-0.232283</td>\n",
       "      <td>-0.095808</td>\n",
       "      <td>-0.278524</td>\n",
       "      <td>0.048247</td>\n",
       "      <td>-0.121687</td>\n",
       "      <td>0.056767</td>\n",
       "      <td>-0.133824</td>\n",
       "      <td>1.000000</td>\n",
       "      <td>0.024418</td>\n",
       "      <td>0.003849</td>\n",
       "      <td>-0.041526</td>\n",
       "      <td>-0.081827</td>\n",
       "      <td>-0.001328</td>\n",
       "    </tr>\n",
       "    <tr>\n",
       "      <th>GenHealth</th>\n",
       "      <td>-0.011062</td>\n",
       "      <td>0.035932</td>\n",
       "      <td>0.020625</td>\n",
       "      <td>0.001629</td>\n",
       "      <td>-0.009335</td>\n",
       "      <td>-0.035703</td>\n",
       "      <td>-0.004412</td>\n",
       "      <td>-0.043552</td>\n",
       "      <td>-0.010283</td>\n",
       "      <td>0.044427</td>\n",
       "      <td>0.050344</td>\n",
       "      <td>-0.010854</td>\n",
       "      <td>0.024418</td>\n",
       "      <td>1.000000</td>\n",
       "      <td>-0.004163</td>\n",
       "      <td>0.007280</td>\n",
       "      <td>-0.010580</td>\n",
       "      <td>0.018982</td>\n",
       "    </tr>\n",
       "    <tr>\n",
       "      <th>SleepTime</th>\n",
       "      <td>0.008327</td>\n",
       "      <td>-0.051822</td>\n",
       "      <td>-0.030336</td>\n",
       "      <td>-0.005065</td>\n",
       "      <td>0.011900</td>\n",
       "      <td>-0.061387</td>\n",
       "      <td>-0.119717</td>\n",
       "      <td>-0.022216</td>\n",
       "      <td>-0.015704</td>\n",
       "      <td>0.104953</td>\n",
       "      <td>0.035889</td>\n",
       "      <td>0.000449</td>\n",
       "      <td>0.003849</td>\n",
       "      <td>-0.004163</td>\n",
       "      <td>1.000000</td>\n",
       "      <td>-0.048245</td>\n",
       "      <td>0.006238</td>\n",
       "      <td>0.041266</td>\n",
       "    </tr>\n",
       "    <tr>\n",
       "      <th>Asthma</th>\n",
       "      <td>0.041444</td>\n",
       "      <td>0.092345</td>\n",
       "      <td>0.024149</td>\n",
       "      <td>-0.002202</td>\n",
       "      <td>0.038866</td>\n",
       "      <td>0.117907</td>\n",
       "      <td>0.114008</td>\n",
       "      <td>0.103222</td>\n",
       "      <td>-0.069191</td>\n",
       "      <td>-0.058108</td>\n",
       "      <td>-0.017975</td>\n",
       "      <td>0.049827</td>\n",
       "      <td>-0.041526</td>\n",
       "      <td>0.007280</td>\n",
       "      <td>-0.048245</td>\n",
       "      <td>1.000000</td>\n",
       "      <td>0.039707</td>\n",
       "      <td>-0.000396</td>\n",
       "    </tr>\n",
       "    <tr>\n",
       "      <th>KidneyDisease</th>\n",
       "      <td>0.145197</td>\n",
       "      <td>0.050768</td>\n",
       "      <td>0.034920</td>\n",
       "      <td>-0.028280</td>\n",
       "      <td>0.091167</td>\n",
       "      <td>0.142197</td>\n",
       "      <td>0.037281</td>\n",
       "      <td>0.153064</td>\n",
       "      <td>-0.009084</td>\n",
       "      <td>0.123190</td>\n",
       "      <td>0.003709</td>\n",
       "      <td>0.142917</td>\n",
       "      <td>-0.081827</td>\n",
       "      <td>-0.010580</td>\n",
       "      <td>0.006238</td>\n",
       "      <td>0.039707</td>\n",
       "      <td>1.000000</td>\n",
       "      <td>0.061816</td>\n",
       "    </tr>\n",
       "    <tr>\n",
       "      <th>SkinCancer</th>\n",
       "      <td>0.093317</td>\n",
       "      <td>-0.033644</td>\n",
       "      <td>0.033977</td>\n",
       "      <td>-0.005702</td>\n",
       "      <td>0.048116</td>\n",
       "      <td>0.041700</td>\n",
       "      <td>-0.033412</td>\n",
       "      <td>0.064840</td>\n",
       "      <td>0.013434</td>\n",
       "      <td>0.263537</td>\n",
       "      <td>0.134780</td>\n",
       "      <td>0.032523</td>\n",
       "      <td>-0.001328</td>\n",
       "      <td>0.018982</td>\n",
       "      <td>0.041266</td>\n",
       "      <td>-0.000396</td>\n",
       "      <td>0.061816</td>\n",
       "      <td>1.000000</td>\n",
       "    </tr>\n",
       "  </tbody>\n",
       "</table>\n",
       "</div>"
      ],
      "text/plain": [
       "                  HeartDisease       BMI   Smoking  AlcoholDrinking    Stroke  \\\n",
       "HeartDisease          1.000000  0.051803  0.107764        -0.032080  0.196835   \n",
       "BMI                   0.051803  1.000000  0.023118        -0.038816  0.019733   \n",
       "Smoking               0.107764  0.023118  1.000000         0.111768  0.061226   \n",
       "AlcoholDrinking      -0.032080 -0.038816  0.111768         1.000000 -0.019858   \n",
       "Stroke                0.196835  0.019733  0.061226        -0.019858  1.000000   \n",
       "PhysicalHealth        0.170721  0.109788  0.115352        -0.017254  0.137014   \n",
       "MentalHealth          0.028591  0.064131  0.085157         0.051282  0.046467   \n",
       "DiffWalking           0.201258  0.181678  0.120074        -0.035328  0.174143   \n",
       "Sex                   0.070040  0.026940  0.085052         0.004200 -0.003091   \n",
       "AgeCategory           0.233432 -0.004744  0.128331        -0.059528  0.137822   \n",
       "Race                  0.034854 -0.037424  0.065499         0.036702 -0.003956   \n",
       "Diabetic              0.168553  0.202472  0.053847        -0.057372  0.101518   \n",
       "PhysicalActivity     -0.100030 -0.150616 -0.097174         0.017487 -0.079455   \n",
       "GenHealth            -0.011062  0.035932  0.020625         0.001629 -0.009335   \n",
       "SleepTime             0.008327 -0.051822 -0.030336        -0.005065  0.011900   \n",
       "Asthma                0.041444  0.092345  0.024149        -0.002202  0.038866   \n",
       "KidneyDisease         0.145197  0.050768  0.034920        -0.028280  0.091167   \n",
       "SkinCancer            0.093317 -0.033644  0.033977        -0.005702  0.048116   \n",
       "\n",
       "                  PhysicalHealth  MentalHealth  DiffWalking       Sex  \\\n",
       "HeartDisease            0.170721      0.028591     0.201258  0.070040   \n",
       "BMI                     0.109788      0.064131     0.181678  0.026940   \n",
       "Smoking                 0.115352      0.085157     0.120074  0.085052   \n",
       "AlcoholDrinking        -0.017254      0.051282    -0.035328  0.004200   \n",
       "Stroke                  0.137014      0.046467     0.174143 -0.003091   \n",
       "PhysicalHealth          1.000000      0.287987     0.428373 -0.040904   \n",
       "MentalHealth            0.287987      1.000000     0.152235 -0.100058   \n",
       "DiffWalking             0.428373      0.152235     1.000000 -0.068860   \n",
       "Sex                    -0.040904     -0.100058    -0.068860  1.000000   \n",
       "AgeCategory             0.110763     -0.155506     0.243263 -0.067478   \n",
       "Race                   -0.000847     -0.014491    -0.015831  0.018855   \n",
       "Diabetic                0.151361      0.032945     0.205502 -0.013456   \n",
       "PhysicalActivity       -0.232283     -0.095808    -0.278524  0.048247   \n",
       "GenHealth              -0.035703     -0.004412    -0.043552 -0.010283   \n",
       "SleepTime              -0.061387     -0.119717    -0.022216 -0.015704   \n",
       "Asthma                  0.117907      0.114008     0.103222 -0.069191   \n",
       "KidneyDisease           0.142197      0.037281     0.153064 -0.009084   \n",
       "SkinCancer              0.041700     -0.033412     0.064840  0.013434   \n",
       "\n",
       "                  AgeCategory      Race  Diabetic  PhysicalActivity  \\\n",
       "HeartDisease         0.233432  0.034854  0.168553         -0.100030   \n",
       "BMI                 -0.004744 -0.037424  0.202472         -0.150616   \n",
       "Smoking              0.128331  0.065499  0.053847         -0.097174   \n",
       "AlcoholDrinking     -0.059528  0.036702 -0.057372          0.017487   \n",
       "Stroke               0.137822 -0.003956  0.101518         -0.079455   \n",
       "PhysicalHealth       0.110763 -0.000847  0.151361         -0.232283   \n",
       "MentalHealth        -0.155506 -0.014491  0.032945         -0.095808   \n",
       "DiffWalking          0.243263 -0.015831  0.205502         -0.278524   \n",
       "Sex                 -0.067478  0.018855 -0.013456          0.048247   \n",
       "AgeCategory          1.000000  0.163090  0.193745         -0.121687   \n",
       "Race                 0.163090  1.000000 -0.052216          0.056767   \n",
       "Diabetic             0.193745 -0.052216  1.000000         -0.133824   \n",
       "PhysicalActivity    -0.121687  0.056767 -0.133824          1.000000   \n",
       "GenHealth            0.044427  0.050344 -0.010854          0.024418   \n",
       "SleepTime            0.104953  0.035889  0.000449          0.003849   \n",
       "Asthma              -0.058108 -0.017975  0.049827         -0.041526   \n",
       "KidneyDisease        0.123190  0.003709  0.142917         -0.081827   \n",
       "SkinCancer           0.263537  0.134780  0.032523         -0.001328   \n",
       "\n",
       "                  GenHealth  SleepTime    Asthma  KidneyDisease  SkinCancer  \n",
       "HeartDisease      -0.011062   0.008327  0.041444       0.145197    0.093317  \n",
       "BMI                0.035932  -0.051822  0.092345       0.050768   -0.033644  \n",
       "Smoking            0.020625  -0.030336  0.024149       0.034920    0.033977  \n",
       "AlcoholDrinking    0.001629  -0.005065 -0.002202      -0.028280   -0.005702  \n",
       "Stroke            -0.009335   0.011900  0.038866       0.091167    0.048116  \n",
       "PhysicalHealth    -0.035703  -0.061387  0.117907       0.142197    0.041700  \n",
       "MentalHealth      -0.004412  -0.119717  0.114008       0.037281   -0.033412  \n",
       "DiffWalking       -0.043552  -0.022216  0.103222       0.153064    0.064840  \n",
       "Sex               -0.010283  -0.015704 -0.069191      -0.009084    0.013434  \n",
       "AgeCategory        0.044427   0.104953 -0.058108       0.123190    0.263537  \n",
       "Race               0.050344   0.035889 -0.017975       0.003709    0.134780  \n",
       "Diabetic          -0.010854   0.000449  0.049827       0.142917    0.032523  \n",
       "PhysicalActivity   0.024418   0.003849 -0.041526      -0.081827   -0.001328  \n",
       "GenHealth          1.000000  -0.004163  0.007280      -0.010580    0.018982  \n",
       "SleepTime         -0.004163   1.000000 -0.048245       0.006238    0.041266  \n",
       "Asthma             0.007280  -0.048245  1.000000       0.039707   -0.000396  \n",
       "KidneyDisease     -0.010580   0.006238  0.039707       1.000000    0.061816  \n",
       "SkinCancer         0.018982   0.041266 -0.000396       0.061816    1.000000  "
      ]
     },
     "execution_count": 19,
     "metadata": {},
     "output_type": "execute_result"
    }
   ],
   "source": [
    "data_set.corr()"
   ]
  },
  {
   "cell_type": "code",
   "execution_count": 48,
   "id": "b3f4d942",
   "metadata": {
    "scrolled": true
   },
   "outputs": [
    {
     "data": {
      "text/plain": [
       "<AxesSubplot:>"
      ]
     },
     "execution_count": 48,
     "metadata": {},
     "output_type": "execute_result"
    },
    {
     "data": {
      "image/png": "[encoded data removed]",
      "text/plain": [
       "<Figure size 1080x720 with 2 Axes>"
      ]
     },
     "metadata": {
      "needs_background": "light"
     },
     "output_type": "display_data"
    }
   ],
   "source": [
    "plt.figure(figsize=(15,10))\n",
    "sns.heatmap(data_set.corr(),annot = True )"
   ]
  },
  {
   "cell_type": "code",
   "execution_count": null,
   "id": "4629f000",
   "metadata": {},
   "outputs": [],
   "source": []
  },
  {
   "cell_type": "code",
   "execution_count": 82,
   "id": "d064df12",
   "metadata": {
    "scrolled": true
   },
   "outputs": [
    {
     "data": {
      "text/plain": [
       "Text(0.5, 1.0, \"Percentage of Patients Haven Heart Disease: 8.559545959130068 %   and  Percentage of Patients Haven't Heart Disease: 91.44045404086994 % \")"
      ]
     },
     "execution_count": 82,
     "metadata": {},
     "output_type": "execute_result"
    },
    {
     "data": {
      "image/png": "[encoded data removed]",
      "text/plain": [
       "<Figure size 432x288 with 1 Axes>"
      ]
     },
     "metadata": {},
     "output_type": "display_data"
    }
   ],
   "source": [
    "label =  \"Have Disease\",\"Haven't Disease\"\n",
    "sizes = [(Have_HeartDisease_Count / (len(data_set.HeartDisease))*100) , (No_HeartDisease_Count / (len(data_set.HeartDisease))*100) ]\n",
    "colors = [\"m\",\"c\"]\n",
    "plt.pie(sizes,labels=label,colors = colors, shadow = True,autopct = \"%1.1f%%\",explode= ([0.2,0.1]))\n",
    "plt.title(f\"Percentage of Patients Haven Heart Disease: {(Have_HeartDisease_Count / (len(data_set.HeartDisease))*100)} %   and  Percentage of Patients Haven't Heart Disease: {No_HeartDisease_Count / (len(data_set.HeartDisease))*100} % \")\n",
    "\n",
    "\n"
   ]
  },
  {
   "cell_type": "code",
   "execution_count": 83,
   "id": "3875e7cd",
   "metadata": {},
   "outputs": [
    {
     "data": {
      "image/png": "[encoded data removed]",
      "text/plain": [
       "<Figure size 432x288 with 1 Axes>"
      ]
     },
     "metadata": {
      "needs_background": "light"
     },
     "output_type": "display_data"
    }
   ],
   "source": [
    "plt.scatter(x=data_set.AgeCategory[data_set.HeartDisease==1], y=data_set.BMI[(data_set.HeartDisease==1)], c=\"black\")\n",
    "plt.scatter(x=data_set.AgeCategory[data_set.HeartDisease==0], y=data_set.BMI[(data_set.HeartDisease==0)])\n",
    "plt.legend([\"Disease\", \"Not Disease\"])\n",
    "plt.xlabel(\"Age ( 0 =(18-24) , 2 = (25-29) , 4 = (35-39) , 6 = (45-49) , 8 = (50-54) , 10 = (65-69) , 12 = (70-74) ) \")\n",
    "plt.ylabel(\"BMI\")\n",
    "plt.show()"
   ]
  },
  {
   "cell_type": "code",
   "execution_count": 84,
   "id": "456eece1",
   "metadata": {},
   "outputs": [
    {
     "data": {
      "image/png": "[encoded data removed]",
      "text/plain": [
       "<Figure size 432x288 with 1 Axes>"
      ]
     },
     "metadata": {
      "needs_background": "light"
     },
     "output_type": "display_data"
    }
   ],
   "source": [
    "sns.countplot(x = \"Smoking\", hue = \"HeartDisease\", data = data_set  )\n",
    "plt.title('Heart Disease Frequency for Smoking')\n",
    "plt.xlabel('Smoking ( 0 = NO And 1 = Yes)')\n",
    "plt.legend([\"Haven't Disease\", \"Have Disease\"])\n",
    "plt.ylabel('Frequency of Disease or Not')\n",
    "plt.show()"
   ]
  },
  {
   "cell_type": "code",
   "execution_count": 85,
   "id": "7c510426",
   "metadata": {},
   "outputs": [
    {
     "data": {
      "image/png": "[encoded data removed]",
      "text/plain": [
       "<Figure size 432x288 with 1 Axes>"
      ]
     },
     "metadata": {
      "needs_background": "light"
     },
     "output_type": "display_data"
    }
   ],
   "source": [
    "sns.countplot(x = \"AlcoholDrinking\", hue = \"HeartDisease\", data = data_set  )\n",
    "plt.title('Heart Disease Frequency for AlcoholDrinking')\n",
    "plt.xlabel('AlcoholDrinking ( 0 = NO And 1 = Yes)')\n",
    "plt.legend([\"Haven't Disease\", \"Have Disease\"])\n",
    "plt.ylabel('Frequency of Disease or Not')\n",
    "plt.show()"
   ]
  },
  {
   "cell_type": "code",
   "execution_count": 86,
   "id": "d2715559",
   "metadata": {},
   "outputs": [
    {
     "data": {
      "image/png": "[encoded data removed]",
      "text/plain": [
       "<Figure size 432x288 with 1 Axes>"
      ]
     },
     "metadata": {
      "needs_background": "light"
     },
     "output_type": "display_data"
    }
   ],
   "source": [
    "sns.countplot(x = \"Stroke\", hue = \"HeartDisease\", data = data_set  )\n",
    "plt.title('Heart Disease Frequency According To Stroke')\n",
    "plt.xlabel('AlcoholDrinking ( 0 = NO And 1 = Yes)')\n",
    "plt.legend([\"Haven't Disease\", \"Have Disease\"])\n",
    "plt.ylabel('Frequency of Disease or Not')\n",
    "plt.show()"
   ]
  },
  {
   "cell_type": "code",
   "execution_count": 5,
   "id": "6bd6430f",
   "metadata": {},
   "outputs": [
    {
     "data": {
      "image/png": "[encoded data removed]",
      "text/plain": [
       "<Figure size 1440x432 with 1 Axes>"
      ]
     },
     "metadata": {
      "needs_background": "light"
     },
     "output_type": "display_data"
    }
   ],
   "source": [
    "pd.crosstab(data_set.PhysicalHealth,data_set.HeartDisease).plot(kind=\"bar\",figsize=(20,6))\n",
    "plt.title('Heart Disease Frequency According To PhysicalHealth')\n",
    "plt.xlabel('PhysicalHealth')\n",
    "plt.legend([\"Haven't Disease\", \"Have Disease\"])\n",
    "plt.ylabel('Frequency of Disease or Not')\n",
    "plt.show()"
   ]
  },
  {
   "cell_type": "code",
   "execution_count": 88,
   "id": "bfc745e1",
   "metadata": {},
   "outputs": [
    {
     "data": {
      "image/png": "[encoded data removed]",
      "text/plain": [
       "<Figure size 432x288 with 1 Axes>"
      ]
     },
     "metadata": {
      "needs_background": "light"
     },
     "output_type": "display_data"
    }
   ],
   "source": [
    "sns.countplot(x = \"Sex\", hue = \"HeartDisease\", data = data_set  )\n",
    "plt.title('Heart Disease Frequency According To Sex')\n",
    "plt.xlabel('Sex (1 = Male and 0 = Female)')\n",
    "plt.legend([\"Haven't Disease\", \"Have Disease\"])\n",
    "plt.ylabel('Frequency of Disease or Not')\n",
    "plt.show()"
   ]
  },
  {
   "cell_type": "code",
   "execution_count": 89,
   "id": "f5310af2",
   "metadata": {},
   "outputs": [
    {
     "data": {
      "image/png": "[encoded data removed]",
      "text/plain": [
       "<Figure size 432x288 with 1 Axes>"
      ]
     },
     "metadata": {
      "needs_background": "light"
     },
     "output_type": "display_data"
    }
   ],
   "source": [
    "sns.countplot(x = \"Asthma\", hue = \"HeartDisease\", data = data_set  )\n",
    "plt.title('Heart Disease Frequency According To Asthma')\n",
    "plt.xlabel('Asthma ( 0 = No and 1 = Yes)')\n",
    "plt.legend([\"Haven't Disease\", \"Have Disease\"])\n",
    "plt.ylabel('Frequency of Disease or Not')\n",
    "plt.show()"
   ]
  },
  {
   "cell_type": "code",
   "execution_count": 8,
   "id": "52ff8771",
   "metadata": {},
   "outputs": [
    {
     "data": {
      "image/png": "[encoded data removed]",
      "text/plain": [
       "<Figure size 720x432 with 1 Axes>"
      ]
     },
     "metadata": {
      "needs_background": "light"
     },
     "output_type": "display_data"
    }
   ],
   "source": [
    "pd.crosstab(data_set.KidneyDisease,data_set.HeartDisease).plot(kind=\"bar\",figsize=(10,6) ,color=['black','white' ])\n",
    "\n",
    "plt.title('Heart Disease Frequency According To KidneyDisease')\n",
    "plt.xlabel('KidneyDisease ( 0 = No and 1 = Yes)')\n",
    "plt.legend([\"Haven't Disease\", \"Have Disease\"])\n",
    "plt.ylabel('Frequency of Disease or Not')\n",
    "plt.show()"
   ]
  },
  {
   "cell_type": "code",
   "execution_count": 9,
   "id": "feed46e2",
   "metadata": {},
   "outputs": [
    {
     "data": {
      "image/png": "[encoded data removed]",
      "text/plain": [
       "<Figure size 720x432 with 1 Axes>"
      ]
     },
     "metadata": {
      "needs_background": "light"
     },
     "output_type": "display_data"
    }
   ],
   "source": [
    "\n",
    "pd.crosstab(data_set.SkinCancer,data_set.HeartDisease).plot(kind=\"bar\",figsize=(10,6),color=['cyan','m' ])\n",
    "\n",
    "plt.title('Heart Disease Frequency According To SkinCancer')\n",
    "plt.xlabel('SkinCancer ( 0 = No and 1 = Yes)')\n",
    "plt.legend([\"Haven't Disease\", \"Have Disease\"])\n",
    "plt.ylabel('Frequency of Disease or Not')\n",
    "plt.show()"
   ]
  },
  {
   "cell_type": "code",
   "execution_count": null,
   "id": "c975e2c1",
   "metadata": {},
   "outputs": [],
   "source": []
  },
  {
   "cell_type": "markdown",
   "id": "5089d6ad",
   "metadata": {},
   "source": [
    "# Apply Feature Encoding Techniques "
   ]
  },
  {
   "cell_type": "code",
   "execution_count": 2,
   "id": "4fa43038",
   "metadata": {},
   "outputs": [],
   "source": [
    "data = pd.read_csv(\"Heart Disease.csv - Heart Disease.csv.csv\")"
   ]
  },
  {
   "cell_type": "code",
   "execution_count": 3,
   "id": "3bfab253",
   "metadata": {},
   "outputs": [
    {
     "data": {
      "text/html": [
       "<div>\n",
       "<style scoped>\n",
       "    .dataframe tbody tr th:only-of-type {\n",
       "        vertical-align: middle;\n",
       "    }\n",
       "\n",
       "    .dataframe tbody tr th {\n",
       "        vertical-align: top;\n",
       "    }\n",
       "\n",
       "    .dataframe thead th {\n",
       "        text-align: right;\n",
       "    }\n",
       "</style>\n",
       "<table border=\"1\" class=\"dataframe\">\n",
       "  <thead>\n",
       "    <tr style=\"text-align: right;\">\n",
       "      <th></th>\n",
       "      <th>HeartDisease</th>\n",
       "      <th>BMI</th>\n",
       "      <th>Smoking</th>\n",
       "      <th>AlcoholDrinking</th>\n",
       "      <th>Stroke</th>\n",
       "      <th>PhysicalHealth</th>\n",
       "      <th>MentalHealth</th>\n",
       "      <th>DiffWalking</th>\n",
       "      <th>Sex</th>\n",
       "      <th>AgeCategory</th>\n",
       "      <th>Race</th>\n",
       "      <th>Diabetic</th>\n",
       "      <th>PhysicalActivity</th>\n",
       "      <th>GenHealth</th>\n",
       "      <th>SleepTime</th>\n",
       "      <th>Asthma</th>\n",
       "      <th>KidneyDisease</th>\n",
       "      <th>SkinCancer</th>\n",
       "    </tr>\n",
       "  </thead>\n",
       "  <tbody>\n",
       "    <tr>\n",
       "      <th>25664</th>\n",
       "      <td>No</td>\n",
       "      <td>29.53</td>\n",
       "      <td>Yes</td>\n",
       "      <td>No</td>\n",
       "      <td>No</td>\n",
       "      <td>0</td>\n",
       "      <td>15</td>\n",
       "      <td>No</td>\n",
       "      <td>Male</td>\n",
       "      <td>80 or older</td>\n",
       "      <td>White</td>\n",
       "      <td>No</td>\n",
       "      <td>No</td>\n",
       "      <td>Good</td>\n",
       "      <td>8</td>\n",
       "      <td>No</td>\n",
       "      <td>Yes</td>\n",
       "      <td>No</td>\n",
       "    </tr>\n",
       "    <tr>\n",
       "      <th>214521</th>\n",
       "      <td>No</td>\n",
       "      <td>24.80</td>\n",
       "      <td>No</td>\n",
       "      <td>No</td>\n",
       "      <td>No</td>\n",
       "      <td>0</td>\n",
       "      <td>0</td>\n",
       "      <td>No</td>\n",
       "      <td>Female</td>\n",
       "      <td>30-34</td>\n",
       "      <td>Hispanic</td>\n",
       "      <td>No</td>\n",
       "      <td>Yes</td>\n",
       "      <td>Very good</td>\n",
       "      <td>8</td>\n",
       "      <td>Yes</td>\n",
       "      <td>No</td>\n",
       "      <td>No</td>\n",
       "    </tr>\n",
       "    <tr>\n",
       "      <th>48448</th>\n",
       "      <td>No</td>\n",
       "      <td>44.29</td>\n",
       "      <td>Yes</td>\n",
       "      <td>No</td>\n",
       "      <td>No</td>\n",
       "      <td>0</td>\n",
       "      <td>0</td>\n",
       "      <td>No</td>\n",
       "      <td>Male</td>\n",
       "      <td>40-44</td>\n",
       "      <td>White</td>\n",
       "      <td>Yes</td>\n",
       "      <td>No</td>\n",
       "      <td>Good</td>\n",
       "      <td>6</td>\n",
       "      <td>No</td>\n",
       "      <td>No</td>\n",
       "      <td>No</td>\n",
       "    </tr>\n",
       "    <tr>\n",
       "      <th>43877</th>\n",
       "      <td>No</td>\n",
       "      <td>44.29</td>\n",
       "      <td>No</td>\n",
       "      <td>Yes</td>\n",
       "      <td>No</td>\n",
       "      <td>0</td>\n",
       "      <td>6</td>\n",
       "      <td>No</td>\n",
       "      <td>Female</td>\n",
       "      <td>40-44</td>\n",
       "      <td>American Indian/Alaskan Native</td>\n",
       "      <td>No, borderline diabetes</td>\n",
       "      <td>No</td>\n",
       "      <td>Very good</td>\n",
       "      <td>12</td>\n",
       "      <td>No</td>\n",
       "      <td>Yes</td>\n",
       "      <td>No</td>\n",
       "    </tr>\n",
       "    <tr>\n",
       "      <th>87992</th>\n",
       "      <td>No</td>\n",
       "      <td>30.23</td>\n",
       "      <td>Yes</td>\n",
       "      <td>No</td>\n",
       "      <td>No</td>\n",
       "      <td>0</td>\n",
       "      <td>0</td>\n",
       "      <td>No</td>\n",
       "      <td>Female</td>\n",
       "      <td>65-69</td>\n",
       "      <td>White</td>\n",
       "      <td>Yes</td>\n",
       "      <td>Yes</td>\n",
       "      <td>Good</td>\n",
       "      <td>8</td>\n",
       "      <td>No</td>\n",
       "      <td>No</td>\n",
       "      <td>No</td>\n",
       "    </tr>\n",
       "    <tr>\n",
       "      <th>284531</th>\n",
       "      <td>No</td>\n",
       "      <td>23.80</td>\n",
       "      <td>Yes</td>\n",
       "      <td>No</td>\n",
       "      <td>No</td>\n",
       "      <td>0</td>\n",
       "      <td>0</td>\n",
       "      <td>Yes</td>\n",
       "      <td>Female</td>\n",
       "      <td>65-69</td>\n",
       "      <td>White</td>\n",
       "      <td>No</td>\n",
       "      <td>Yes</td>\n",
       "      <td>Good</td>\n",
       "      <td>7</td>\n",
       "      <td>No</td>\n",
       "      <td>No</td>\n",
       "      <td>No</td>\n",
       "    </tr>\n",
       "  </tbody>\n",
       "</table>\n",
       "</div>"
      ],
      "text/plain": [
       "       HeartDisease    BMI Smoking AlcoholDrinking Stroke  PhysicalHealth  \\\n",
       "25664            No  29.53     Yes              No     No               0   \n",
       "214521           No  24.80      No              No     No               0   \n",
       "48448            No  44.29     Yes              No     No               0   \n",
       "43877            No  44.29      No             Yes     No               0   \n",
       "87992            No  30.23     Yes              No     No               0   \n",
       "284531           No  23.80     Yes              No     No               0   \n",
       "\n",
       "        MentalHealth DiffWalking     Sex  AgeCategory  \\\n",
       "25664             15          No    Male  80 or older   \n",
       "214521             0          No  Female        30-34   \n",
       "48448              0          No    Male        40-44   \n",
       "43877              6          No  Female        40-44   \n",
       "87992              0          No  Female        65-69   \n",
       "284531             0         Yes  Female        65-69   \n",
       "\n",
       "                                  Race                 Diabetic  \\\n",
       "25664                            White                       No   \n",
       "214521                        Hispanic                       No   \n",
       "48448                            White                      Yes   \n",
       "43877   American Indian/Alaskan Native  No, borderline diabetes   \n",
       "87992                            White                      Yes   \n",
       "284531                           White                       No   \n",
       "\n",
       "       PhysicalActivity  GenHealth  SleepTime Asthma KidneyDisease SkinCancer  \n",
       "25664                No       Good          8     No           Yes         No  \n",
       "214521              Yes  Very good          8    Yes            No         No  \n",
       "48448                No       Good          6     No            No         No  \n",
       "43877                No  Very good         12     No           Yes         No  \n",
       "87992               Yes       Good          8     No            No         No  \n",
       "284531              Yes       Good          7     No            No         No  "
      ]
     },
     "execution_count": 3,
     "metadata": {},
     "output_type": "execute_result"
    }
   ],
   "source": [
    "data.sample(6)"
   ]
  },
  {
   "cell_type": "code",
   "execution_count": 4,
   "id": "23f9e34f",
   "metadata": {},
   "outputs": [
    {
     "data": {
      "text/plain": [
       "(319795, 18)"
      ]
     },
     "execution_count": 4,
     "metadata": {},
     "output_type": "execute_result"
    }
   ],
   "source": [
    "data.shape"
   ]
  },
  {
   "cell_type": "code",
   "execution_count": 5,
   "id": "39597743",
   "metadata": {},
   "outputs": [
    {
     "name": "stdout",
     "output_type": "stream",
     "text": [
      "<class 'pandas.core.frame.DataFrame'>\n",
      "RangeIndex: 319795 entries, 0 to 319794\n",
      "Data columns (total 18 columns):\n",
      " #   Column            Non-Null Count   Dtype  \n",
      "---  ------            --------------   -----  \n",
      " 0   HeartDisease      319795 non-null  object \n",
      " 1   BMI               319795 non-null  float64\n",
      " 2   Smoking           319795 non-null  object \n",
      " 3   AlcoholDrinking   319795 non-null  object \n",
      " 4   Stroke            319795 non-null  object \n",
      " 5   PhysicalHealth    319795 non-null  int64  \n",
      " 6   MentalHealth      319795 non-null  int64  \n",
      " 7   DiffWalking       319795 non-null  object \n",
      " 8   Sex               319795 non-null  object \n",
      " 9   AgeCategory       319795 non-null  object \n",
      " 10  Race              319795 non-null  object \n",
      " 11  Diabetic          319795 non-null  object \n",
      " 12  PhysicalActivity  319795 non-null  object \n",
      " 13  GenHealth         319795 non-null  object \n",
      " 14  SleepTime         319795 non-null  int64  \n",
      " 15  Asthma            319795 non-null  object \n",
      " 16  KidneyDisease     319795 non-null  object \n",
      " 17  SkinCancer        319795 non-null  object \n",
      "dtypes: float64(1), int64(3), object(14)\n",
      "memory usage: 43.9+ MB\n"
     ]
    }
   ],
   "source": [
    "data.info()"
   ]
  },
  {
   "cell_type": "raw",
   "id": "82975a86",
   "metadata": {},
   "source": [
    "---Here the data type of 14 features is the object\n",
    "---So have to encode these 14 features\n",
    "\n",
    "1---I will apply label encoding technique on these 11 features =  [ HeartDisease, Smoking , AlcoholDrinking , Stroke , DiffWalking ,Sex  ,  Diabetic , PhysicalActivity , Asthma , KidneyDisease , SkinCancer]\n",
    "\n",
    "2---apply Ordinal encoding technique on this feature = [ AgeCategory ]\n",
    "\n",
    "3---apply One Hot encoding technique on these 2 features = [ GenHealth , Race]"
   ]
  },
  {
   "cell_type": "code",
   "execution_count": 3,
   "id": "c4ccacab",
   "metadata": {},
   "outputs": [],
   "source": [
    "# 1 apply label encoding technique\n",
    "\n",
    "columns = [ \"HeartDisease\", \"Smoking\" , \"AlcoholDrinking\" , \"Stroke\" , \"DiffWalking\" ,\"Sex\"  ,  \"Diabetic\" , \"PhysicalActivity\" , \"Asthma\" , \"KidneyDisease\" , \"SkinCancer\"]\n",
    "\n",
    "for column in columns:\n",
    "        data[column] = LabelEncoder().fit_transform(data[column])"
   ]
  },
  {
   "cell_type": "code",
   "execution_count": 4,
   "id": "82e8d40a",
   "metadata": {},
   "outputs": [
    {
     "data": {
      "text/plain": [
       "array(['55-59', '80 or older', '65-69', '75-79', '40-44', '70-74',\n",
       "       '60-64', '50-54', '45-49', '18-24', '35-39', '30-34', '25-29'],\n",
       "      dtype=object)"
      ]
     },
     "execution_count": 4,
     "metadata": {},
     "output_type": "execute_result"
    }
   ],
   "source": [
    "# 2 apply Ordinal encoding technique\n",
    "data.AgeCategory.unique()"
   ]
  },
  {
   "cell_type": "code",
   "execution_count": 5,
   "id": "d34e5793",
   "metadata": {},
   "outputs": [],
   "source": [
    "\n",
    "age = ['18-24','25-29', '30-34','35-39','40-44', '45-49', '50-54','55-59','60-64','65-69', '70-74', '75-79', '80 or older']\n",
    "ordinal = OrdinalEncoder(categories = [age])\n",
    "data[\"AgeCategory\"] = ordinal.fit_transform(data[[\"AgeCategory\"]])\n"
   ]
  },
  {
   "cell_type": "code",
   "execution_count": 6,
   "id": "10f279c4",
   "metadata": {},
   "outputs": [],
   "source": [
    "# 3 apply One Hot encoding technique\n",
    "\n",
    "columns = [\"GenHealth\" , \"Race\"]\n",
    "\n",
    "for column in columns :\n",
    "    dummy_value = pd.get_dummies(data[column], drop_first = True)\n",
    "    \n",
    "    data = pd.concat([data,dummy_value],axis=1).drop(column,axis=1)"
   ]
  },
  {
   "cell_type": "code",
   "execution_count": 8,
   "id": "bae4c535",
   "metadata": {},
   "outputs": [
    {
     "name": "stdout",
     "output_type": "stream",
     "text": [
      "<class 'pandas.core.frame.DataFrame'>\n",
      "RangeIndex: 319795 entries, 0 to 319794\n",
      "Data columns (total 25 columns):\n",
      " #   Column            Non-Null Count   Dtype  \n",
      "---  ------            --------------   -----  \n",
      " 0   HeartDisease      319795 non-null  int32  \n",
      " 1   BMI               319795 non-null  float64\n",
      " 2   Smoking           319795 non-null  int32  \n",
      " 3   AlcoholDrinking   319795 non-null  int32  \n",
      " 4   Stroke            319795 non-null  int32  \n",
      " 5   PhysicalHealth    319795 non-null  int64  \n",
      " 6   MentalHealth      319795 non-null  int64  \n",
      " 7   DiffWalking       319795 non-null  int32  \n",
      " 8   Sex               319795 non-null  int32  \n",
      " 9   AgeCategory       319795 non-null  float64\n",
      " 10  Diabetic          319795 non-null  int32  \n",
      " 11  PhysicalActivity  319795 non-null  int32  \n",
      " 12  SleepTime         319795 non-null  int64  \n",
      " 13  Asthma            319795 non-null  int32  \n",
      " 14  KidneyDisease     319795 non-null  int32  \n",
      " 15  SkinCancer        319795 non-null  int32  \n",
      " 16  Fair              319795 non-null  uint8  \n",
      " 17  Good              319795 non-null  uint8  \n",
      " 18  Poor              319795 non-null  uint8  \n",
      " 19  Very good         319795 non-null  uint8  \n",
      " 20  Asian             319795 non-null  uint8  \n",
      " 21  Black             319795 non-null  uint8  \n",
      " 22  Hispanic          319795 non-null  uint8  \n",
      " 23  Other             319795 non-null  uint8  \n",
      " 24  White             319795 non-null  uint8  \n",
      "dtypes: float64(2), int32(11), int64(3), uint8(9)\n",
      "memory usage: 28.4 MB\n"
     ]
    }
   ],
   "source": [
    "data.info()"
   ]
  },
  {
   "cell_type": "code",
   "execution_count": 9,
   "id": "ae87f088",
   "metadata": {},
   "outputs": [
    {
     "data": {
      "text/html": [
       "<div>\n",
       "<style scoped>\n",
       "    .dataframe tbody tr th:only-of-type {\n",
       "        vertical-align: middle;\n",
       "    }\n",
       "\n",
       "    .dataframe tbody tr th {\n",
       "        vertical-align: top;\n",
       "    }\n",
       "\n",
       "    .dataframe thead th {\n",
       "        text-align: right;\n",
       "    }\n",
       "</style>\n",
       "<table border=\"1\" class=\"dataframe\">\n",
       "  <thead>\n",
       "    <tr style=\"text-align: right;\">\n",
       "      <th></th>\n",
       "      <th>HeartDisease</th>\n",
       "      <th>BMI</th>\n",
       "      <th>Smoking</th>\n",
       "      <th>AlcoholDrinking</th>\n",
       "      <th>Stroke</th>\n",
       "      <th>PhysicalHealth</th>\n",
       "      <th>MentalHealth</th>\n",
       "      <th>DiffWalking</th>\n",
       "      <th>Sex</th>\n",
       "      <th>AgeCategory</th>\n",
       "      <th>...</th>\n",
       "      <th>SkinCancer</th>\n",
       "      <th>Fair</th>\n",
       "      <th>Good</th>\n",
       "      <th>Poor</th>\n",
       "      <th>Very good</th>\n",
       "      <th>Asian</th>\n",
       "      <th>Black</th>\n",
       "      <th>Hispanic</th>\n",
       "      <th>Other</th>\n",
       "      <th>White</th>\n",
       "    </tr>\n",
       "  </thead>\n",
       "  <tbody>\n",
       "    <tr>\n",
       "      <th>142709</th>\n",
       "      <td>0</td>\n",
       "      <td>28.34</td>\n",
       "      <td>0</td>\n",
       "      <td>0</td>\n",
       "      <td>0</td>\n",
       "      <td>4</td>\n",
       "      <td>2</td>\n",
       "      <td>0</td>\n",
       "      <td>0</td>\n",
       "      <td>6.0</td>\n",
       "      <td>...</td>\n",
       "      <td>0</td>\n",
       "      <td>0</td>\n",
       "      <td>0</td>\n",
       "      <td>0</td>\n",
       "      <td>1</td>\n",
       "      <td>0</td>\n",
       "      <td>0</td>\n",
       "      <td>1</td>\n",
       "      <td>0</td>\n",
       "      <td>0</td>\n",
       "    </tr>\n",
       "    <tr>\n",
       "      <th>215478</th>\n",
       "      <td>0</td>\n",
       "      <td>39.16</td>\n",
       "      <td>0</td>\n",
       "      <td>0</td>\n",
       "      <td>0</td>\n",
       "      <td>0</td>\n",
       "      <td>0</td>\n",
       "      <td>0</td>\n",
       "      <td>0</td>\n",
       "      <td>2.0</td>\n",
       "      <td>...</td>\n",
       "      <td>0</td>\n",
       "      <td>1</td>\n",
       "      <td>0</td>\n",
       "      <td>0</td>\n",
       "      <td>0</td>\n",
       "      <td>0</td>\n",
       "      <td>0</td>\n",
       "      <td>1</td>\n",
       "      <td>0</td>\n",
       "      <td>0</td>\n",
       "    </tr>\n",
       "    <tr>\n",
       "      <th>206145</th>\n",
       "      <td>0</td>\n",
       "      <td>24.41</td>\n",
       "      <td>1</td>\n",
       "      <td>0</td>\n",
       "      <td>0</td>\n",
       "      <td>0</td>\n",
       "      <td>1</td>\n",
       "      <td>0</td>\n",
       "      <td>1</td>\n",
       "      <td>9.0</td>\n",
       "      <td>...</td>\n",
       "      <td>0</td>\n",
       "      <td>0</td>\n",
       "      <td>1</td>\n",
       "      <td>0</td>\n",
       "      <td>0</td>\n",
       "      <td>0</td>\n",
       "      <td>1</td>\n",
       "      <td>0</td>\n",
       "      <td>0</td>\n",
       "      <td>0</td>\n",
       "    </tr>\n",
       "    <tr>\n",
       "      <th>61176</th>\n",
       "      <td>0</td>\n",
       "      <td>25.40</td>\n",
       "      <td>1</td>\n",
       "      <td>0</td>\n",
       "      <td>0</td>\n",
       "      <td>0</td>\n",
       "      <td>0</td>\n",
       "      <td>0</td>\n",
       "      <td>1</td>\n",
       "      <td>5.0</td>\n",
       "      <td>...</td>\n",
       "      <td>0</td>\n",
       "      <td>0</td>\n",
       "      <td>0</td>\n",
       "      <td>0</td>\n",
       "      <td>1</td>\n",
       "      <td>1</td>\n",
       "      <td>0</td>\n",
       "      <td>0</td>\n",
       "      <td>0</td>\n",
       "      <td>0</td>\n",
       "    </tr>\n",
       "    <tr>\n",
       "      <th>73951</th>\n",
       "      <td>0</td>\n",
       "      <td>33.67</td>\n",
       "      <td>0</td>\n",
       "      <td>0</td>\n",
       "      <td>0</td>\n",
       "      <td>0</td>\n",
       "      <td>0</td>\n",
       "      <td>0</td>\n",
       "      <td>1</td>\n",
       "      <td>10.0</td>\n",
       "      <td>...</td>\n",
       "      <td>0</td>\n",
       "      <td>0</td>\n",
       "      <td>1</td>\n",
       "      <td>0</td>\n",
       "      <td>0</td>\n",
       "      <td>0</td>\n",
       "      <td>0</td>\n",
       "      <td>0</td>\n",
       "      <td>0</td>\n",
       "      <td>1</td>\n",
       "    </tr>\n",
       "    <tr>\n",
       "      <th>104370</th>\n",
       "      <td>0</td>\n",
       "      <td>23.91</td>\n",
       "      <td>1</td>\n",
       "      <td>0</td>\n",
       "      <td>0</td>\n",
       "      <td>14</td>\n",
       "      <td>0</td>\n",
       "      <td>1</td>\n",
       "      <td>0</td>\n",
       "      <td>9.0</td>\n",
       "      <td>...</td>\n",
       "      <td>0</td>\n",
       "      <td>0</td>\n",
       "      <td>1</td>\n",
       "      <td>0</td>\n",
       "      <td>0</td>\n",
       "      <td>0</td>\n",
       "      <td>0</td>\n",
       "      <td>0</td>\n",
       "      <td>0</td>\n",
       "      <td>1</td>\n",
       "    </tr>\n",
       "    <tr>\n",
       "      <th>197873</th>\n",
       "      <td>0</td>\n",
       "      <td>28.32</td>\n",
       "      <td>0</td>\n",
       "      <td>0</td>\n",
       "      <td>0</td>\n",
       "      <td>20</td>\n",
       "      <td>30</td>\n",
       "      <td>0</td>\n",
       "      <td>0</td>\n",
       "      <td>5.0</td>\n",
       "      <td>...</td>\n",
       "      <td>0</td>\n",
       "      <td>0</td>\n",
       "      <td>0</td>\n",
       "      <td>1</td>\n",
       "      <td>0</td>\n",
       "      <td>0</td>\n",
       "      <td>0</td>\n",
       "      <td>1</td>\n",
       "      <td>0</td>\n",
       "      <td>0</td>\n",
       "    </tr>\n",
       "    <tr>\n",
       "      <th>65623</th>\n",
       "      <td>0</td>\n",
       "      <td>22.05</td>\n",
       "      <td>0</td>\n",
       "      <td>0</td>\n",
       "      <td>0</td>\n",
       "      <td>2</td>\n",
       "      <td>10</td>\n",
       "      <td>0</td>\n",
       "      <td>0</td>\n",
       "      <td>9.0</td>\n",
       "      <td>...</td>\n",
       "      <td>0</td>\n",
       "      <td>0</td>\n",
       "      <td>0</td>\n",
       "      <td>0</td>\n",
       "      <td>1</td>\n",
       "      <td>0</td>\n",
       "      <td>0</td>\n",
       "      <td>0</td>\n",
       "      <td>0</td>\n",
       "      <td>1</td>\n",
       "    </tr>\n",
       "    <tr>\n",
       "      <th>195825</th>\n",
       "      <td>0</td>\n",
       "      <td>43.94</td>\n",
       "      <td>0</td>\n",
       "      <td>0</td>\n",
       "      <td>0</td>\n",
       "      <td>7</td>\n",
       "      <td>3</td>\n",
       "      <td>1</td>\n",
       "      <td>0</td>\n",
       "      <td>7.0</td>\n",
       "      <td>...</td>\n",
       "      <td>1</td>\n",
       "      <td>0</td>\n",
       "      <td>1</td>\n",
       "      <td>0</td>\n",
       "      <td>0</td>\n",
       "      <td>0</td>\n",
       "      <td>0</td>\n",
       "      <td>0</td>\n",
       "      <td>0</td>\n",
       "      <td>1</td>\n",
       "    </tr>\n",
       "    <tr>\n",
       "      <th>307478</th>\n",
       "      <td>1</td>\n",
       "      <td>32.55</td>\n",
       "      <td>0</td>\n",
       "      <td>0</td>\n",
       "      <td>0</td>\n",
       "      <td>0</td>\n",
       "      <td>0</td>\n",
       "      <td>0</td>\n",
       "      <td>1</td>\n",
       "      <td>9.0</td>\n",
       "      <td>...</td>\n",
       "      <td>0</td>\n",
       "      <td>0</td>\n",
       "      <td>0</td>\n",
       "      <td>0</td>\n",
       "      <td>1</td>\n",
       "      <td>0</td>\n",
       "      <td>0</td>\n",
       "      <td>0</td>\n",
       "      <td>0</td>\n",
       "      <td>1</td>\n",
       "    </tr>\n",
       "  </tbody>\n",
       "</table>\n",
       "<p>10 rows × 25 columns</p>\n",
       "</div>"
      ],
      "text/plain": [
       "        HeartDisease    BMI  Smoking  AlcoholDrinking  Stroke  PhysicalHealth  \\\n",
       "142709             0  28.34        0                0       0               4   \n",
       "215478             0  39.16        0                0       0               0   \n",
       "206145             0  24.41        1                0       0               0   \n",
       "61176              0  25.40        1                0       0               0   \n",
       "73951              0  33.67        0                0       0               0   \n",
       "104370             0  23.91        1                0       0              14   \n",
       "197873             0  28.32        0                0       0              20   \n",
       "65623              0  22.05        0                0       0               2   \n",
       "195825             0  43.94        0                0       0               7   \n",
       "307478             1  32.55        0                0       0               0   \n",
       "\n",
       "        MentalHealth  DiffWalking  Sex  AgeCategory  ...  SkinCancer  Fair  \\\n",
       "142709             2            0    0          6.0  ...           0     0   \n",
       "215478             0            0    0          2.0  ...           0     1   \n",
       "206145             1            0    1          9.0  ...           0     0   \n",
       "61176              0            0    1          5.0  ...           0     0   \n",
       "73951              0            0    1         10.0  ...           0     0   \n",
       "104370             0            1    0          9.0  ...           0     0   \n",
       "197873            30            0    0          5.0  ...           0     0   \n",
       "65623             10            0    0          9.0  ...           0     0   \n",
       "195825             3            1    0          7.0  ...           1     0   \n",
       "307478             0            0    1          9.0  ...           0     0   \n",
       "\n",
       "        Good  Poor  Very good  Asian  Black  Hispanic  Other  White  \n",
       "142709     0     0          1      0      0         1      0      0  \n",
       "215478     0     0          0      0      0         1      0      0  \n",
       "206145     1     0          0      0      1         0      0      0  \n",
       "61176      0     0          1      1      0         0      0      0  \n",
       "73951      1     0          0      0      0         0      0      1  \n",
       "104370     1     0          0      0      0         0      0      1  \n",
       "197873     0     1          0      0      0         1      0      0  \n",
       "65623      0     0          1      0      0         0      0      1  \n",
       "195825     1     0          0      0      0         0      0      1  \n",
       "307478     0     0          1      0      0         0      0      1  \n",
       "\n",
       "[10 rows x 25 columns]"
      ]
     },
     "execution_count": 9,
     "metadata": {},
     "output_type": "execute_result"
    }
   ],
   "source": [
    "data.sample(10)"
   ]
  },
  {
   "cell_type": "code",
   "execution_count": null,
   "id": "865ac490",
   "metadata": {},
   "outputs": [],
   "source": []
  },
  {
   "cell_type": "markdown",
   "id": "efa117b6",
   "metadata": {},
   "source": [
    "# Separate Features , Label --- and Imbalanced Data Handling"
   ]
  },
  {
   "cell_type": "code",
   "execution_count": 8,
   "id": "e6075f2a",
   "metadata": {},
   "outputs": [],
   "source": [
    "Normal_Featurs = data.drop(\"HeartDisease\" ,axis = 1)\n",
    "Normal_Classes = data.HeartDisease"
   ]
  },
  {
   "cell_type": "code",
   "execution_count": 8,
   "id": "3c083779",
   "metadata": {},
   "outputs": [
    {
     "data": {
      "text/plain": [
       "(319795, 24)"
      ]
     },
     "execution_count": 8,
     "metadata": {},
     "output_type": "execute_result"
    }
   ],
   "source": [
    "Normal_Featurs.shape"
   ]
  },
  {
   "cell_type": "code",
   "execution_count": 9,
   "id": "8d40b00a",
   "metadata": {},
   "outputs": [
    {
     "data": {
      "text/plain": [
       "(319795,)"
      ]
     },
     "execution_count": 9,
     "metadata": {},
     "output_type": "execute_result"
    }
   ],
   "source": [
    "Normal_Classes.shape"
   ]
  },
  {
   "cell_type": "code",
   "execution_count": 10,
   "id": "aeeb5f7c",
   "metadata": {},
   "outputs": [
    {
     "data": {
      "text/plain": [
       "0    292422\n",
       "1     27373\n",
       "Name: HeartDisease, dtype: int64"
      ]
     },
     "execution_count": 10,
     "metadata": {},
     "output_type": "execute_result"
    }
   ],
   "source": [
    "Normal_Classes.value_counts()"
   ]
  },
  {
   "cell_type": "raw",
   "id": "94b9e8e4",
   "metadata": {},
   "source": [
    "---The data set is a lot of imbalance\n",
    "---So I will apply 3 imbalance data handling techniques ( RandomOverSampler , NearMiss = UnderSampler and SMOTETomek ) in the data set\n",
    "---And I will train the model with each\n",
    "\n",
    "1. Apply RandomOverSampler\n",
    "\n",
    "2. Apply NearMiss = UnderSampler\n",
    "\n",
    "3. Apply SMOTETomek"
   ]
  },
  {
   "cell_type": "code",
   "execution_count": 19,
   "id": "e4423598",
   "metadata": {},
   "outputs": [
    {
     "name": "stdout",
     "output_type": "stream",
     "text": [
      "Requirement already satisfied: imblearn in c:\\users\\city\\anaconda3\\lib\\site-packages (0.0)Note: you may need to restart the kernel to use updated packages.\n",
      "Requirement already satisfied: imbalanced-learn in c:\\users\\city\\anaconda3\\lib\\site-packages (from imblearn) (0.9.0)\n",
      "Requirement already satisfied: scikit-learn>=1.0.1 in c:\\users\\city\\anaconda3\\lib\\site-packages (from imbalanced-learn->imblearn) (1.0.2)\n",
      "Requirement already satisfied: scipy>=1.1.0 in c:\\users\\city\\anaconda3\\lib\\site-packages (from imbalanced-learn->imblearn) (1.7.1)\n",
      "Requirement already satisfied: threadpoolctl>=2.0.0 in c:\\users\\city\\anaconda3\\lib\\site-packages (from imbalanced-learn->imblearn) (2.2.0)\n",
      "Requirement already satisfied: joblib>=0.11 in c:\\users\\city\\anaconda3\\lib\\site-packages (from imbalanced-learn->imblearn) (1.1.0)\n",
      "Requirement already satisfied: numpy>=1.14.6 in c:\\users\\city\\anaconda3\\lib\\site-packages (from imbalanced-learn->imblearn) (1.20.3)\n",
      "\n"
     ]
    }
   ],
   "source": [
    "%pip install imblearn"
   ]
  },
  {
   "cell_type": "code",
   "execution_count": 9,
   "id": "b8b0eb14",
   "metadata": {},
   "outputs": [],
   "source": [
    "#1. Apply RandomOverSampler\n",
    "\n",
    "from imblearn.over_sampling import RandomOverSampler\n",
    "ROS = RandomOverSampler(random_state = 42)\n",
    "\n",
    "OverSampling_Featurs , OverSampling_Classes = ROS.fit_resample(Normal_Featurs , Normal_Classes)"
   ]
  },
  {
   "cell_type": "code",
   "execution_count": 13,
   "id": "de8ab748",
   "metadata": {},
   "outputs": [
    {
     "data": {
      "text/plain": [
       "(584844, 24)"
      ]
     },
     "execution_count": 13,
     "metadata": {},
     "output_type": "execute_result"
    }
   ],
   "source": [
    "OverSampling_Featurs.shape"
   ]
  },
  {
   "cell_type": "code",
   "execution_count": 14,
   "id": "2c320db3",
   "metadata": {},
   "outputs": [
    {
     "data": {
      "text/plain": [
       "(584844,)"
      ]
     },
     "execution_count": 14,
     "metadata": {},
     "output_type": "execute_result"
    }
   ],
   "source": [
    "OverSampling_Classes.shape"
   ]
  },
  {
   "cell_type": "code",
   "execution_count": 15,
   "id": "411502d8",
   "metadata": {},
   "outputs": [
    {
     "data": {
      "text/plain": [
       "0    292422\n",
       "1    292422\n",
       "Name: HeartDisease, dtype: int64"
      ]
     },
     "execution_count": 15,
     "metadata": {},
     "output_type": "execute_result"
    }
   ],
   "source": [
    "OverSampling_Classes.value_counts()"
   ]
  },
  {
   "cell_type": "code",
   "execution_count": null,
   "id": "b41ebe13",
   "metadata": {},
   "outputs": [],
   "source": []
  },
  {
   "cell_type": "code",
   "execution_count": 10,
   "id": "bc06c48e",
   "metadata": {},
   "outputs": [],
   "source": [
    "#2. Apply NearMiss = UnderSampler\n",
    "\n",
    "from imblearn.under_sampling import NearMiss\n",
    "\n",
    "Near = NearMiss()\n",
    "\n",
    "UnderSampling_Featurs , UnderSampling_Classes = Near.fit_resample(Normal_Featurs , Normal_Classes)"
   ]
  },
  {
   "cell_type": "code",
   "execution_count": 23,
   "id": "c2122b67",
   "metadata": {},
   "outputs": [
    {
     "data": {
      "text/plain": [
       "(54746, 24)"
      ]
     },
     "execution_count": 23,
     "metadata": {},
     "output_type": "execute_result"
    }
   ],
   "source": [
    "UnderSampling_Featurs.shape"
   ]
  },
  {
   "cell_type": "code",
   "execution_count": 24,
   "id": "21b8e765",
   "metadata": {},
   "outputs": [
    {
     "data": {
      "text/plain": [
       "(54746,)"
      ]
     },
     "execution_count": 24,
     "metadata": {},
     "output_type": "execute_result"
    }
   ],
   "source": [
    "UnderSampling_Classes.shape\n"
   ]
  },
  {
   "cell_type": "code",
   "execution_count": 25,
   "id": "751d6f96",
   "metadata": {},
   "outputs": [
    {
     "data": {
      "text/plain": [
       "0    27373\n",
       "1    27373\n",
       "Name: HeartDisease, dtype: int64"
      ]
     },
     "execution_count": 25,
     "metadata": {},
     "output_type": "execute_result"
    }
   ],
   "source": [
    "UnderSampling_Classes.value_counts()"
   ]
  },
  {
   "cell_type": "code",
   "execution_count": null,
   "id": "84aaec91",
   "metadata": {},
   "outputs": [],
   "source": []
  },
  {
   "cell_type": "code",
   "execution_count": null,
   "id": "d2aab596",
   "metadata": {},
   "outputs": [],
   "source": [
    "#3. Apply NearMiss = UnderSampler\n",
    "from imblearn.combine import SMOTETomek\n",
    "\n",
    "SM = SMOTETomek(random_state = 42)\n",
    "\n",
    "Combine_Featurs , Combine_Classes = SM.fit_resample(Normal_Featurs ,Normal_Classes)"
   ]
  },
  {
   "cell_type": "code",
   "execution_count": null,
   "id": "f0687c70",
   "metadata": {},
   "outputs": [],
   "source": [
    "Combine_Featurs.shape"
   ]
  },
  {
   "cell_type": "code",
   "execution_count": null,
   "id": "9b78f3c4",
   "metadata": {},
   "outputs": [],
   "source": [
    "Combine_Classes.shape"
   ]
  },
  {
   "cell_type": "code",
   "execution_count": null,
   "id": "b4ab8a78",
   "metadata": {},
   "outputs": [],
   "source": [
    "Combine_Classes.value_counts()"
   ]
  },
  {
   "cell_type": "code",
   "execution_count": null,
   "id": "97c8f9c5",
   "metadata": {},
   "outputs": [],
   "source": []
  },
  {
   "cell_type": "markdown",
   "id": "e0508d3a",
   "metadata": {},
   "source": [
    "# Apply KNN_Classifier and Cross Validation Techniques"
   ]
  },
  {
   "cell_type": "raw",
   "id": "297302b9",
   "metadata": {},
   "source": [
    "---Here i will apply KNN_Classifier algorithm and three cross validation techniques on (Normal, Over_Sampling , Under_Sampling and Combine ) data sets .\n",
    "\n",
    "1st --- Apply KNN_Classifier with Hold Out Cross Validation technique on (Normal, Over_Sampling , Under_Sampling and Combine ) data sets .\n",
    "\n",
    "2nd --- Apply KNN_Classifier with K Fold Cross Validation technique on (Normal, Over_Sampling , Under_Sampling and Combine ) data sets .\n",
    "\n",
    "\n",
    "3rd --- Apply KNN_Classifier with Stratified k fold cross Validation technique on (Normal, Over_Sampling , Under_Sampling and Combine ) data sets ."
   ]
  },
  {
   "cell_type": "markdown",
   "id": "809e76cc",
   "metadata": {},
   "source": [
    "# 1st ---"
   ]
  },
  {
   "cell_type": "code",
   "execution_count": 16,
   "id": "396d10ba",
   "metadata": {},
   "outputs": [],
   "source": [
    "# --- Apply KNN_Classifier with Hold Out Cross Validation technique on Normal data set.\n",
    "\n",
    "from sklearn.neighbors import KNeighborsClassifier\n",
    "from sklearn.model_selection import train_test_split as tts\n",
    "\n",
    "KNC = KNeighborsClassifier()\n",
    "\n",
    "Normal_Featurs_train ,Normal_Featurs_test ,Normal_Classes_train , Normal_Classes_test = tts(Normal_Featurs,Normal_Classes , test_size = 0.30, random_state = 42)"
   ]
  },
  {
   "cell_type": "code",
   "execution_count": 12,
   "id": "c86cf5ec",
   "metadata": {},
   "outputs": [],
   "source": [
    "KNC_Normal_dataset_HoldOut = KNC.fit(Normal_Featurs_train,Normal_Classes_train)"
   ]
  },
  {
   "cell_type": "code",
   "execution_count": 13,
   "id": "8e17c66e",
   "metadata": {},
   "outputs": [],
   "source": [
    "KNC_Normal_dataset_HoldOut_predict = KNC_Normal_dataset_HoldOut.predict(Normal_Featurs_test)"
   ]
  },
  {
   "cell_type": "code",
   "execution_count": 33,
   "id": "473d0a77",
   "metadata": {},
   "outputs": [],
   "source": [
    "KNC_Normal_dataset_accuracy = KNC.score(Normal_Featurs_test,Normal_Classes_test)"
   ]
  },
  {
   "cell_type": "code",
   "execution_count": 34,
   "id": "1c409763",
   "metadata": {},
   "outputs": [
    {
     "data": {
      "text/plain": [
       "0.9058464232481056"
      ]
     },
     "execution_count": 34,
     "metadata": {},
     "output_type": "execute_result"
    }
   ],
   "source": [
    "KNC_Normal_dataset_accuracy"
   ]
  },
  {
   "cell_type": "code",
   "execution_count": null,
   "id": "406513ac",
   "metadata": {},
   "outputs": [],
   "source": []
  },
  {
   "cell_type": "code",
   "execution_count": 17,
   "id": "9392c4b0",
   "metadata": {},
   "outputs": [],
   "source": [
    "#Apply KNN_Classifier with Hold Out Cross Validation technique on Over_Sampling data set.\n",
    "\n",
    "OverSampling_Featurs_train ,OverSampling_Featurs_test ,OverSampling_Classes_train , OverSampling_Classes_test = tts(OverSampling_Featurs,OverSampling_Classes , test_size = 0.30, random_state = 42)"
   ]
  },
  {
   "cell_type": "code",
   "execution_count": 41,
   "id": "6d22de90",
   "metadata": {},
   "outputs": [
    {
     "data": {
      "text/plain": [
       "KNeighborsClassifier()"
      ]
     },
     "execution_count": 41,
     "metadata": {},
     "output_type": "execute_result"
    }
   ],
   "source": [
    "KNC.fit(OverSampling_Featurs_train,OverSampling_Classes_train)"
   ]
  },
  {
   "cell_type": "code",
   "execution_count": 42,
   "id": "ab8b98c4",
   "metadata": {},
   "outputs": [],
   "source": [
    "KNC_OverSampling_dataset_accuracy = KNC.score(OverSampling_Featurs_test,OverSampling_Classes_test)"
   ]
  },
  {
   "cell_type": "code",
   "execution_count": 43,
   "id": "492f4176",
   "metadata": {},
   "outputs": [
    {
     "data": {
      "text/plain": [
       "0.8878794441848006"
      ]
     },
     "execution_count": 43,
     "metadata": {},
     "output_type": "execute_result"
    }
   ],
   "source": [
    "KNC_OverSampling_dataset_accuracy"
   ]
  },
  {
   "cell_type": "code",
   "execution_count": null,
   "id": "fbadf190",
   "metadata": {},
   "outputs": [],
   "source": []
  },
  {
   "cell_type": "code",
   "execution_count": 18,
   "id": "8a7e94ac",
   "metadata": {},
   "outputs": [],
   "source": [
    "#Apply KNN_Classifier with Hold Out Cross Validation technique on under_Sampling data set.\n",
    "\n",
    "UnderSampling_Featurs_train ,UnderSampling_Featurs_test , UnderSampling_Classes_train , UnderSampling_Classes_test = tts(UnderSampling_Featurs , UnderSampling_Classes , test_size = 0.30, random_state = 42)"
   ]
  },
  {
   "cell_type": "code",
   "execution_count": 36,
   "id": "b130e013",
   "metadata": {},
   "outputs": [
    {
     "data": {
      "text/plain": [
       "KNeighborsClassifier()"
      ]
     },
     "execution_count": 36,
     "metadata": {},
     "output_type": "execute_result"
    }
   ],
   "source": [
    "KNC.fit(UnderSampling_Featurs_train,UnderSampling_Classes_train)"
   ]
  },
  {
   "cell_type": "code",
   "execution_count": 37,
   "id": "d055affe",
   "metadata": {},
   "outputs": [],
   "source": [
    "KNC_UnderSampling_dataset_accuracy = KNC.score(UnderSampling_Featurs_test,UnderSampling_Classes_test)"
   ]
  },
  {
   "cell_type": "code",
   "execution_count": 38,
   "id": "cf55f02b",
   "metadata": {},
   "outputs": [
    {
     "data": {
      "text/plain": [
       "0.846748660496834"
      ]
     },
     "execution_count": 38,
     "metadata": {},
     "output_type": "execute_result"
    }
   ],
   "source": [
    "KNC_UnderSampling_dataset_accuracy"
   ]
  },
  {
   "cell_type": "code",
   "execution_count": null,
   "id": "af427d91",
   "metadata": {},
   "outputs": [],
   "source": []
  },
  {
   "cell_type": "markdown",
   "id": "de80a700",
   "metadata": {},
   "source": [
    "# 2nd ---"
   ]
  },
  {
   "cell_type": "code",
   "execution_count": 9,
   "id": "51b095f6",
   "metadata": {},
   "outputs": [],
   "source": [
    "# Apply KNN_Classifier with K Fold Cross Validation technique on Normal data set\n",
    "\n",
    "from sklearn.model_selection import KFold, cross_val_score"
   ]
  },
  {
   "cell_type": "code",
   "execution_count": 10,
   "id": "5ee8bf2e",
   "metadata": {},
   "outputs": [],
   "source": [
    "\"\"\"\"iteration = [3,4]\n",
    "\n",
    "for i in iteration:\n",
    "    \n",
    "    kfold = KFold(n_splits = i)\n",
    "\n",
    "    KNC_NormalDataset_kfold_result = cross_val_score(KNC,Normal_Featurs,Normal_Classes,cv = kfold)\n",
    "    KNC_NormalDataset_kfold_result.mean()\"\"\"\n",
    "\n",
    "kfold = KFold(n_splits = 4)\n",
    "\n",
    "KNC_NormalDataset_kfold_result = cross_val_score(KNC,Normal_Featurs,Normal_Classes,cv = kfold)\n",
    "KNC_NormalDataset_kfold_result = KNC_NormalDataset_kfold_result.mean()\n",
    "\n"
   ]
  },
  {
   "cell_type": "code",
   "execution_count": null,
   "id": "7d459f3a",
   "metadata": {},
   "outputs": [],
   "source": []
  },
  {
   "cell_type": "code",
   "execution_count": 15,
   "id": "86dd00c4",
   "metadata": {},
   "outputs": [
    {
     "data": {
      "text/plain": [
       "0.8612912161191703"
      ]
     },
     "execution_count": 15,
     "metadata": {},
     "output_type": "execute_result"
    }
   ],
   "source": [
    "# Apply KNN_Classifier with K Fold Cross Validation technique on Over Sampling data set\n",
    "\n",
    "kfold = KFold(n_splits = 4)\n",
    "\n",
    "KNC_OverSamplingDataset_kfold_result = cross_val_score(KNC,OverSampling_Featurs,OverSampling_Classes,cv = kfold)\n",
    "KNC_OverSamplingDataset_kfold_result.mean()"
   ]
  },
  {
   "cell_type": "code",
   "execution_count": null,
   "id": "63146ac4",
   "metadata": {},
   "outputs": [],
   "source": []
  },
  {
   "cell_type": "code",
   "execution_count": 22,
   "id": "bb1df282",
   "metadata": {},
   "outputs": [
    {
     "data": {
      "text/plain": [
       "0.6530713462731175"
      ]
     },
     "execution_count": 22,
     "metadata": {},
     "output_type": "execute_result"
    }
   ],
   "source": [
    "# Apply KNN_Classifier with K Fold Cross Validation technique on Under Sampling data set\n",
    "\n",
    "\n",
    "KNC_UnderSamplingDataset_kfold_result = cross_val_score(KNC,UnderSampling_Featurs,UnderSampling_Classes,cv = kfold)\n",
    "KNC_UnderSamplingDataset_kfold_result.mean()"
   ]
  },
  {
   "cell_type": "code",
   "execution_count": null,
   "id": "3e904659",
   "metadata": {},
   "outputs": [],
   "source": []
  },
  {
   "cell_type": "markdown",
   "id": "79f77e09",
   "metadata": {},
   "source": [
    "# Evaluate this Model = ( KNC_Normal_dataset_HoldOut ) After Tunning "
   ]
  },
  {
   "cell_type": "code",
   "execution_count": 14,
   "id": "17f2b9bc",
   "metadata": {},
   "outputs": [],
   "source": [
    "from sklearn.metrics import classification_report , accuracy_score , confusion_matrix , plot_roc_curve"
   ]
  },
  {
   "cell_type": "code",
   "execution_count": 39,
   "id": "85cc3d0e",
   "metadata": {},
   "outputs": [
    {
     "name": "stdout",
     "output_type": "stream",
     "text": [
      "              precision    recall  f1-score   support\n",
      "\n",
      "           0       0.92      0.98      0.95     87649\n",
      "           1       0.32      0.08      0.13      8290\n",
      "\n",
      "    accuracy                           0.91     95939\n",
      "   macro avg       0.62      0.53      0.54     95939\n",
      "weighted avg       0.87      0.91      0.88     95939\n",
      "\n"
     ]
    }
   ],
   "source": [
    "#classification_report \n",
    "\n",
    "KNC_Normal_dataset_HoldOut_CR = classification_report(Normal_Classes_test,KNC_Normal_dataset_HoldOut_predict)\n",
    "print(KNC_Normal_dataset_HoldOut_CR)"
   ]
  },
  {
   "cell_type": "code",
   "execution_count": 22,
   "id": "c550be5c",
   "metadata": {},
   "outputs": [
    {
     "data": {
      "text/plain": [
       "0.9058464232481056"
      ]
     },
     "execution_count": 22,
     "metadata": {},
     "output_type": "execute_result"
    }
   ],
   "source": [
    "#Accuracy Score\n",
    "\n",
    "KNC_Normal_dataset_HoldOut_AS = accuracy_score(Normal_Classes_test,KNC_Normal_dataset_HoldOut_predict)\n",
    "\n",
    "KNC_Normal_dataset_HoldOut_AS"
   ]
  },
  {
   "cell_type": "code",
   "execution_count": 26,
   "id": "f45269a9",
   "metadata": {},
   "outputs": [
    {
     "data": {
      "text/plain": [
       "array([[86218,  1431],\n",
       "       [ 7602,   688]], dtype=int64)"
      ]
     },
     "execution_count": 26,
     "metadata": {},
     "output_type": "execute_result"
    }
   ],
   "source": [
    "#Confusion Matrix\n",
    "\n",
    "KNC_Normal_dataset_HoldOut_CM = confusion_matrix(Normal_Classes_test,KNC_Normal_dataset_HoldOut_predict)\n",
    "\n",
    "KNC_Normal_dataset_HoldOut_CM"
   ]
  },
  {
   "cell_type": "code",
   "execution_count": 27,
   "id": "90cfdb5d",
   "metadata": {},
   "outputs": [
    {
     "data": {
      "text/plain": [
       "Text(33.0, 0.5, 'Predicted Values')"
      ]
     },
     "execution_count": 27,
     "metadata": {},
     "output_type": "execute_result"
    },
    {
     "data": {
      "image/png": "[encoded data removed]",
      "text/plain": [
       "<Figure size 432x288 with 2 Axes>"
      ]
     },
     "metadata": {
      "needs_background": "light"
     },
     "output_type": "display_data"
    }
   ],
   "source": [
    "sns.heatmap(KNC_Normal_dataset_HoldOut_CM,annot = True)\n",
    "plt.xlabel(\"Acutal Values\")\n",
    "plt.ylabel(\"Predicted Values\")"
   ]
  },
  {
   "cell_type": "code",
   "execution_count": null,
   "id": "caec950c",
   "metadata": {},
   "outputs": [],
   "source": []
  },
  {
   "cell_type": "code",
   "execution_count": 28,
   "id": "53a9a5f8",
   "metadata": {},
   "outputs": [],
   "source": [
    "tp , fn, fp ,tn = confusion_matrix(Normal_Classes_test , KNC_Normal_dataset_HoldOut_predict).reshape(-1)"
   ]
  },
  {
   "cell_type": "code",
   "execution_count": 30,
   "id": "e756e093",
   "metadata": {},
   "outputs": [
    {
     "data": {
      "text/plain": [
       "0.9189725005329354"
      ]
     },
     "execution_count": 30,
     "metadata": {},
     "output_type": "execute_result"
    }
   ],
   "source": [
    "# Precision Of Positive Predictive Value as PPPV \n",
    "\n",
    "KNC_Normal_dataset_HoldOut_PPV = tp/(tp+fp)\n",
    "\n",
    "KNC_Normal_dataset_HoldOut_PPV"
   ]
  },
  {
   "cell_type": "code",
   "execution_count": 32,
   "id": "ff68a8c9",
   "metadata": {},
   "outputs": [
    {
     "data": {
      "text/plain": [
       "0.9836735159556869"
      ]
     },
     "execution_count": 32,
     "metadata": {},
     "output_type": "execute_result"
    }
   ],
   "source": [
    "# Sensitivity, Recall Hit Rate\n",
    "\n",
    "KNC_Normal_dataset_HoldOut_Sensitivity = tp/(tp+fn)\n",
    "\n",
    "KNC_Normal_dataset_HoldOut_Sensitivity"
   ]
  },
  {
   "cell_type": "code",
   "execution_count": 33,
   "id": "8781ba6a",
   "metadata": {},
   "outputs": [
    {
     "data": {
      "text/plain": [
       "0.9170084439083233"
      ]
     },
     "execution_count": 33,
     "metadata": {},
     "output_type": "execute_result"
    }
   ],
   "source": [
    "# Flase Positive Rate or 1-Specificity \n",
    "\n",
    "KNC_Normal_dataset_HoldOut_FPR = fp/(fp+tn)\n",
    "\n",
    "KNC_Normal_dataset_HoldOut_FPR"
   ]
  },
  {
   "cell_type": "code",
   "execution_count": 35,
   "id": "87b9ad34",
   "metadata": {},
   "outputs": [
    {
     "data": {
      "text/plain": [
       "0.47511145154268775"
      ]
     },
     "execution_count": 35,
     "metadata": {},
     "output_type": "execute_result"
    }
   ],
   "source": [
    "# F1 Score\n",
    "\n",
    "KNC_Normal_dataset_HoldOut_F1Score = (KNC_Normal_dataset_HoldOut_PPV*KNC_Normal_dataset_HoldOut_Sensitivity)/(KNC_Normal_dataset_HoldOut_PPV+KNC_Normal_dataset_HoldOut_Sensitivity)\n",
    "\n",
    "KNC_Normal_dataset_HoldOut_F1Score"
   ]
  },
  {
   "cell_type": "code",
   "execution_count": 37,
   "id": "0a6b9ea5",
   "metadata": {},
   "outputs": [
    {
     "data": {
      "text/plain": [
       "0.9051663499595805"
      ]
     },
     "execution_count": 37,
     "metadata": {},
     "output_type": "execute_result"
    }
   ],
   "source": [
    "#Treat Score , Critical Success or Index\n",
    "\n",
    "KNC_Normal_dataset_HoldOut_TreatScore = tp/(tp+fn+fp)\n",
    "\n",
    "KNC_Normal_dataset_HoldOut_TreatScore"
   ]
  },
  {
   "cell_type": "code",
   "execution_count": 38,
   "id": "e1a4d9a8",
   "metadata": {},
   "outputs": [
    {
     "data": {
      "text/plain": [
       "0.0810274994670646"
      ]
     },
     "execution_count": 38,
     "metadata": {},
     "output_type": "execute_result"
    }
   ],
   "source": [
    "# False Discovery Rate \n",
    "\n",
    "KNC_Normal_dataset_HoldOut_FDR = fp/(tp+fp)\n",
    "KNC_Normal_dataset_HoldOut_FDR"
   ]
  },
  {
   "cell_type": "code",
   "execution_count": 40,
   "id": "caa0ee76",
   "metadata": {},
   "outputs": [
    {
     "name": "stderr",
     "output_type": "stream",
     "text": [
      "C:\\Users\\CITY\\anaconda3\\lib\\site-packages\\sklearn\\utils\\deprecation.py:87: FutureWarning: Function plot_roc_curve is deprecated; Function :func:`plot_roc_curve` is deprecated in 1.0 and will be removed in 1.2. Use one of the class methods: :meth:`sklearn.metric.RocCurveDisplay.from_predictions` or :meth:`sklearn.metric.RocCurveDisplay.from_estimator`.\n",
      "  warnings.warn(msg, category=FutureWarning)\n"
     ]
    },
    {
     "data": {
      "text/plain": [
       "[<matplotlib.lines.Line2D at 0x242002a27f0>]"
      ]
     },
     "execution_count": 40,
     "metadata": {},
     "output_type": "execute_result"
    },
    {
     "data": {
      "image/png": "[encoded data removed]",
      "text/plain": [
       "<Figure size 432x288 with 1 Axes>"
      ]
     },
     "metadata": {
      "needs_background": "light"
     },
     "output_type": "display_data"
    }
   ],
   "source": [
    "# ROC and AUC Curve\n",
    "plot_roc_curve(KNC,Normal_Featurs_test,Normal_Classes_test)\n",
    "plt.plot([0,1],[0,1])"
   ]
  },
  {
   "cell_type": "code",
   "execution_count": null,
   "id": "e86f13f6",
   "metadata": {},
   "outputs": [],
   "source": []
  },
  {
   "cell_type": "markdown",
   "id": "e6815cb5",
   "metadata": {},
   "source": [
    "# Tuning = ( KNC_Normal_dataset_HoldOut ) using Randomized Search CV"
   ]
  },
  {
   "cell_type": "code",
   "execution_count": 13,
   "id": "317fc332",
   "metadata": {},
   "outputs": [],
   "source": [
    "\n",
    "from sklearn.model_selection import RandomizedSearchCV"
   ]
  },
  {
   "cell_type": "code",
   "execution_count": 14,
   "id": "bbfd1bc8",
   "metadata": {},
   "outputs": [],
   "source": [
    "n_neighbors = [int(item) for item in np.linspace(1,500,30)]\n",
    "weight = ['uniform', 'distance']\n",
    "algorithm = ['auto', 'ball_tree', 'kd_tree', 'brute']\n",
    "\n",
    "parameters = {\n",
    "    \"n_neighbors\":n_neighbors,\n",
    "    \"weights\" : weight ,\n",
    "    \"algorithm\": algorithm\n",
    "    }"
   ]
  },
  {
   "cell_type": "code",
   "execution_count": 15,
   "id": "1e382796",
   "metadata": {},
   "outputs": [],
   "source": [
    "RSCV = RandomizedSearchCV(KNC,parameters,n_iter=50)"
   ]
  },
  {
   "cell_type": "code",
   "execution_count": null,
   "id": "743785b1",
   "metadata": {},
   "outputs": [],
   "source": [
    "RSCV.fit(Normal_Featurs_train,Normal_Classes_train)"
   ]
  },
  {
   "cell_type": "code",
   "execution_count": null,
   "id": "bf022ce2",
   "metadata": {},
   "outputs": [],
   "source": []
  },
  {
   "cell_type": "markdown",
   "id": "9abd10a3",
   "metadata": {},
   "source": [
    "# Apply Random Forest Classifier and Cross Validation Techniques"
   ]
  },
  {
   "cell_type": "raw",
   "id": "742fc034",
   "metadata": {},
   "source": [
    "---Here i will apply Random Forest Classifier algorithm and Two cross validation techniques on (Normal, Over_Sampling , Under_Sampling  ) data sets .\n",
    "\n",
    "1st --- Apply Random Forest Classifier with Hold Out Cross Validation technique on (Normal, Over_Sampling , Under_Sampling ) data sets .\n",
    "\n",
    "2nd --- Apply Random Forest Classifier with K Fold Cross Validation technique on (Normal, Over_Sampling , Under_Sampling ) data sets .\n",
    "\n",
    "3rd --- Apply Random Forest Classifier with Stratified k fold cross Validation technique on (Normal, Over_Sampling , Under_Sampling and Combine ) data sets ."
   ]
  },
  {
   "cell_type": "markdown",
   "id": "36ad13e9",
   "metadata": {},
   "source": [
    "# 1st---"
   ]
  },
  {
   "cell_type": "code",
   "execution_count": 47,
   "id": "4cbcfd7d",
   "metadata": {},
   "outputs": [],
   "source": [
    "#Apply Random Forest Classifier with Hold Out Cross Validation technique on Normal data sets\n",
    "\n",
    "from sklearn.ensemble import RandomForestClassifier"
   ]
  },
  {
   "cell_type": "code",
   "execution_count": 48,
   "id": "6ea02017",
   "metadata": {},
   "outputs": [],
   "source": [
    "RFC = RandomForestClassifier()\n",
    "RFC_NormalDataset_HoldOut = RFC.fit(Normal_Featurs_train , Normal_Classes_train)\n"
   ]
  },
  {
   "cell_type": "code",
   "execution_count": null,
   "id": "39250502",
   "metadata": {},
   "outputs": [],
   "source": [
    "RFC_NormalDataset_HoldOut_Predict = RFC_NormalDataset_HoldOut.predict(Normal_Featurs_test)"
   ]
  },
  {
   "cell_type": "code",
   "execution_count": 19,
   "id": "cbf132df",
   "metadata": {},
   "outputs": [
    {
     "data": {
      "text/plain": [
       "0.9048040942682329"
      ]
     },
     "execution_count": 19,
     "metadata": {},
     "output_type": "execute_result"
    }
   ],
   "source": [
    "RFC_NormalDataset_HoldOut.score(Normal_Featurs_test,Normal_Classes_test)"
   ]
  },
  {
   "cell_type": "code",
   "execution_count": 29,
   "id": "cb012bf2",
   "metadata": {},
   "outputs": [],
   "source": [
    "#Apply Random Forest Classifier with Hold Out Cross Validation technique on Over Sampling data sets\n",
    "\n",
    "RFC_OverSampling_Dataset_HoldOut = RFC.fit(OverSampling_Featurs_train,OverSampling_Classes_train)\n",
    "\n",
    "RFC_OverSampling_Dataset_HoldOut_Predict = RFC_OverSampling_Dataset_HoldOut.predict(OverSampling_Featurs_test)"
   ]
  },
  {
   "cell_type": "code",
   "execution_count": 30,
   "id": "d03307ea",
   "metadata": {},
   "outputs": [
    {
     "data": {
      "text/plain": [
       "0.9641501476170392"
      ]
     },
     "execution_count": 30,
     "metadata": {},
     "output_type": "execute_result"
    }
   ],
   "source": [
    "RFC_OverSampling_Dataset_HoldOut.score(OverSampling_Featurs_test,OverSampling_Classes_test)"
   ]
  },
  {
   "cell_type": "code",
   "execution_count": 32,
   "id": "11491bbe",
   "metadata": {},
   "outputs": [],
   "source": [
    "#Apply Random Forest Classifier with Hold Out Cross Validation technique on Under Sampling data sets\n",
    "\n",
    "RFC_UnderSampling_Dataset_HoldOut = RFC.fit(UnderSampling_Featurs_train,UnderSampling_Classes_train)\n",
    "\n",
    "RFC_UnderSampling_Dataset_HoldOut_Predict = RFC_OverSampling_Dataset_HoldOut.predict(UnderSampling_Featurs_test)"
   ]
  },
  {
   "cell_type": "code",
   "execution_count": 33,
   "id": "46e9b965",
   "metadata": {},
   "outputs": [
    {
     "data": {
      "text/plain": [
       "0.8581344374086702"
      ]
     },
     "execution_count": 33,
     "metadata": {},
     "output_type": "execute_result"
    }
   ],
   "source": [
    "RFC_UnderSampling_Dataset_HoldOut.score(UnderSampling_Featurs_test,UnderSampling_Classes_test)"
   ]
  },
  {
   "cell_type": "code",
   "execution_count": null,
   "id": "2570c664",
   "metadata": {},
   "outputs": [],
   "source": []
  },
  {
   "cell_type": "markdown",
   "id": "5280de71",
   "metadata": {},
   "source": [
    "# 2nd---"
   ]
  },
  {
   "cell_type": "code",
   "execution_count": 37,
   "id": "8f4bbe0b",
   "metadata": {},
   "outputs": [],
   "source": [
    "#Apply Random Forest Classifier with KFold Cross Validation technique on Normal data sets\n",
    "\n",
    "kfold = KFold(n_splits = 4)\n",
    "\n",
    "RFC_NormalDataset_kfold_result = cross_val_score(RFC,Normal_Featurs,Normal_Classes,cv = kfold)\n",
    "RFC_NormalDataset_kfold_Accuracy = RFC_NormalDataset_kfold_result.mean()"
   ]
  },
  {
   "cell_type": "code",
   "execution_count": 38,
   "id": "946bc2d2",
   "metadata": {},
   "outputs": [
    {
     "data": {
      "text/plain": [
       "0.9054112811415451"
      ]
     },
     "execution_count": 38,
     "metadata": {},
     "output_type": "execute_result"
    }
   ],
   "source": [
    "RFC_NormalDataset_kfold_Accuracy"
   ]
  },
  {
   "cell_type": "code",
   "execution_count": 39,
   "id": "8a2fe741",
   "metadata": {},
   "outputs": [],
   "source": [
    "#Apply Random Forest Classifier with KFold Cross Validation technique on Over Sampling data sets\n",
    "\n",
    "RFC_OverSamplingDataset_kfold_result = cross_val_score(RFC,OverSampling_Featurs,OverSampling_Classes,cv = kfold)\n",
    "RFC_OverSamplingDataset_kfold_Accuracy = RFC_OverSamplingDataset_kfold_result.mean()"
   ]
  },
  {
   "cell_type": "code",
   "execution_count": 40,
   "id": "355a9a13",
   "metadata": {},
   "outputs": [
    {
     "data": {
      "text/plain": [
       "0.9540937412369794"
      ]
     },
     "execution_count": 40,
     "metadata": {},
     "output_type": "execute_result"
    }
   ],
   "source": [
    "RFC_OverSamplingDataset_kfold_Accuracy"
   ]
  },
  {
   "cell_type": "code",
   "execution_count": 41,
   "id": "4c9bff61",
   "metadata": {},
   "outputs": [],
   "source": [
    "#Apply Random Forest Classifier with KFold Cross Validation technique on Under Sampling data sets\n",
    "\n",
    "RFC_UnderSamplingDataset_kfold_result = cross_val_score(RFC,UnderSampling_Featurs,UnderSampling_Classes,cv = kfold)\n",
    "RFC_UnderSamplingDataset_kfold_Accuracy = RFC_UnderSamplingDataset_kfold_result.mean()"
   ]
  },
  {
   "cell_type": "code",
   "execution_count": 42,
   "id": "405e8ad2",
   "metadata": {},
   "outputs": [
    {
     "data": {
      "text/plain": [
       "0.5961791019511704"
      ]
     },
     "execution_count": 42,
     "metadata": {},
     "output_type": "execute_result"
    }
   ],
   "source": [
    "RFC_UnderSamplingDataset_kfold_Accuracy"
   ]
  },
  {
   "cell_type": "code",
   "execution_count": null,
   "id": "3c1b1e4b",
   "metadata": {},
   "outputs": [],
   "source": []
  },
  {
   "cell_type": "markdown",
   "id": "4b3045c4",
   "metadata": {},
   "source": [
    "# 3rd--"
   ]
  },
  {
   "cell_type": "code",
   "execution_count": 44,
   "id": "687316b9",
   "metadata": {},
   "outputs": [],
   "source": [
    "from sklearn.model_selection import StratifiedKFold\n",
    "Sf_Kfold = StratifiedKFold(n_splits = 4)"
   ]
  },
  {
   "cell_type": "code",
   "execution_count": 49,
   "id": "e3b63945",
   "metadata": {},
   "outputs": [],
   "source": [
    "#Apply Random Forest Classifier with Stratified KFold Cross Validation technique on Normal data sets\n",
    "\n",
    "RFC_NormalDataset_Sf_Kfold_result = cross_val_score(RFC,Normal_Featurs,Normal_Classes,cv = Sf_Kfold)\n",
    "RFC_NormalDataset_Sf_Kfold_Accuracy = RFC_NormalDataset_Sf_Kfold_result.mean()"
   ]
  },
  {
   "cell_type": "code",
   "execution_count": 50,
   "id": "80aff77d",
   "metadata": {},
   "outputs": [
    {
     "data": {
      "text/plain": [
       "0.9053487403336703"
      ]
     },
     "execution_count": 50,
     "metadata": {},
     "output_type": "execute_result"
    }
   ],
   "source": [
    "RFC_NormalDataset_Sf_Kfold_Accuracy"
   ]
  },
  {
   "cell_type": "code",
   "execution_count": 51,
   "id": "83682312",
   "metadata": {},
   "outputs": [],
   "source": [
    "#Apply Random Forest Classifier with Stratified KFold Cross Validation technique on Over Sampling data sets\n",
    "\n",
    "RFC_OverSampling_Dataset_Sf_Kfold_result = cross_val_score(RFC,OverSampling_Featurs,OverSampling_Classes,cv = Sf_Kfold)\n",
    "RFC_OverSampling_Dataset_Sf_Kfold_Accuracy = RFC_OverSampling_Dataset_Sf_Kfold_result.mean()"
   ]
  },
  {
   "cell_type": "code",
   "execution_count": 52,
   "id": "4b48c4d8",
   "metadata": {},
   "outputs": [
    {
     "data": {
      "text/plain": [
       "0.9662115025545275"
      ]
     },
     "execution_count": 52,
     "metadata": {},
     "output_type": "execute_result"
    }
   ],
   "source": [
    "RFC_OverSampling_Dataset_Sf_Kfold_Accuracy"
   ]
  },
  {
   "cell_type": "code",
   "execution_count": 53,
   "id": "42ac3704",
   "metadata": {},
   "outputs": [],
   "source": [
    "#Apply Random Forest Classifier with Stratified KFold Cross Validation technique on Under Sampling data sets\n",
    "\n",
    "RFC_UnderSampling_Dataset_Sf_Kfold_result = cross_val_score(RFC,UnderSampling_Featurs,UnderSampling_Classes,cv = Sf_Kfold)\n",
    "RFC_UnderSampling_Dataset_Sf_Kfold_Accuracy = RFC_UnderSampling_Dataset_Sf_Kfold_result.mean()"
   ]
  },
  {
   "cell_type": "code",
   "execution_count": 54,
   "id": "58b760ff",
   "metadata": {},
   "outputs": [
    {
     "data": {
      "text/plain": [
       "0.7244222745191041"
      ]
     },
     "execution_count": 54,
     "metadata": {},
     "output_type": "execute_result"
    }
   ],
   "source": [
    "RFC_UnderSampling_Dataset_Sf_Kfold_Accuracy"
   ]
  },
  {
   "cell_type": "code",
   "execution_count": null,
   "id": "cbef7efd",
   "metadata": {},
   "outputs": [],
   "source": []
  },
  {
   "cell_type": "markdown",
   "id": "11ede986",
   "metadata": {},
   "source": [
    "# Evaluate this Model = ( RFC_OverSampling_Dataset_HoldOut ) After Tunning "
   ]
  },
  {
   "cell_type": "code",
   "execution_count": 56,
   "id": "2f7c19cd",
   "metadata": {},
   "outputs": [],
   "source": [
    "from sklearn.metrics import classification_report , accuracy_score , confusion_matrix , plot_roc_curve"
   ]
  },
  {
   "cell_type": "code",
   "execution_count": 46,
   "id": "77d316b3",
   "metadata": {},
   "outputs": [
    {
     "name": "stdout",
     "output_type": "stream",
     "text": [
      "              precision    recall  f1-score   support\n",
      "\n",
      "           0       1.00      0.93      0.96     87576\n",
      "           1       0.93      1.00      0.97     87878\n",
      "\n",
      "    accuracy                           0.96    175454\n",
      "   macro avg       0.97      0.96      0.96    175454\n",
      "weighted avg       0.97      0.96      0.96    175454\n",
      "\n"
     ]
    }
   ],
   "source": [
    "#classification_report \n",
    "\n",
    "RFC_OverSampling_Dataset_HoldOut_CR = classification_report(OverSampling_Classes_test,RFC_OverSampling_Dataset_HoldOut_Predict)\n",
    "print(RFC_OverSampling_Dataset_HoldOut_CR)"
   ]
  },
  {
   "cell_type": "code",
   "execution_count": 47,
   "id": "52f5de84",
   "metadata": {},
   "outputs": [
    {
     "data": {
      "text/plain": [
       "0.9641501476170392"
      ]
     },
     "execution_count": 47,
     "metadata": {},
     "output_type": "execute_result"
    }
   ],
   "source": [
    "#Accuracy Score\n",
    "\n",
    "RFC_OverSampling_Dataset_HoldOut_AS = accuracy_score(OverSampling_Classes_test,RFC_OverSampling_Dataset_HoldOut_Predict)\n",
    "\n",
    "RFC_OverSampling_Dataset_HoldOut_AS"
   ]
  },
  {
   "cell_type": "code",
   "execution_count": 48,
   "id": "21ca7be1",
   "metadata": {},
   "outputs": [
    {
     "data": {
      "text/plain": [
       "array([[81365,  6211],\n",
       "       [   79, 87799]], dtype=int64)"
      ]
     },
     "execution_count": 48,
     "metadata": {},
     "output_type": "execute_result"
    }
   ],
   "source": [
    "#Confusion Matrix\n",
    "\n",
    "RFC_OverSampling_Dataset_HoldOut_CM = confusion_matrix(OverSampling_Classes_test,RFC_OverSampling_Dataset_HoldOut_Predict)\n",
    "\n",
    "RFC_OverSampling_Dataset_HoldOut_CM"
   ]
  },
  {
   "cell_type": "code",
   "execution_count": 49,
   "id": "e9b7d1b9",
   "metadata": {},
   "outputs": [
    {
     "data": {
      "text/plain": [
       "Text(33.0, 0.5, 'Predicted Values')"
      ]
     },
     "execution_count": 49,
     "metadata": {},
     "output_type": "execute_result"
    },
    {
     "data": {
      "image/png": "[encoded data removed]",
      "text/plain": [
       "<Figure size 432x288 with 2 Axes>"
      ]
     },
     "metadata": {
      "needs_background": "light"
     },
     "output_type": "display_data"
    }
   ],
   "source": [
    "sns.heatmap(RFC_OverSampling_Dataset_HoldOut_CM,annot = True)\n",
    "plt.xlabel(\"Acutal Values\")\n",
    "plt.ylabel(\"Predicted Values\")"
   ]
  },
  {
   "cell_type": "code",
   "execution_count": null,
   "id": "ed74866d",
   "metadata": {},
   "outputs": [],
   "source": []
  },
  {
   "cell_type": "code",
   "execution_count": 51,
   "id": "769e0a27",
   "metadata": {},
   "outputs": [],
   "source": [
    "tp , fn, fp ,tn = confusion_matrix(OverSampling_Classes_test,RFC_OverSampling_Dataset_HoldOut_Predict).reshape(-1)"
   ]
  },
  {
   "cell_type": "code",
   "execution_count": 52,
   "id": "b1b5c369",
   "metadata": {},
   "outputs": [
    {
     "data": {
      "text/plain": [
       "0.9990300083492952"
      ]
     },
     "execution_count": 52,
     "metadata": {},
     "output_type": "execute_result"
    }
   ],
   "source": [
    "# Precision Of Positive Predictive Value as PPPV \n",
    "\n",
    "RFC_OverSampling_Dataset_HoldOut_PPV = tp/(tp+fp)\n",
    "\n",
    "RFC_OverSampling_Dataset_HoldOut_PPV"
   ]
  },
  {
   "cell_type": "code",
   "execution_count": 53,
   "id": "b2965dd3",
   "metadata": {},
   "outputs": [
    {
     "data": {
      "text/plain": [
       "0.9290787430346213"
      ]
     },
     "execution_count": 53,
     "metadata": {},
     "output_type": "execute_result"
    }
   ],
   "source": [
    "# Sensitivity, Recall Hit Rate\n",
    "\n",
    "RFC_OverSampling_Dataset_HoldOut_Sensitivity = tp/(tp+fn)\n",
    "\n",
    "RFC_OverSampling_Dataset_HoldOut_Sensitivity"
   ]
  },
  {
   "cell_type": "code",
   "execution_count": 54,
   "id": "20b196d7",
   "metadata": {},
   "outputs": [
    {
     "data": {
      "text/plain": [
       "0.0008989735770044835"
      ]
     },
     "execution_count": 54,
     "metadata": {},
     "output_type": "execute_result"
    }
   ],
   "source": [
    "# Flase Positive Rate or 1-Specificity \n",
    "\n",
    "RFC_OverSampling_Dataset_HoldOut_FPR = fp/(fp+tn)\n",
    "\n",
    "RFC_OverSampling_Dataset_HoldOut_FPR"
   ]
  },
  {
   "cell_type": "code",
   "execution_count": 55,
   "id": "3efa5ea2",
   "metadata": {},
   "outputs": [
    {
     "data": {
      "text/plain": [
       "0.4813927345876228"
      ]
     },
     "execution_count": 55,
     "metadata": {},
     "output_type": "execute_result"
    }
   ],
   "source": [
    "# F1 Score\n",
    "\n",
    "RFC_OverSampling_Dataset_HoldOut_F1Score = (RFC_OverSampling_Dataset_HoldOut_PPV*RFC_OverSampling_Dataset_HoldOut_Sensitivity)/(RFC_OverSampling_Dataset_HoldOut_PPV+RFC_OverSampling_Dataset_HoldOut_Sensitivity)\n",
    "\n",
    "RFC_OverSampling_Dataset_HoldOut_F1Score"
   ]
  },
  {
   "cell_type": "code",
   "execution_count": 56,
   "id": "d5448472",
   "metadata": {},
   "outputs": [
    {
     "data": {
      "text/plain": [
       "0.9282414009468941"
      ]
     },
     "execution_count": 56,
     "metadata": {},
     "output_type": "execute_result"
    }
   ],
   "source": [
    "#Treat Score , Critical Success or Index\n",
    "\n",
    "RFC_OverSampling_Dataset_HoldOut_TreatScore = tp/(tp+fn+fp)\n",
    "\n",
    "RFC_OverSampling_Dataset_HoldOut_TreatScore"
   ]
  },
  {
   "cell_type": "code",
   "execution_count": 57,
   "id": "4d7e292f",
   "metadata": {},
   "outputs": [
    {
     "data": {
      "text/plain": [
       "0.0009699916507047787"
      ]
     },
     "execution_count": 57,
     "metadata": {},
     "output_type": "execute_result"
    }
   ],
   "source": [
    "# False Discovery Rate \n",
    "\n",
    "RFC_OverSampling_Dataset_HoldOut_FDR = fp/(tp+fp)\n",
    "RFC_OverSampling_Dataset_HoldOut_FDR"
   ]
  },
  {
   "cell_type": "code",
   "execution_count": 136,
   "id": "06f3d822",
   "metadata": {},
   "outputs": [
    {
     "data": {
      "text/plain": [
       "[<matplotlib.lines.Line2D at 0x1cb3dbdab20>]"
      ]
     },
     "execution_count": 136,
     "metadata": {},
     "output_type": "execute_result"
    },
    {
     "data": {
      "image/png": "[encoded data removed]",
      "text/plain": [
       "<Figure size 432x288 with 1 Axes>"
      ]
     },
     "metadata": {
      "needs_background": "light"
     },
     "output_type": "display_data"
    }
   ],
   "source": [
    "# ROC and AUC Curve\n",
    "warnings.filterwarnings(\"ignore\")\n",
    "\n",
    "plot_roc_curve(RFC,OverSampling_Featurs_test,OverSampling_Classes_test)\n",
    "plt.plot([0,1],[0,1])"
   ]
  },
  {
   "cell_type": "code",
   "execution_count": null,
   "id": "6d2e0703",
   "metadata": {},
   "outputs": [],
   "source": []
  },
  {
   "cell_type": "markdown",
   "id": "05683f18",
   "metadata": {},
   "source": [
    "# Tuning = ( RFC_OverSampling_Dataset_HoldOut ) using Randomized Search CV"
   ]
  },
  {
   "cell_type": "code",
   "execution_count": 59,
   "id": "2b31c52c",
   "metadata": {},
   "outputs": [],
   "source": [
    "from sklearn.model_selection import RandomizedSearchCV"
   ]
  },
  {
   "cell_type": "code",
   "execution_count": 62,
   "id": "cd75152a",
   "metadata": {},
   "outputs": [],
   "source": [
    "n_estimators = [int(item) for item in np.linspace(20,200,15)]\n",
    "criterion = [\"gini\", \"entropy\"]\n",
    "max_depth = np.random.randint(1,20,25)\n",
    "max_features = [\"auto\", \"sqrt\", \"log2\"]\n",
    "min_samples_split = np.random.randint(1,15,20)\n",
    "\n",
    "\n",
    "parameters = {\n",
    "    \"n_estimators\":n_estimators,\n",
    "    \"criterion\" : criterion ,\n",
    "    \"max_depth\": max_depth,\n",
    "    \"max_features\": max_features,\n",
    "    \"min_samples_split\": min_samples_split,\n",
    "    \n",
    "    }"
   ]
  },
  {
   "cell_type": "code",
   "execution_count": 65,
   "id": "85984164",
   "metadata": {},
   "outputs": [],
   "source": [
    "RSCV2 = RandomizedSearchCV(RFC,parameters,n_iter=50)"
   ]
  },
  {
   "cell_type": "code",
   "execution_count": 66,
   "id": "c7a4572f",
   "metadata": {},
   "outputs": [
    {
     "data": {
      "text/plain": [
       "RandomizedSearchCV(estimator=RandomForestClassifier(), n_iter=50,\n",
       "                   param_distributions={'criterion': ['gini', 'entropy'],\n",
       "                                        'max_depth': array([ 4,  9,  8, 14,  4, 19, 16,  4, 15,  1,  7,  3, 10, 10,  8, 19, 12,\n",
       "        3,  4, 14,  8,  3,  9, 14, 15]),\n",
       "                                        'max_features': ['auto', 'sqrt',\n",
       "                                                         'log2'],\n",
       "                                        'min_samples_split': array([ 2,  1,  2, 14,  7,  2, 13,  3, 12,  8,  9,  7, 10, 11, 10, 14,  5,\n",
       "       13,  6,  7]),\n",
       "                                        'n_estimators': [20, 32, 45, 58, 71, 84,\n",
       "                                                         97, 110, 122, 135, 148,\n",
       "                                                         161, 174, 187, 200]})"
      ]
     },
     "execution_count": 66,
     "metadata": {},
     "output_type": "execute_result"
    }
   ],
   "source": [
    "RSCV2.fit(OverSampling_Featurs_train,OverSampling_Classes_train)"
   ]
  },
  {
   "cell_type": "code",
   "execution_count": 69,
   "id": "409b4988",
   "metadata": {},
   "outputs": [
    {
     "data": {
      "text/html": [
       "<div>\n",
       "<style scoped>\n",
       "    .dataframe tbody tr th:only-of-type {\n",
       "        vertical-align: middle;\n",
       "    }\n",
       "\n",
       "    .dataframe tbody tr th {\n",
       "        vertical-align: top;\n",
       "    }\n",
       "\n",
       "    .dataframe thead th {\n",
       "        text-align: right;\n",
       "    }\n",
       "</style>\n",
       "<table border=\"1\" class=\"dataframe\">\n",
       "  <thead>\n",
       "    <tr style=\"text-align: right;\">\n",
       "      <th></th>\n",
       "      <th>mean_fit_time</th>\n",
       "      <th>std_fit_time</th>\n",
       "      <th>mean_score_time</th>\n",
       "      <th>std_score_time</th>\n",
       "      <th>param_n_estimators</th>\n",
       "      <th>param_min_samples_split</th>\n",
       "      <th>param_max_features</th>\n",
       "      <th>param_max_depth</th>\n",
       "      <th>param_criterion</th>\n",
       "      <th>params</th>\n",
       "      <th>split0_test_score</th>\n",
       "      <th>split1_test_score</th>\n",
       "      <th>split2_test_score</th>\n",
       "      <th>split3_test_score</th>\n",
       "      <th>split4_test_score</th>\n",
       "      <th>mean_test_score</th>\n",
       "      <th>std_test_score</th>\n",
       "      <th>rank_test_score</th>\n",
       "    </tr>\n",
       "  </thead>\n",
       "  <tbody>\n",
       "    <tr>\n",
       "      <th>0</th>\n",
       "      <td>5.039390</td>\n",
       "      <td>0.256434</td>\n",
       "      <td>0.216049</td>\n",
       "      <td>0.004337</td>\n",
       "      <td>71</td>\n",
       "      <td>7</td>\n",
       "      <td>sqrt</td>\n",
       "      <td>3</td>\n",
       "      <td>gini</td>\n",
       "      <td>{'n_estimators': 71, 'min_samples_split': 7, '...</td>\n",
       "      <td>0.731650</td>\n",
       "      <td>0.741200</td>\n",
       "      <td>0.733408</td>\n",
       "      <td>0.742703</td>\n",
       "      <td>0.743863</td>\n",
       "      <td>0.738565</td>\n",
       "      <td>0.005031</td>\n",
       "      <td>44</td>\n",
       "    </tr>\n",
       "    <tr>\n",
       "      <th>1</th>\n",
       "      <td>11.154388</td>\n",
       "      <td>1.048350</td>\n",
       "      <td>0.443351</td>\n",
       "      <td>0.024375</td>\n",
       "      <td>148</td>\n",
       "      <td>12</td>\n",
       "      <td>sqrt</td>\n",
       "      <td>3</td>\n",
       "      <td>entropy</td>\n",
       "      <td>{'n_estimators': 148, 'min_samples_split': 12,...</td>\n",
       "      <td>0.738465</td>\n",
       "      <td>0.730355</td>\n",
       "      <td>0.736242</td>\n",
       "      <td>0.737646</td>\n",
       "      <td>0.743631</td>\n",
       "      <td>0.737268</td>\n",
       "      <td>0.004264</td>\n",
       "      <td>46</td>\n",
       "    </tr>\n",
       "    <tr>\n",
       "      <th>2</th>\n",
       "      <td>45.633077</td>\n",
       "      <td>1.474989</td>\n",
       "      <td>2.064980</td>\n",
       "      <td>0.073718</td>\n",
       "      <td>200</td>\n",
       "      <td>3</td>\n",
       "      <td>auto</td>\n",
       "      <td>15</td>\n",
       "      <td>gini</td>\n",
       "      <td>{'n_estimators': 200, 'min_samples_split': 3, ...</td>\n",
       "      <td>0.808679</td>\n",
       "      <td>0.809631</td>\n",
       "      <td>0.805467</td>\n",
       "      <td>0.807677</td>\n",
       "      <td>0.808190</td>\n",
       "      <td>0.807929</td>\n",
       "      <td>0.001390</td>\n",
       "      <td>6</td>\n",
       "    </tr>\n",
       "    <tr>\n",
       "      <th>3</th>\n",
       "      <td>31.295202</td>\n",
       "      <td>1.553604</td>\n",
       "      <td>1.393895</td>\n",
       "      <td>0.123355</td>\n",
       "      <td>135</td>\n",
       "      <td>11</td>\n",
       "      <td>auto</td>\n",
       "      <td>15</td>\n",
       "      <td>gini</td>\n",
       "      <td>{'n_estimators': 135, 'min_samples_split': 11,...</td>\n",
       "      <td>0.803574</td>\n",
       "      <td>0.805442</td>\n",
       "      <td>0.800032</td>\n",
       "      <td>0.802877</td>\n",
       "      <td>0.803122</td>\n",
       "      <td>0.803009</td>\n",
       "      <td>0.001740</td>\n",
       "      <td>10</td>\n",
       "    </tr>\n",
       "    <tr>\n",
       "      <th>4</th>\n",
       "      <td>35.741349</td>\n",
       "      <td>2.187992</td>\n",
       "      <td>1.326456</td>\n",
       "      <td>0.105632</td>\n",
       "      <td>200</td>\n",
       "      <td>7</td>\n",
       "      <td>auto</td>\n",
       "      <td>10</td>\n",
       "      <td>gini</td>\n",
       "      <td>{'n_estimators': 200, 'min_samples_split': 7, ...</td>\n",
       "      <td>0.772332</td>\n",
       "      <td>0.771782</td>\n",
       "      <td>0.767850</td>\n",
       "      <td>0.771624</td>\n",
       "      <td>0.773028</td>\n",
       "      <td>0.771323</td>\n",
       "      <td>0.001805</td>\n",
       "      <td>23</td>\n",
       "    </tr>\n",
       "    <tr>\n",
       "      <th>5</th>\n",
       "      <td>32.542056</td>\n",
       "      <td>0.941822</td>\n",
       "      <td>1.177831</td>\n",
       "      <td>0.093853</td>\n",
       "      <td>161</td>\n",
       "      <td>14</td>\n",
       "      <td>sqrt</td>\n",
       "      <td>12</td>\n",
       "      <td>entropy</td>\n",
       "      <td>{'n_estimators': 161, 'min_samples_split': 14,...</td>\n",
       "      <td>0.779807</td>\n",
       "      <td>0.780149</td>\n",
       "      <td>0.776717</td>\n",
       "      <td>0.778842</td>\n",
       "      <td>0.781553</td>\n",
       "      <td>0.779413</td>\n",
       "      <td>0.001605</td>\n",
       "      <td>21</td>\n",
       "    </tr>\n",
       "    <tr>\n",
       "      <th>6</th>\n",
       "      <td>36.255150</td>\n",
       "      <td>1.632041</td>\n",
       "      <td>1.282551</td>\n",
       "      <td>0.025038</td>\n",
       "      <td>187</td>\n",
       "      <td>7</td>\n",
       "      <td>sqrt</td>\n",
       "      <td>12</td>\n",
       "      <td>gini</td>\n",
       "      <td>{'n_estimators': 187, 'min_samples_split': 7, ...</td>\n",
       "      <td>0.782237</td>\n",
       "      <td>0.782347</td>\n",
       "      <td>0.779037</td>\n",
       "      <td>0.781248</td>\n",
       "      <td>0.782713</td>\n",
       "      <td>0.781516</td>\n",
       "      <td>0.001331</td>\n",
       "      <td>17</td>\n",
       "    </tr>\n",
       "    <tr>\n",
       "      <th>7</th>\n",
       "      <td>6.543204</td>\n",
       "      <td>0.082088</td>\n",
       "      <td>0.283073</td>\n",
       "      <td>0.001105</td>\n",
       "      <td>97</td>\n",
       "      <td>10</td>\n",
       "      <td>log2</td>\n",
       "      <td>3</td>\n",
       "      <td>entropy</td>\n",
       "      <td>{'n_estimators': 97, 'min_samples_split': 10, ...</td>\n",
       "      <td>0.731271</td>\n",
       "      <td>0.735851</td>\n",
       "      <td>0.743460</td>\n",
       "      <td>0.742800</td>\n",
       "      <td>0.740736</td>\n",
       "      <td>0.738824</td>\n",
       "      <td>0.004623</td>\n",
       "      <td>43</td>\n",
       "    </tr>\n",
       "    <tr>\n",
       "      <th>8</th>\n",
       "      <td>41.066796</td>\n",
       "      <td>1.412635</td>\n",
       "      <td>1.773536</td>\n",
       "      <td>0.026275</td>\n",
       "      <td>187</td>\n",
       "      <td>10</td>\n",
       "      <td>sqrt</td>\n",
       "      <td>15</td>\n",
       "      <td>gini</td>\n",
       "      <td>{'n_estimators': 187, 'min_samples_split': 10,...</td>\n",
       "      <td>0.804868</td>\n",
       "      <td>0.805882</td>\n",
       "      <td>0.800948</td>\n",
       "      <td>0.802548</td>\n",
       "      <td>0.804905</td>\n",
       "      <td>0.803830</td>\n",
       "      <td>0.001811</td>\n",
       "      <td>9</td>\n",
       "    </tr>\n",
       "    <tr>\n",
       "      <th>9</th>\n",
       "      <td>12.018308</td>\n",
       "      <td>0.374582</td>\n",
       "      <td>0.437042</td>\n",
       "      <td>0.006441</td>\n",
       "      <td>71</td>\n",
       "      <td>8</td>\n",
       "      <td>log2</td>\n",
       "      <td>10</td>\n",
       "      <td>entropy</td>\n",
       "      <td>{'n_estimators': 71, 'min_samples_split': 8, '...</td>\n",
       "      <td>0.772320</td>\n",
       "      <td>0.771624</td>\n",
       "      <td>0.766054</td>\n",
       "      <td>0.770671</td>\n",
       "      <td>0.770586</td>\n",
       "      <td>0.770251</td>\n",
       "      <td>0.002194</td>\n",
       "      <td>27</td>\n",
       "    </tr>\n",
       "    <tr>\n",
       "      <th>10</th>\n",
       "      <td>7.721169</td>\n",
       "      <td>0.108927</td>\n",
       "      <td>0.415607</td>\n",
       "      <td>0.006319</td>\n",
       "      <td>187</td>\n",
       "      <td>2</td>\n",
       "      <td>auto</td>\n",
       "      <td>1</td>\n",
       "      <td>gini</td>\n",
       "      <td>{'n_estimators': 187, 'min_samples_split': 2, ...</td>\n",
       "      <td>0.722783</td>\n",
       "      <td>0.712890</td>\n",
       "      <td>0.717372</td>\n",
       "      <td>0.717824</td>\n",
       "      <td>0.714417</td>\n",
       "      <td>0.717057</td>\n",
       "      <td>0.003400</td>\n",
       "      <td>50</td>\n",
       "    </tr>\n",
       "    <tr>\n",
       "      <th>11</th>\n",
       "      <td>5.795221</td>\n",
       "      <td>0.210709</td>\n",
       "      <td>0.215861</td>\n",
       "      <td>0.003939</td>\n",
       "      <td>45</td>\n",
       "      <td>14</td>\n",
       "      <td>log2</td>\n",
       "      <td>7</td>\n",
       "      <td>entropy</td>\n",
       "      <td>{'n_estimators': 45, 'min_samples_split': 14, ...</td>\n",
       "      <td>0.762073</td>\n",
       "      <td>0.758592</td>\n",
       "      <td>0.757383</td>\n",
       "      <td>0.760436</td>\n",
       "      <td>0.761145</td>\n",
       "      <td>0.759926</td>\n",
       "      <td>0.001709</td>\n",
       "      <td>35</td>\n",
       "    </tr>\n",
       "    <tr>\n",
       "      <th>12</th>\n",
       "      <td>4.600083</td>\n",
       "      <td>0.063620</td>\n",
       "      <td>0.248262</td>\n",
       "      <td>0.001607</td>\n",
       "      <td>110</td>\n",
       "      <td>7</td>\n",
       "      <td>sqrt</td>\n",
       "      <td>1</td>\n",
       "      <td>gini</td>\n",
       "      <td>{'n_estimators': 110, 'min_samples_split': 7, ...</td>\n",
       "      <td>0.711717</td>\n",
       "      <td>0.709922</td>\n",
       "      <td>0.727143</td>\n",
       "      <td>0.724151</td>\n",
       "      <td>0.713085</td>\n",
       "      <td>0.717204</td>\n",
       "      <td>0.007030</td>\n",
       "      <td>49</td>\n",
       "    </tr>\n",
       "    <tr>\n",
       "      <th>13</th>\n",
       "      <td>5.843861</td>\n",
       "      <td>0.121808</td>\n",
       "      <td>0.242854</td>\n",
       "      <td>0.001166</td>\n",
       "      <td>71</td>\n",
       "      <td>2</td>\n",
       "      <td>sqrt</td>\n",
       "      <td>4</td>\n",
       "      <td>gini</td>\n",
       "      <td>{'n_estimators': 71, 'min_samples_split': 2, '...</td>\n",
       "      <td>0.754000</td>\n",
       "      <td>0.750299</td>\n",
       "      <td>0.747319</td>\n",
       "      <td>0.753096</td>\n",
       "      <td>0.756858</td>\n",
       "      <td>0.752314</td>\n",
       "      <td>0.003259</td>\n",
       "      <td>36</td>\n",
       "    </tr>\n",
       "    <tr>\n",
       "      <th>14</th>\n",
       "      <td>18.553663</td>\n",
       "      <td>0.210216</td>\n",
       "      <td>0.680566</td>\n",
       "      <td>0.011331</td>\n",
       "      <td>122</td>\n",
       "      <td>14</td>\n",
       "      <td>auto</td>\n",
       "      <td>9</td>\n",
       "      <td>gini</td>\n",
       "      <td>{'n_estimators': 122, 'min_samples_split': 14,...</td>\n",
       "      <td>0.768424</td>\n",
       "      <td>0.766995</td>\n",
       "      <td>0.764955</td>\n",
       "      <td>0.765517</td>\n",
       "      <td>0.768778</td>\n",
       "      <td>0.766934</td>\n",
       "      <td>0.001520</td>\n",
       "      <td>31</td>\n",
       "    </tr>\n",
       "    <tr>\n",
       "      <th>15</th>\n",
       "      <td>8.926043</td>\n",
       "      <td>0.055428</td>\n",
       "      <td>0.367700</td>\n",
       "      <td>0.006104</td>\n",
       "      <td>110</td>\n",
       "      <td>13</td>\n",
       "      <td>sqrt</td>\n",
       "      <td>4</td>\n",
       "      <td>gini</td>\n",
       "      <td>{'n_estimators': 110, 'min_samples_split': 13,...</td>\n",
       "      <td>0.749652</td>\n",
       "      <td>0.738403</td>\n",
       "      <td>0.751728</td>\n",
       "      <td>0.748834</td>\n",
       "      <td>0.749518</td>\n",
       "      <td>0.747627</td>\n",
       "      <td>0.004712</td>\n",
       "      <td>38</td>\n",
       "    </tr>\n",
       "    <tr>\n",
       "      <th>16</th>\n",
       "      <td>5.022306</td>\n",
       "      <td>0.041681</td>\n",
       "      <td>0.279535</td>\n",
       "      <td>0.002884</td>\n",
       "      <td>20</td>\n",
       "      <td>7</td>\n",
       "      <td>sqrt</td>\n",
       "      <td>19</td>\n",
       "      <td>entropy</td>\n",
       "      <td>{'n_estimators': 20, 'min_samples_split': 7, '...</td>\n",
       "      <td>0.846479</td>\n",
       "      <td>0.846784</td>\n",
       "      <td>0.842351</td>\n",
       "      <td>0.845270</td>\n",
       "      <td>0.843890</td>\n",
       "      <td>0.844955</td>\n",
       "      <td>0.001654</td>\n",
       "      <td>4</td>\n",
       "    </tr>\n",
       "    <tr>\n",
       "      <th>17</th>\n",
       "      <td>21.197151</td>\n",
       "      <td>1.045745</td>\n",
       "      <td>0.790611</td>\n",
       "      <td>0.066479</td>\n",
       "      <td>122</td>\n",
       "      <td>10</td>\n",
       "      <td>log2</td>\n",
       "      <td>10</td>\n",
       "      <td>gini</td>\n",
       "      <td>{'n_estimators': 122, 'min_samples_split': 10,...</td>\n",
       "      <td>0.771892</td>\n",
       "      <td>0.771672</td>\n",
       "      <td>0.768143</td>\n",
       "      <td>0.771489</td>\n",
       "      <td>0.772076</td>\n",
       "      <td>0.771054</td>\n",
       "      <td>0.001469</td>\n",
       "      <td>25</td>\n",
       "    </tr>\n",
       "    <tr>\n",
       "      <th>18</th>\n",
       "      <td>14.156989</td>\n",
       "      <td>0.137168</td>\n",
       "      <td>0.568937</td>\n",
       "      <td>0.005766</td>\n",
       "      <td>174</td>\n",
       "      <td>7</td>\n",
       "      <td>log2</td>\n",
       "      <td>4</td>\n",
       "      <td>entropy</td>\n",
       "      <td>{'n_estimators': 174, 'min_samples_split': 7, ...</td>\n",
       "      <td>0.743814</td>\n",
       "      <td>0.747588</td>\n",
       "      <td>0.748589</td>\n",
       "      <td>0.742703</td>\n",
       "      <td>0.748113</td>\n",
       "      <td>0.746161</td>\n",
       "      <td>0.002417</td>\n",
       "      <td>41</td>\n",
       "    </tr>\n",
       "    <tr>\n",
       "      <th>19</th>\n",
       "      <td>46.054884</td>\n",
       "      <td>0.992643</td>\n",
       "      <td>2.508601</td>\n",
       "      <td>0.119396</td>\n",
       "      <td>187</td>\n",
       "      <td>7</td>\n",
       "      <td>sqrt</td>\n",
       "      <td>19</td>\n",
       "      <td>gini</td>\n",
       "      <td>{'n_estimators': 187, 'min_samples_split': 7, ...</td>\n",
       "      <td>0.852903</td>\n",
       "      <td>0.852427</td>\n",
       "      <td>0.849435</td>\n",
       "      <td>0.850057</td>\n",
       "      <td>0.853978</td>\n",
       "      <td>0.851760</td>\n",
       "      <td>0.001731</td>\n",
       "      <td>1</td>\n",
       "    </tr>\n",
       "    <tr>\n",
       "      <th>20</th>\n",
       "      <td>25.590188</td>\n",
       "      <td>0.244205</td>\n",
       "      <td>1.036245</td>\n",
       "      <td>0.017407</td>\n",
       "      <td>122</td>\n",
       "      <td>5</td>\n",
       "      <td>sqrt</td>\n",
       "      <td>14</td>\n",
       "      <td>entropy</td>\n",
       "      <td>{'n_estimators': 122, 'min_samples_split': 5, ...</td>\n",
       "      <td>0.795195</td>\n",
       "      <td>0.796294</td>\n",
       "      <td>0.791715</td>\n",
       "      <td>0.793681</td>\n",
       "      <td>0.796160</td>\n",
       "      <td>0.794609</td>\n",
       "      <td>0.001722</td>\n",
       "      <td>15</td>\n",
       "    </tr>\n",
       "    <tr>\n",
       "      <th>21</th>\n",
       "      <td>13.386120</td>\n",
       "      <td>0.740671</td>\n",
       "      <td>0.470317</td>\n",
       "      <td>0.008318</td>\n",
       "      <td>84</td>\n",
       "      <td>14</td>\n",
       "      <td>sqrt</td>\n",
       "      <td>9</td>\n",
       "      <td>gini</td>\n",
       "      <td>{'n_estimators': 84, 'min_samples_split': 14, ...</td>\n",
       "      <td>0.767703</td>\n",
       "      <td>0.766567</td>\n",
       "      <td>0.765370</td>\n",
       "      <td>0.766372</td>\n",
       "      <td>0.768802</td>\n",
       "      <td>0.766963</td>\n",
       "      <td>0.001181</td>\n",
       "      <td>30</td>\n",
       "    </tr>\n",
       "    <tr>\n",
       "      <th>22</th>\n",
       "      <td>11.077833</td>\n",
       "      <td>0.353300</td>\n",
       "      <td>0.401900</td>\n",
       "      <td>0.009249</td>\n",
       "      <td>71</td>\n",
       "      <td>5</td>\n",
       "      <td>sqrt</td>\n",
       "      <td>9</td>\n",
       "      <td>gini</td>\n",
       "      <td>{'n_estimators': 71, 'min_samples_split': 5, '...</td>\n",
       "      <td>0.768485</td>\n",
       "      <td>0.769279</td>\n",
       "      <td>0.764552</td>\n",
       "      <td>0.765407</td>\n",
       "      <td>0.768754</td>\n",
       "      <td>0.767295</td>\n",
       "      <td>0.001927</td>\n",
       "      <td>29</td>\n",
       "    </tr>\n",
       "    <tr>\n",
       "      <th>23</th>\n",
       "      <td>7.026529</td>\n",
       "      <td>0.102994</td>\n",
       "      <td>0.286574</td>\n",
       "      <td>0.005256</td>\n",
       "      <td>84</td>\n",
       "      <td>11</td>\n",
       "      <td>log2</td>\n",
       "      <td>4</td>\n",
       "      <td>entropy</td>\n",
       "      <td>{'n_estimators': 84, 'min_samples_split': 11, ...</td>\n",
       "      <td>0.745683</td>\n",
       "      <td>0.743826</td>\n",
       "      <td>0.749359</td>\n",
       "      <td>0.748516</td>\n",
       "      <td>0.745023</td>\n",
       "      <td>0.746481</td>\n",
       "      <td>0.002109</td>\n",
       "      <td>40</td>\n",
       "    </tr>\n",
       "    <tr>\n",
       "      <th>24</th>\n",
       "      <td>13.116271</td>\n",
       "      <td>0.124847</td>\n",
       "      <td>0.536548</td>\n",
       "      <td>0.010291</td>\n",
       "      <td>161</td>\n",
       "      <td>10</td>\n",
       "      <td>auto</td>\n",
       "      <td>4</td>\n",
       "      <td>entropy</td>\n",
       "      <td>{'n_estimators': 161, 'min_samples_split': 10,...</td>\n",
       "      <td>0.751203</td>\n",
       "      <td>0.747356</td>\n",
       "      <td>0.740297</td>\n",
       "      <td>0.738623</td>\n",
       "      <td>0.747820</td>\n",
       "      <td>0.745060</td>\n",
       "      <td>0.004791</td>\n",
       "      <td>42</td>\n",
       "    </tr>\n",
       "    <tr>\n",
       "      <th>25</th>\n",
       "      <td>25.153118</td>\n",
       "      <td>0.295682</td>\n",
       "      <td>0.920033</td>\n",
       "      <td>0.010592</td>\n",
       "      <td>135</td>\n",
       "      <td>11</td>\n",
       "      <td>auto</td>\n",
       "      <td>12</td>\n",
       "      <td>gini</td>\n",
       "      <td>{'n_estimators': 135, 'min_samples_split': 11,...</td>\n",
       "      <td>0.781919</td>\n",
       "      <td>0.781321</td>\n",
       "      <td>0.777572</td>\n",
       "      <td>0.780014</td>\n",
       "      <td>0.781883</td>\n",
       "      <td>0.780542</td>\n",
       "      <td>0.001637</td>\n",
       "      <td>19</td>\n",
       "    </tr>\n",
       "    <tr>\n",
       "      <th>26</th>\n",
       "      <td>34.298185</td>\n",
       "      <td>0.298615</td>\n",
       "      <td>1.844667</td>\n",
       "      <td>0.025349</td>\n",
       "      <td>135</td>\n",
       "      <td>5</td>\n",
       "      <td>auto</td>\n",
       "      <td>19</td>\n",
       "      <td>entropy</td>\n",
       "      <td>{'n_estimators': 135, 'min_samples_split': 5, ...</td>\n",
       "      <td>0.853269</td>\n",
       "      <td>0.851792</td>\n",
       "      <td>0.848738</td>\n",
       "      <td>0.850265</td>\n",
       "      <td>0.852757</td>\n",
       "      <td>0.851364</td>\n",
       "      <td>0.001665</td>\n",
       "      <td>2</td>\n",
       "    </tr>\n",
       "    <tr>\n",
       "      <th>27</th>\n",
       "      <td>4.924541</td>\n",
       "      <td>0.204978</td>\n",
       "      <td>0.214048</td>\n",
       "      <td>0.002367</td>\n",
       "      <td>71</td>\n",
       "      <td>11</td>\n",
       "      <td>sqrt</td>\n",
       "      <td>3</td>\n",
       "      <td>entropy</td>\n",
       "      <td>{'n_estimators': 71, 'min_samples_split': 11, ...</td>\n",
       "      <td>0.740248</td>\n",
       "      <td>0.738465</td>\n",
       "      <td>0.722941</td>\n",
       "      <td>0.743936</td>\n",
       "      <td>0.730526</td>\n",
       "      <td>0.735223</td>\n",
       "      <td>0.007544</td>\n",
       "      <td>47</td>\n",
       "    </tr>\n",
       "    <tr>\n",
       "      <th>28</th>\n",
       "      <td>20.397939</td>\n",
       "      <td>0.602064</td>\n",
       "      <td>0.912054</td>\n",
       "      <td>0.080394</td>\n",
       "      <td>97</td>\n",
       "      <td>2</td>\n",
       "      <td>sqrt</td>\n",
       "      <td>14</td>\n",
       "      <td>gini</td>\n",
       "      <td>{'n_estimators': 97, 'min_samples_split': 2, '...</td>\n",
       "      <td>0.798481</td>\n",
       "      <td>0.798896</td>\n",
       "      <td>0.794096</td>\n",
       "      <td>0.797528</td>\n",
       "      <td>0.799152</td>\n",
       "      <td>0.797631</td>\n",
       "      <td>0.001852</td>\n",
       "      <td>11</td>\n",
       "    </tr>\n",
       "    <tr>\n",
       "      <th>29</th>\n",
       "      <td>17.961986</td>\n",
       "      <td>0.780635</td>\n",
       "      <td>0.668376</td>\n",
       "      <td>0.049873</td>\n",
       "      <td>122</td>\n",
       "      <td>10</td>\n",
       "      <td>sqrt</td>\n",
       "      <td>8</td>\n",
       "      <td>gini</td>\n",
       "      <td>{'n_estimators': 122, 'min_samples_split': 10,...</td>\n",
       "      <td>0.765334</td>\n",
       "      <td>0.766128</td>\n",
       "      <td>0.760729</td>\n",
       "      <td>0.763319</td>\n",
       "      <td>0.766824</td>\n",
       "      <td>0.764467</td>\n",
       "      <td>0.002207</td>\n",
       "      <td>32</td>\n",
       "    </tr>\n",
       "    <tr>\n",
       "      <th>30</th>\n",
       "      <td>16.667459</td>\n",
       "      <td>0.605996</td>\n",
       "      <td>0.734491</td>\n",
       "      <td>0.056766</td>\n",
       "      <td>71</td>\n",
       "      <td>2</td>\n",
       "      <td>sqrt</td>\n",
       "      <td>15</td>\n",
       "      <td>entropy</td>\n",
       "      <td>{'n_estimators': 71, 'min_samples_split': 2, '...</td>\n",
       "      <td>0.805320</td>\n",
       "      <td>0.806773</td>\n",
       "      <td>0.801656</td>\n",
       "      <td>0.804160</td>\n",
       "      <td>0.807115</td>\n",
       "      <td>0.805005</td>\n",
       "      <td>0.001980</td>\n",
       "      <td>7</td>\n",
       "    </tr>\n",
       "    <tr>\n",
       "      <th>31</th>\n",
       "      <td>19.335111</td>\n",
       "      <td>0.043639</td>\n",
       "      <td>0.873808</td>\n",
       "      <td>0.029818</td>\n",
       "      <td>97</td>\n",
       "      <td>8</td>\n",
       "      <td>log2</td>\n",
       "      <td>15</td>\n",
       "      <td>gini</td>\n",
       "      <td>{'n_estimators': 97, 'min_samples_split': 8, '...</td>\n",
       "      <td>0.805308</td>\n",
       "      <td>0.806871</td>\n",
       "      <td>0.802645</td>\n",
       "      <td>0.803928</td>\n",
       "      <td>0.805283</td>\n",
       "      <td>0.804807</td>\n",
       "      <td>0.001427</td>\n",
       "      <td>8</td>\n",
       "    </tr>\n",
       "    <tr>\n",
       "      <th>32</th>\n",
       "      <td>7.742074</td>\n",
       "      <td>0.078112</td>\n",
       "      <td>0.303675</td>\n",
       "      <td>0.007281</td>\n",
       "      <td>45</td>\n",
       "      <td>10</td>\n",
       "      <td>sqrt</td>\n",
       "      <td>12</td>\n",
       "      <td>gini</td>\n",
       "      <td>{'n_estimators': 45, 'min_samples_split': 10, ...</td>\n",
       "      <td>0.781382</td>\n",
       "      <td>0.781639</td>\n",
       "      <td>0.777107</td>\n",
       "      <td>0.778903</td>\n",
       "      <td>0.781822</td>\n",
       "      <td>0.780170</td>\n",
       "      <td>0.001862</td>\n",
       "      <td>20</td>\n",
       "    </tr>\n",
       "    <tr>\n",
       "      <th>33</th>\n",
       "      <td>12.922312</td>\n",
       "      <td>0.054997</td>\n",
       "      <td>0.559526</td>\n",
       "      <td>0.001200</td>\n",
       "      <td>174</td>\n",
       "      <td>7</td>\n",
       "      <td>auto</td>\n",
       "      <td>4</td>\n",
       "      <td>gini</td>\n",
       "      <td>{'n_estimators': 174, 'min_samples_split': 7, ...</td>\n",
       "      <td>0.754134</td>\n",
       "      <td>0.749322</td>\n",
       "      <td>0.749542</td>\n",
       "      <td>0.747918</td>\n",
       "      <td>0.751753</td>\n",
       "      <td>0.750534</td>\n",
       "      <td>0.002179</td>\n",
       "      <td>37</td>\n",
       "    </tr>\n",
       "    <tr>\n",
       "      <th>34</th>\n",
       "      <td>10.408163</td>\n",
       "      <td>1.928278</td>\n",
       "      <td>0.394901</td>\n",
       "      <td>0.027996</td>\n",
       "      <td>45</td>\n",
       "      <td>3</td>\n",
       "      <td>sqrt</td>\n",
       "      <td>14</td>\n",
       "      <td>entropy</td>\n",
       "      <td>{'n_estimators': 45, 'min_samples_split': 3, '...</td>\n",
       "      <td>0.796001</td>\n",
       "      <td>0.796014</td>\n",
       "      <td>0.791360</td>\n",
       "      <td>0.794243</td>\n",
       "      <td>0.795635</td>\n",
       "      <td>0.794651</td>\n",
       "      <td>0.001769</td>\n",
       "      <td>14</td>\n",
       "    </tr>\n",
       "    <tr>\n",
       "      <th>35</th>\n",
       "      <td>6.498091</td>\n",
       "      <td>0.039025</td>\n",
       "      <td>0.276462</td>\n",
       "      <td>0.015923</td>\n",
       "      <td>32</td>\n",
       "      <td>5</td>\n",
       "      <td>auto</td>\n",
       "      <td>14</td>\n",
       "      <td>entropy</td>\n",
       "      <td>{'n_estimators': 32, 'min_samples_split': 5, '...</td>\n",
       "      <td>0.794951</td>\n",
       "      <td>0.796844</td>\n",
       "      <td>0.792093</td>\n",
       "      <td>0.792850</td>\n",
       "      <td>0.796050</td>\n",
       "      <td>0.794558</td>\n",
       "      <td>0.001822</td>\n",
       "      <td>16</td>\n",
       "    </tr>\n",
       "    <tr>\n",
       "      <th>36</th>\n",
       "      <td>7.579715</td>\n",
       "      <td>0.050623</td>\n",
       "      <td>0.322749</td>\n",
       "      <td>0.004671</td>\n",
       "      <td>97</td>\n",
       "      <td>7</td>\n",
       "      <td>sqrt</td>\n",
       "      <td>4</td>\n",
       "      <td>gini</td>\n",
       "      <td>{'n_estimators': 97, 'min_samples_split': 7, '...</td>\n",
       "      <td>0.755905</td>\n",
       "      <td>0.742300</td>\n",
       "      <td>0.744693</td>\n",
       "      <td>0.745841</td>\n",
       "      <td>0.747966</td>\n",
       "      <td>0.747341</td>\n",
       "      <td>0.004656</td>\n",
       "      <td>39</td>\n",
       "    </tr>\n",
       "    <tr>\n",
       "      <th>37</th>\n",
       "      <td>4.230309</td>\n",
       "      <td>0.038578</td>\n",
       "      <td>0.165437</td>\n",
       "      <td>0.001497</td>\n",
       "      <td>32</td>\n",
       "      <td>3</td>\n",
       "      <td>auto</td>\n",
       "      <td>8</td>\n",
       "      <td>gini</td>\n",
       "      <td>{'n_estimators': 32, 'min_samples_split': 3, '...</td>\n",
       "      <td>0.763099</td>\n",
       "      <td>0.758482</td>\n",
       "      <td>0.762891</td>\n",
       "      <td>0.760913</td>\n",
       "      <td>0.765419</td>\n",
       "      <td>0.762161</td>\n",
       "      <td>0.002329</td>\n",
       "      <td>34</td>\n",
       "    </tr>\n",
       "    <tr>\n",
       "      <th>38</th>\n",
       "      <td>11.148831</td>\n",
       "      <td>0.128793</td>\n",
       "      <td>0.419894</td>\n",
       "      <td>0.008136</td>\n",
       "      <td>71</td>\n",
       "      <td>14</td>\n",
       "      <td>log2</td>\n",
       "      <td>10</td>\n",
       "      <td>gini</td>\n",
       "      <td>{'n_estimators': 71, 'min_samples_split': 14, ...</td>\n",
       "      <td>0.771636</td>\n",
       "      <td>0.772173</td>\n",
       "      <td>0.769059</td>\n",
       "      <td>0.770854</td>\n",
       "      <td>0.772796</td>\n",
       "      <td>0.771304</td>\n",
       "      <td>0.001291</td>\n",
       "      <td>24</td>\n",
       "    </tr>\n",
       "    <tr>\n",
       "      <th>39</th>\n",
       "      <td>21.114052</td>\n",
       "      <td>0.162102</td>\n",
       "      <td>0.775496</td>\n",
       "      <td>0.004225</td>\n",
       "      <td>161</td>\n",
       "      <td>11</td>\n",
       "      <td>log2</td>\n",
       "      <td>8</td>\n",
       "      <td>gini</td>\n",
       "      <td>{'n_estimators': 161, 'min_samples_split': 11,...</td>\n",
       "      <td>0.764980</td>\n",
       "      <td>0.764479</td>\n",
       "      <td>0.760168</td>\n",
       "      <td>0.764980</td>\n",
       "      <td>0.764235</td>\n",
       "      <td>0.763768</td>\n",
       "      <td>0.001823</td>\n",
       "      <td>33</td>\n",
       "    </tr>\n",
       "    <tr>\n",
       "      <th>40</th>\n",
       "      <td>15.125617</td>\n",
       "      <td>0.131558</td>\n",
       "      <td>0.611137</td>\n",
       "      <td>0.086583</td>\n",
       "      <td>97</td>\n",
       "      <td>7</td>\n",
       "      <td>sqrt</td>\n",
       "      <td>10</td>\n",
       "      <td>gini</td>\n",
       "      <td>{'n_estimators': 97, 'min_samples_split': 7, '...</td>\n",
       "      <td>0.772320</td>\n",
       "      <td>0.771929</td>\n",
       "      <td>0.768754</td>\n",
       "      <td>0.771269</td>\n",
       "      <td>0.773040</td>\n",
       "      <td>0.771462</td>\n",
       "      <td>0.001471</td>\n",
       "      <td>22</td>\n",
       "    </tr>\n",
       "    <tr>\n",
       "      <th>41</th>\n",
       "      <td>1.988046</td>\n",
       "      <td>0.193477</td>\n",
       "      <td>0.083420</td>\n",
       "      <td>0.001854</td>\n",
       "      <td>20</td>\n",
       "      <td>7</td>\n",
       "      <td>sqrt</td>\n",
       "      <td>4</td>\n",
       "      <td>gini</td>\n",
       "      <td>{'n_estimators': 20, 'min_samples_split': 7, '...</td>\n",
       "      <td>0.748235</td>\n",
       "      <td>0.739637</td>\n",
       "      <td>0.722917</td>\n",
       "      <td>0.739845</td>\n",
       "      <td>0.741921</td>\n",
       "      <td>0.738511</td>\n",
       "      <td>0.008395</td>\n",
       "      <td>45</td>\n",
       "    </tr>\n",
       "    <tr>\n",
       "      <th>42</th>\n",
       "      <td>45.757449</td>\n",
       "      <td>0.920590</td>\n",
       "      <td>2.295661</td>\n",
       "      <td>0.018551</td>\n",
       "      <td>187</td>\n",
       "      <td>7</td>\n",
       "      <td>log2</td>\n",
       "      <td>19</td>\n",
       "      <td>entropy</td>\n",
       "      <td>{'n_estimators': 187, 'min_samples_split': 7, ...</td>\n",
       "      <td>0.849264</td>\n",
       "      <td>0.847945</td>\n",
       "      <td>0.845636</td>\n",
       "      <td>0.845636</td>\n",
       "      <td>0.848018</td>\n",
       "      <td>0.847300</td>\n",
       "      <td>0.001437</td>\n",
       "      <td>3</td>\n",
       "    </tr>\n",
       "    <tr>\n",
       "      <th>43</th>\n",
       "      <td>23.071463</td>\n",
       "      <td>0.186171</td>\n",
       "      <td>1.106069</td>\n",
       "      <td>0.085851</td>\n",
       "      <td>110</td>\n",
       "      <td>2</td>\n",
       "      <td>log2</td>\n",
       "      <td>16</td>\n",
       "      <td>gini</td>\n",
       "      <td>{'n_estimators': 110, 'min_samples_split': 2, ...</td>\n",
       "      <td>0.821637</td>\n",
       "      <td>0.821417</td>\n",
       "      <td>0.816141</td>\n",
       "      <td>0.818852</td>\n",
       "      <td>0.819634</td>\n",
       "      <td>0.819536</td>\n",
       "      <td>0.001998</td>\n",
       "      <td>5</td>\n",
       "    </tr>\n",
       "    <tr>\n",
       "      <th>44</th>\n",
       "      <td>5.087935</td>\n",
       "      <td>0.056362</td>\n",
       "      <td>0.240361</td>\n",
       "      <td>0.001610</td>\n",
       "      <td>84</td>\n",
       "      <td>9</td>\n",
       "      <td>auto</td>\n",
       "      <td>3</td>\n",
       "      <td>entropy</td>\n",
       "      <td>{'n_estimators': 84, 'min_samples_split': 9, '...</td>\n",
       "      <td>0.738538</td>\n",
       "      <td>0.736718</td>\n",
       "      <td>0.721781</td>\n",
       "      <td>0.727143</td>\n",
       "      <td>0.729915</td>\n",
       "      <td>0.730819</td>\n",
       "      <td>0.006171</td>\n",
       "      <td>48</td>\n",
       "    </tr>\n",
       "    <tr>\n",
       "      <th>45</th>\n",
       "      <td>24.714799</td>\n",
       "      <td>0.181661</td>\n",
       "      <td>0.912010</td>\n",
       "      <td>0.001943</td>\n",
       "      <td>161</td>\n",
       "      <td>7</td>\n",
       "      <td>log2</td>\n",
       "      <td>10</td>\n",
       "      <td>entropy</td>\n",
       "      <td>{'n_estimators': 161, 'min_samples_split': 7, ...</td>\n",
       "      <td>0.772869</td>\n",
       "      <td>0.771538</td>\n",
       "      <td>0.767471</td>\n",
       "      <td>0.770903</td>\n",
       "      <td>0.772063</td>\n",
       "      <td>0.770969</td>\n",
       "      <td>0.001864</td>\n",
       "      <td>26</td>\n",
       "    </tr>\n",
       "    <tr>\n",
       "      <th>46</th>\n",
       "      <td>8.200784</td>\n",
       "      <td>0.165525</td>\n",
       "      <td>0.307469</td>\n",
       "      <td>0.005749</td>\n",
       "      <td>45</td>\n",
       "      <td>7</td>\n",
       "      <td>sqrt</td>\n",
       "      <td>12</td>\n",
       "      <td>gini</td>\n",
       "      <td>{'n_estimators': 45, 'min_samples_split': 7, '...</td>\n",
       "      <td>0.782017</td>\n",
       "      <td>0.781321</td>\n",
       "      <td>0.778011</td>\n",
       "      <td>0.781333</td>\n",
       "      <td>0.782200</td>\n",
       "      <td>0.780977</td>\n",
       "      <td>0.001524</td>\n",
       "      <td>18</td>\n",
       "    </tr>\n",
       "    <tr>\n",
       "      <th>47</th>\n",
       "      <td>16.392589</td>\n",
       "      <td>0.158910</td>\n",
       "      <td>0.595051</td>\n",
       "      <td>0.015152</td>\n",
       "      <td>110</td>\n",
       "      <td>14</td>\n",
       "      <td>auto</td>\n",
       "      <td>9</td>\n",
       "      <td>gini</td>\n",
       "      <td>{'n_estimators': 110, 'min_samples_split': 14,...</td>\n",
       "      <td>0.769645</td>\n",
       "      <td>0.768460</td>\n",
       "      <td>0.763172</td>\n",
       "      <td>0.768350</td>\n",
       "      <td>0.768876</td>\n",
       "      <td>0.767701</td>\n",
       "      <td>0.002310</td>\n",
       "      <td>28</td>\n",
       "    </tr>\n",
       "    <tr>\n",
       "      <th>48</th>\n",
       "      <td>9.363122</td>\n",
       "      <td>0.127481</td>\n",
       "      <td>0.370083</td>\n",
       "      <td>0.005100</td>\n",
       "      <td>45</td>\n",
       "      <td>11</td>\n",
       "      <td>auto</td>\n",
       "      <td>14</td>\n",
       "      <td>gini</td>\n",
       "      <td>{'n_estimators': 45, 'min_samples_split': 11, ...</td>\n",
       "      <td>0.796624</td>\n",
       "      <td>0.796050</td>\n",
       "      <td>0.791824</td>\n",
       "      <td>0.793559</td>\n",
       "      <td>0.795879</td>\n",
       "      <td>0.794787</td>\n",
       "      <td>0.001814</td>\n",
       "      <td>13</td>\n",
       "    </tr>\n",
       "    <tr>\n",
       "      <th>49</th>\n",
       "      <td>24.228051</td>\n",
       "      <td>1.801459</td>\n",
       "      <td>1.008382</td>\n",
       "      <td>0.097781</td>\n",
       "      <td>110</td>\n",
       "      <td>9</td>\n",
       "      <td>auto</td>\n",
       "      <td>14</td>\n",
       "      <td>gini</td>\n",
       "      <td>{'n_estimators': 110, 'min_samples_split': 9, ...</td>\n",
       "      <td>0.795708</td>\n",
       "      <td>0.796429</td>\n",
       "      <td>0.791788</td>\n",
       "      <td>0.794658</td>\n",
       "      <td>0.796673</td>\n",
       "      <td>0.795051</td>\n",
       "      <td>0.001776</td>\n",
       "      <td>12</td>\n",
       "    </tr>\n",
       "  </tbody>\n",
       "</table>\n",
       "</div>"
      ],
      "text/plain": [
       "    mean_fit_time  std_fit_time  mean_score_time  std_score_time  \\\n",
       "0        5.039390      0.256434         0.216049        0.004337   \n",
       "1       11.154388      1.048350         0.443351        0.024375   \n",
       "2       45.633077      1.474989         2.064980        0.073718   \n",
       "3       31.295202      1.553604         1.393895        0.123355   \n",
       "4       35.741349      2.187992         1.326456        0.105632   \n",
       "5       32.542056      0.941822         1.177831        0.093853   \n",
       "6       36.255150      1.632041         1.282551        0.025038   \n",
       "7        6.543204      0.082088         0.283073        0.001105   \n",
       "8       41.066796      1.412635         1.773536        0.026275   \n",
       "9       12.018308      0.374582         0.437042        0.006441   \n",
       "10       7.721169      0.108927         0.415607        0.006319   \n",
       "11       5.795221      0.210709         0.215861        0.003939   \n",
       "12       4.600083      0.063620         0.248262        0.001607   \n",
       "13       5.843861      0.121808         0.242854        0.001166   \n",
       "14      18.553663      0.210216         0.680566        0.011331   \n",
       "15       8.926043      0.055428         0.367700        0.006104   \n",
       "16       5.022306      0.041681         0.279535        0.002884   \n",
       "17      21.197151      1.045745         0.790611        0.066479   \n",
       "18      14.156989      0.137168         0.568937        0.005766   \n",
       "19      46.054884      0.992643         2.508601        0.119396   \n",
       "20      25.590188      0.244205         1.036245        0.017407   \n",
       "21      13.386120      0.740671         0.470317        0.008318   \n",
       "22      11.077833      0.353300         0.401900        0.009249   \n",
       "23       7.026529      0.102994         0.286574        0.005256   \n",
       "24      13.116271      0.124847         0.536548        0.010291   \n",
       "25      25.153118      0.295682         0.920033        0.010592   \n",
       "26      34.298185      0.298615         1.844667        0.025349   \n",
       "27       4.924541      0.204978         0.214048        0.002367   \n",
       "28      20.397939      0.602064         0.912054        0.080394   \n",
       "29      17.961986      0.780635         0.668376        0.049873   \n",
       "30      16.667459      0.605996         0.734491        0.056766   \n",
       "31      19.335111      0.043639         0.873808        0.029818   \n",
       "32       7.742074      0.078112         0.303675        0.007281   \n",
       "33      12.922312      0.054997         0.559526        0.001200   \n",
       "34      10.408163      1.928278         0.394901        0.027996   \n",
       "35       6.498091      0.039025         0.276462        0.015923   \n",
       "36       7.579715      0.050623         0.322749        0.004671   \n",
       "37       4.230309      0.038578         0.165437        0.001497   \n",
       "38      11.148831      0.128793         0.419894        0.008136   \n",
       "39      21.114052      0.162102         0.775496        0.004225   \n",
       "40      15.125617      0.131558         0.611137        0.086583   \n",
       "41       1.988046      0.193477         0.083420        0.001854   \n",
       "42      45.757449      0.920590         2.295661        0.018551   \n",
       "43      23.071463      0.186171         1.106069        0.085851   \n",
       "44       5.087935      0.056362         0.240361        0.001610   \n",
       "45      24.714799      0.181661         0.912010        0.001943   \n",
       "46       8.200784      0.165525         0.307469        0.005749   \n",
       "47      16.392589      0.158910         0.595051        0.015152   \n",
       "48       9.363122      0.127481         0.370083        0.005100   \n",
       "49      24.228051      1.801459         1.008382        0.097781   \n",
       "\n",
       "   param_n_estimators param_min_samples_split param_max_features  \\\n",
       "0                  71                       7               sqrt   \n",
       "1                 148                      12               sqrt   \n",
       "2                 200                       3               auto   \n",
       "3                 135                      11               auto   \n",
       "4                 200                       7               auto   \n",
       "5                 161                      14               sqrt   \n",
       "6                 187                       7               sqrt   \n",
       "7                  97                      10               log2   \n",
       "8                 187                      10               sqrt   \n",
       "9                  71                       8               log2   \n",
       "10                187                       2               auto   \n",
       "11                 45                      14               log2   \n",
       "12                110                       7               sqrt   \n",
       "13                 71                       2               sqrt   \n",
       "14                122                      14               auto   \n",
       "15                110                      13               sqrt   \n",
       "16                 20                       7               sqrt   \n",
       "17                122                      10               log2   \n",
       "18                174                       7               log2   \n",
       "19                187                       7               sqrt   \n",
       "20                122                       5               sqrt   \n",
       "21                 84                      14               sqrt   \n",
       "22                 71                       5               sqrt   \n",
       "23                 84                      11               log2   \n",
       "24                161                      10               auto   \n",
       "25                135                      11               auto   \n",
       "26                135                       5               auto   \n",
       "27                 71                      11               sqrt   \n",
       "28                 97                       2               sqrt   \n",
       "29                122                      10               sqrt   \n",
       "30                 71                       2               sqrt   \n",
       "31                 97                       8               log2   \n",
       "32                 45                      10               sqrt   \n",
       "33                174                       7               auto   \n",
       "34                 45                       3               sqrt   \n",
       "35                 32                       5               auto   \n",
       "36                 97                       7               sqrt   \n",
       "37                 32                       3               auto   \n",
       "38                 71                      14               log2   \n",
       "39                161                      11               log2   \n",
       "40                 97                       7               sqrt   \n",
       "41                 20                       7               sqrt   \n",
       "42                187                       7               log2   \n",
       "43                110                       2               log2   \n",
       "44                 84                       9               auto   \n",
       "45                161                       7               log2   \n",
       "46                 45                       7               sqrt   \n",
       "47                110                      14               auto   \n",
       "48                 45                      11               auto   \n",
       "49                110                       9               auto   \n",
       "\n",
       "   param_max_depth param_criterion  \\\n",
       "0                3            gini   \n",
       "1                3         entropy   \n",
       "2               15            gini   \n",
       "3               15            gini   \n",
       "4               10            gini   \n",
       "5               12         entropy   \n",
       "6               12            gini   \n",
       "7                3         entropy   \n",
       "8               15            gini   \n",
       "9               10         entropy   \n",
       "10               1            gini   \n",
       "11               7         entropy   \n",
       "12               1            gini   \n",
       "13               4            gini   \n",
       "14               9            gini   \n",
       "15               4            gini   \n",
       "16              19         entropy   \n",
       "17              10            gini   \n",
       "18               4         entropy   \n",
       "19              19            gini   \n",
       "20              14         entropy   \n",
       "21               9            gini   \n",
       "22               9            gini   \n",
       "23               4         entropy   \n",
       "24               4         entropy   \n",
       "25              12            gini   \n",
       "26              19         entropy   \n",
       "27               3         entropy   \n",
       "28              14            gini   \n",
       "29               8            gini   \n",
       "30              15         entropy   \n",
       "31              15            gini   \n",
       "32              12            gini   \n",
       "33               4            gini   \n",
       "34              14         entropy   \n",
       "35              14         entropy   \n",
       "36               4            gini   \n",
       "37               8            gini   \n",
       "38              10            gini   \n",
       "39               8            gini   \n",
       "40              10            gini   \n",
       "41               4            gini   \n",
       "42              19         entropy   \n",
       "43              16            gini   \n",
       "44               3         entropy   \n",
       "45              10         entropy   \n",
       "46              12            gini   \n",
       "47               9            gini   \n",
       "48              14            gini   \n",
       "49              14            gini   \n",
       "\n",
       "                                               params  split0_test_score  \\\n",
       "0   {'n_estimators': 71, 'min_samples_split': 7, '...           0.731650   \n",
       "1   {'n_estimators': 148, 'min_samples_split': 12,...           0.738465   \n",
       "2   {'n_estimators': 200, 'min_samples_split': 3, ...           0.808679   \n",
       "3   {'n_estimators': 135, 'min_samples_split': 11,...           0.803574   \n",
       "4   {'n_estimators': 200, 'min_samples_split': 7, ...           0.772332   \n",
       "5   {'n_estimators': 161, 'min_samples_split': 14,...           0.779807   \n",
       "6   {'n_estimators': 187, 'min_samples_split': 7, ...           0.782237   \n",
       "7   {'n_estimators': 97, 'min_samples_split': 10, ...           0.731271   \n",
       "8   {'n_estimators': 187, 'min_samples_split': 10,...           0.804868   \n",
       "9   {'n_estimators': 71, 'min_samples_split': 8, '...           0.772320   \n",
       "10  {'n_estimators': 187, 'min_samples_split': 2, ...           0.722783   \n",
       "11  {'n_estimators': 45, 'min_samples_split': 14, ...           0.762073   \n",
       "12  {'n_estimators': 110, 'min_samples_split': 7, ...           0.711717   \n",
       "13  {'n_estimators': 71, 'min_samples_split': 2, '...           0.754000   \n",
       "14  {'n_estimators': 122, 'min_samples_split': 14,...           0.768424   \n",
       "15  {'n_estimators': 110, 'min_samples_split': 13,...           0.749652   \n",
       "16  {'n_estimators': 20, 'min_samples_split': 7, '...           0.846479   \n",
       "17  {'n_estimators': 122, 'min_samples_split': 10,...           0.771892   \n",
       "18  {'n_estimators': 174, 'min_samples_split': 7, ...           0.743814   \n",
       "19  {'n_estimators': 187, 'min_samples_split': 7, ...           0.852903   \n",
       "20  {'n_estimators': 122, 'min_samples_split': 5, ...           0.795195   \n",
       "21  {'n_estimators': 84, 'min_samples_split': 14, ...           0.767703   \n",
       "22  {'n_estimators': 71, 'min_samples_split': 5, '...           0.768485   \n",
       "23  {'n_estimators': 84, 'min_samples_split': 11, ...           0.745683   \n",
       "24  {'n_estimators': 161, 'min_samples_split': 10,...           0.751203   \n",
       "25  {'n_estimators': 135, 'min_samples_split': 11,...           0.781919   \n",
       "26  {'n_estimators': 135, 'min_samples_split': 5, ...           0.853269   \n",
       "27  {'n_estimators': 71, 'min_samples_split': 11, ...           0.740248   \n",
       "28  {'n_estimators': 97, 'min_samples_split': 2, '...           0.798481   \n",
       "29  {'n_estimators': 122, 'min_samples_split': 10,...           0.765334   \n",
       "30  {'n_estimators': 71, 'min_samples_split': 2, '...           0.805320   \n",
       "31  {'n_estimators': 97, 'min_samples_split': 8, '...           0.805308   \n",
       "32  {'n_estimators': 45, 'min_samples_split': 10, ...           0.781382   \n",
       "33  {'n_estimators': 174, 'min_samples_split': 7, ...           0.754134   \n",
       "34  {'n_estimators': 45, 'min_samples_split': 3, '...           0.796001   \n",
       "35  {'n_estimators': 32, 'min_samples_split': 5, '...           0.794951   \n",
       "36  {'n_estimators': 97, 'min_samples_split': 7, '...           0.755905   \n",
       "37  {'n_estimators': 32, 'min_samples_split': 3, '...           0.763099   \n",
       "38  {'n_estimators': 71, 'min_samples_split': 14, ...           0.771636   \n",
       "39  {'n_estimators': 161, 'min_samples_split': 11,...           0.764980   \n",
       "40  {'n_estimators': 97, 'min_samples_split': 7, '...           0.772320   \n",
       "41  {'n_estimators': 20, 'min_samples_split': 7, '...           0.748235   \n",
       "42  {'n_estimators': 187, 'min_samples_split': 7, ...           0.849264   \n",
       "43  {'n_estimators': 110, 'min_samples_split': 2, ...           0.821637   \n",
       "44  {'n_estimators': 84, 'min_samples_split': 9, '...           0.738538   \n",
       "45  {'n_estimators': 161, 'min_samples_split': 7, ...           0.772869   \n",
       "46  {'n_estimators': 45, 'min_samples_split': 7, '...           0.782017   \n",
       "47  {'n_estimators': 110, 'min_samples_split': 14,...           0.769645   \n",
       "48  {'n_estimators': 45, 'min_samples_split': 11, ...           0.796624   \n",
       "49  {'n_estimators': 110, 'min_samples_split': 9, ...           0.795708   \n",
       "\n",
       "    split1_test_score  split2_test_score  split3_test_score  \\\n",
       "0            0.741200           0.733408           0.742703   \n",
       "1            0.730355           0.736242           0.737646   \n",
       "2            0.809631           0.805467           0.807677   \n",
       "3            0.805442           0.800032           0.802877   \n",
       "4            0.771782           0.767850           0.771624   \n",
       "5            0.780149           0.776717           0.778842   \n",
       "6            0.782347           0.779037           0.781248   \n",
       "7            0.735851           0.743460           0.742800   \n",
       "8            0.805882           0.800948           0.802548   \n",
       "9            0.771624           0.766054           0.770671   \n",
       "10           0.712890           0.717372           0.717824   \n",
       "11           0.758592           0.757383           0.760436   \n",
       "12           0.709922           0.727143           0.724151   \n",
       "13           0.750299           0.747319           0.753096   \n",
       "14           0.766995           0.764955           0.765517   \n",
       "15           0.738403           0.751728           0.748834   \n",
       "16           0.846784           0.842351           0.845270   \n",
       "17           0.771672           0.768143           0.771489   \n",
       "18           0.747588           0.748589           0.742703   \n",
       "19           0.852427           0.849435           0.850057   \n",
       "20           0.796294           0.791715           0.793681   \n",
       "21           0.766567           0.765370           0.766372   \n",
       "22           0.769279           0.764552           0.765407   \n",
       "23           0.743826           0.749359           0.748516   \n",
       "24           0.747356           0.740297           0.738623   \n",
       "25           0.781321           0.777572           0.780014   \n",
       "26           0.851792           0.848738           0.850265   \n",
       "27           0.738465           0.722941           0.743936   \n",
       "28           0.798896           0.794096           0.797528   \n",
       "29           0.766128           0.760729           0.763319   \n",
       "30           0.806773           0.801656           0.804160   \n",
       "31           0.806871           0.802645           0.803928   \n",
       "32           0.781639           0.777107           0.778903   \n",
       "33           0.749322           0.749542           0.747918   \n",
       "34           0.796014           0.791360           0.794243   \n",
       "35           0.796844           0.792093           0.792850   \n",
       "36           0.742300           0.744693           0.745841   \n",
       "37           0.758482           0.762891           0.760913   \n",
       "38           0.772173           0.769059           0.770854   \n",
       "39           0.764479           0.760168           0.764980   \n",
       "40           0.771929           0.768754           0.771269   \n",
       "41           0.739637           0.722917           0.739845   \n",
       "42           0.847945           0.845636           0.845636   \n",
       "43           0.821417           0.816141           0.818852   \n",
       "44           0.736718           0.721781           0.727143   \n",
       "45           0.771538           0.767471           0.770903   \n",
       "46           0.781321           0.778011           0.781333   \n",
       "47           0.768460           0.763172           0.768350   \n",
       "48           0.796050           0.791824           0.793559   \n",
       "49           0.796429           0.791788           0.794658   \n",
       "\n",
       "    split4_test_score  mean_test_score  std_test_score  rank_test_score  \n",
       "0            0.743863         0.738565        0.005031               44  \n",
       "1            0.743631         0.737268        0.004264               46  \n",
       "2            0.808190         0.807929        0.001390                6  \n",
       "3            0.803122         0.803009        0.001740               10  \n",
       "4            0.773028         0.771323        0.001805               23  \n",
       "5            0.781553         0.779413        0.001605               21  \n",
       "6            0.782713         0.781516        0.001331               17  \n",
       "7            0.740736         0.738824        0.004623               43  \n",
       "8            0.804905         0.803830        0.001811                9  \n",
       "9            0.770586         0.770251        0.002194               27  \n",
       "10           0.714417         0.717057        0.003400               50  \n",
       "11           0.761145         0.759926        0.001709               35  \n",
       "12           0.713085         0.717204        0.007030               49  \n",
       "13           0.756858         0.752314        0.003259               36  \n",
       "14           0.768778         0.766934        0.001520               31  \n",
       "15           0.749518         0.747627        0.004712               38  \n",
       "16           0.843890         0.844955        0.001654                4  \n",
       "17           0.772076         0.771054        0.001469               25  \n",
       "18           0.748113         0.746161        0.002417               41  \n",
       "19           0.853978         0.851760        0.001731                1  \n",
       "20           0.796160         0.794609        0.001722               15  \n",
       "21           0.768802         0.766963        0.001181               30  \n",
       "22           0.768754         0.767295        0.001927               29  \n",
       "23           0.745023         0.746481        0.002109               40  \n",
       "24           0.747820         0.745060        0.004791               42  \n",
       "25           0.781883         0.780542        0.001637               19  \n",
       "26           0.852757         0.851364        0.001665                2  \n",
       "27           0.730526         0.735223        0.007544               47  \n",
       "28           0.799152         0.797631        0.001852               11  \n",
       "29           0.766824         0.764467        0.002207               32  \n",
       "30           0.807115         0.805005        0.001980                7  \n",
       "31           0.805283         0.804807        0.001427                8  \n",
       "32           0.781822         0.780170        0.001862               20  \n",
       "33           0.751753         0.750534        0.002179               37  \n",
       "34           0.795635         0.794651        0.001769               14  \n",
       "35           0.796050         0.794558        0.001822               16  \n",
       "36           0.747966         0.747341        0.004656               39  \n",
       "37           0.765419         0.762161        0.002329               34  \n",
       "38           0.772796         0.771304        0.001291               24  \n",
       "39           0.764235         0.763768        0.001823               33  \n",
       "40           0.773040         0.771462        0.001471               22  \n",
       "41           0.741921         0.738511        0.008395               45  \n",
       "42           0.848018         0.847300        0.001437                3  \n",
       "43           0.819634         0.819536        0.001998                5  \n",
       "44           0.729915         0.730819        0.006171               48  \n",
       "45           0.772063         0.770969        0.001864               26  \n",
       "46           0.782200         0.780977        0.001524               18  \n",
       "47           0.768876         0.767701        0.002310               28  \n",
       "48           0.795879         0.794787        0.001814               13  \n",
       "49           0.796673         0.795051        0.001776               12  "
      ]
     },
     "execution_count": 69,
     "metadata": {},
     "output_type": "execute_result"
    }
   ],
   "source": [
    "RSCV2_Result = pd.DataFrame(RSCV2.cv_results_)\n",
    "RSCV2_Result"
   ]
  },
  {
   "cell_type": "code",
   "execution_count": 70,
   "id": "49c7092f",
   "metadata": {},
   "outputs": [
    {
     "data": {
      "text/plain": [
       "0.8517599355138132"
      ]
     },
     "execution_count": 70,
     "metadata": {},
     "output_type": "execute_result"
    }
   ],
   "source": [
    "RSCV2.best_score_"
   ]
  },
  {
   "cell_type": "code",
   "execution_count": 72,
   "id": "b9c05e7b",
   "metadata": {},
   "outputs": [
    {
     "data": {
      "text/plain": [
       "RandomForestClassifier(max_depth=19, max_features='sqrt', min_samples_split=7,\n",
       "                       n_estimators=187)"
      ]
     },
     "execution_count": 72,
     "metadata": {},
     "output_type": "execute_result"
    }
   ],
   "source": [
    "RSCV2.best_estimator_"
   ]
  },
  {
   "cell_type": "code",
   "execution_count": 73,
   "id": "011fc3a6",
   "metadata": {},
   "outputs": [],
   "source": [
    "RFC_OverSampling_Dataset_HoldOut_RSCV2Tunning = RandomForestClassifier(max_depth=19, max_features='sqrt', min_samples_split=7,\n",
    "                       n_estimators=187)"
   ]
  },
  {
   "cell_type": "code",
   "execution_count": 74,
   "id": "d03822d4",
   "metadata": {},
   "outputs": [],
   "source": [
    "RFC_OverSampling_Dataset_HoldOut_RSCV2Tunning = RFC_OverSampling_Dataset_HoldOut_RSCV2Tunning.fit(OverSampling_Featurs_train,OverSampling_Classes_train)"
   ]
  },
  {
   "cell_type": "code",
   "execution_count": 76,
   "id": "d20a05f4",
   "metadata": {},
   "outputs": [
    {
     "data": {
      "text/plain": [
       "0.8572560329203096"
      ]
     },
     "execution_count": 76,
     "metadata": {},
     "output_type": "execute_result"
    }
   ],
   "source": [
    "RFC_OverSampling_Dataset_HoldOut_RSCV2Tunning.score(OverSampling_Featurs_test,OverSampling_Classes_test)"
   ]
  },
  {
   "cell_type": "code",
   "execution_count": null,
   "id": "cfd0e3db",
   "metadata": {},
   "outputs": [],
   "source": []
  },
  {
   "cell_type": "markdown",
   "id": "b30a6a0a",
   "metadata": {},
   "source": [
    "# Apply AdaBoostClassifier and Cross Validation Techniques"
   ]
  },
  {
   "cell_type": "code",
   "execution_count": 10,
   "id": "8b8b549b",
   "metadata": {},
   "outputs": [
    {
     "name": "stdout",
     "output_type": "stream",
     "text": [
      "Requirement already satisfied: xgboost in c:\\users\\city\\anaconda3\\lib\\site-packages (1.5.2)\n",
      "Requirement already satisfied: scipy in c:\\users\\city\\anaconda3\\lib\\site-packages (from xgboost) (1.7.1)\n",
      "Requirement already satisfied: numpy in c:\\users\\city\\anaconda3\\lib\\site-packages (from xgboost) (1.20.3)\n"
     ]
    }
   ],
   "source": [
    "!pip install xgboost"
   ]
  },
  {
   "cell_type": "raw",
   "id": "85c3ad82",
   "metadata": {},
   "source": [
    "---Here i will apply AdaBoostClassifier algorithm and Two cross validation techniques on (Normal, Over_Sampling , Under_Sampling  ) data sets .\n",
    "\n",
    "1st --- Apply AdaBoostClassifier with Hold Out Cross Validation technique on (Normal, Over_Sampling , Under_Sampling ) data sets .\n",
    "\n",
    "2nd --- Apply AdaBoostClassifier with K Fold Cross Validation technique on (Normal, Over_Sampling , Under_Sampling ) data sets .\n",
    "\n",
    "3rd --- Apply AdaBoostClassifier with Stratified k fold cross Validation technique on (Normal, Over_Sampling , Under_Sampling ) data sets ."
   ]
  },
  {
   "cell_type": "markdown",
   "id": "b37bf76d",
   "metadata": {},
   "source": [
    "# 1st--"
   ]
  },
  {
   "cell_type": "code",
   "execution_count": 13,
   "id": "16bd0fb2",
   "metadata": {},
   "outputs": [],
   "source": [
    "from sklearn.ensemble import AdaBoostClassifier\n",
    "\n",
    "ADAB = AdaBoostClassifier()"
   ]
  },
  {
   "cell_type": "code",
   "execution_count": 15,
   "id": "a6774e24",
   "metadata": {},
   "outputs": [],
   "source": [
    "#Apply AdaBoostClassifier with Hold Out Cross Validation technique on Normal data set\n",
    "\n",
    "ADAB_Normal_dataset_HoldOut = ADAB.fit(Normal_Featurs_train,Normal_Classes_train)\n",
    "ADAB_Normal_dataset_HoldOut_Predict = ADAB_Normal_dataset_HoldOut.predict(Normal_Featurs_test)"
   ]
  },
  {
   "cell_type": "code",
   "execution_count": 16,
   "id": "b2decbb9",
   "metadata": {},
   "outputs": [
    {
     "data": {
      "text/plain": [
       "0.913674313886949"
      ]
     },
     "execution_count": 16,
     "metadata": {},
     "output_type": "execute_result"
    }
   ],
   "source": [
    "ADAB_Normal_dataset_HoldOut.score(Normal_Featurs_test,Normal_Classes_test)"
   ]
  },
  {
   "cell_type": "code",
   "execution_count": 22,
   "id": "3f121859",
   "metadata": {},
   "outputs": [],
   "source": [
    "#Apply AdaBoostClassifier with Hold Out Cross Validation technique on Over Sampling data set\n",
    "\n",
    "ADAB_OverSampling_dataset_HoldOut = ADAB.fit(OverSampling_Featurs_train , OverSampling_Classes_train)\n",
    "ADAB_OverSampling_dataset_HoldOut_Pradict = ADAB_OverSampling_dataset_HoldOut.predict(OverSampling_Featurs_test)"
   ]
  },
  {
   "cell_type": "code",
   "execution_count": 24,
   "id": "64ae0b5c",
   "metadata": {},
   "outputs": [
    {
     "data": {
      "text/plain": [
       "0.7617381193931173"
      ]
     },
     "execution_count": 24,
     "metadata": {},
     "output_type": "execute_result"
    }
   ],
   "source": [
    "ADAB_OverSampling_dataset_HoldOut.score(OverSampling_Featurs_test , OverSampling_Classes_test)"
   ]
  },
  {
   "cell_type": "code",
   "execution_count": 25,
   "id": "a918c6ca",
   "metadata": {},
   "outputs": [],
   "source": [
    "#Apply AdaBoostClassifier with Hold Out Cross Validation technique on Under Sampling data set\n",
    "\n",
    "ADAB_UnderSampling_dataset_HoldOut = ADAB.fit(UnderSampling_Featurs_train , UnderSampling_Classes_train)\n",
    "ADAB_UnderSampling_dataset_HoldOut_Pradict = ADAB_UnderSampling_dataset_HoldOut.predict(UnderSampling_Featurs_test)"
   ]
  },
  {
   "cell_type": "code",
   "execution_count": 26,
   "id": "8fc2107a",
   "metadata": {},
   "outputs": [
    {
     "data": {
      "text/plain": [
       "0.8961885046273745"
      ]
     },
     "execution_count": 26,
     "metadata": {},
     "output_type": "execute_result"
    }
   ],
   "source": [
    "ADAB_UnderSampling_dataset_HoldOut.score(UnderSampling_Featurs_test,UnderSampling_Classes_test)"
   ]
  },
  {
   "cell_type": "code",
   "execution_count": null,
   "id": "af359d99",
   "metadata": {},
   "outputs": [],
   "source": []
  },
  {
   "cell_type": "markdown",
   "id": "2c13d8b1",
   "metadata": {},
   "source": [
    "# 2nd---"
   ]
  },
  {
   "cell_type": "code",
   "execution_count": 30,
   "id": "d5e07232",
   "metadata": {},
   "outputs": [],
   "source": [
    "#Apply AdaBoostClassifier with K Fold Cross Validation technique on Normal data set\n",
    "\n",
    "kfold = KFold(n_splits = 3)\n",
    "\n",
    "ADAB_NormalDataset_kfold_result = cross_val_score(ADAB,Normal_Featurs,Normal_Classes,cv = kfold)\n",
    "ADAB_NormalDataset_kfold_Accuracy = ADAB_NormalDataset_kfold_result.mean()"
   ]
  },
  {
   "cell_type": "code",
   "execution_count": 31,
   "id": "3689efab",
   "metadata": {},
   "outputs": [
    {
     "data": {
      "text/plain": [
       "0.9154802340476537"
      ]
     },
     "execution_count": 31,
     "metadata": {},
     "output_type": "execute_result"
    }
   ],
   "source": [
    "ADAB_NormalDataset_kfold_Accuracy"
   ]
  },
  {
   "cell_type": "code",
   "execution_count": 33,
   "id": "8641c69c",
   "metadata": {},
   "outputs": [],
   "source": [
    "#Apply AdaBoostClassifier with K Fold Cross Validation technique on Over sampling data set\n",
    "\n",
    "ADAB_OverSampling_Dataset_kfold_result = cross_val_score(ADAB,OverSampling_Featurs,OverSampling_Classes,cv = kfold)\n",
    "ADAB_OverSampling_Dataset_kfold_Accuracy = ADAB_OverSampling_Dataset_kfold_result.mean()"
   ]
  },
  {
   "cell_type": "code",
   "execution_count": 36,
   "id": "f7419ad9",
   "metadata": {},
   "outputs": [
    {
     "data": {
      "text/plain": [
       "0.5803188542585714"
      ]
     },
     "execution_count": 36,
     "metadata": {},
     "output_type": "execute_result"
    }
   ],
   "source": [
    "ADAB_OverSampling_Dataset_kfold_Accuracy"
   ]
  },
  {
   "cell_type": "code",
   "execution_count": 34,
   "id": "e84e1222",
   "metadata": {},
   "outputs": [],
   "source": [
    "#Apply AdaBoostClassifier with K Fold Cross Validation technique on Under sampling data set\n",
    "\n",
    "ADAB_UnderSampling_Dataset_kfold_result = cross_val_score(ADAB,UnderSampling_Featurs,UnderSampling_Classes,cv = kfold)\n",
    "ADAB_UnderSampling_Dataset_kfold_Accuracy = ADAB_UnderSampling_Dataset_kfold_result.mean()"
   ]
  },
  {
   "cell_type": "code",
   "execution_count": 35,
   "id": "48eb36f9",
   "metadata": {},
   "outputs": [
    {
     "data": {
      "text/plain": [
       "0.8336671383754054"
      ]
     },
     "execution_count": 35,
     "metadata": {},
     "output_type": "execute_result"
    }
   ],
   "source": [
    "ADAB_UnderSampling_Dataset_kfold_Accuracy"
   ]
  },
  {
   "cell_type": "code",
   "execution_count": null,
   "id": "f01d6a7d",
   "metadata": {},
   "outputs": [],
   "source": []
  },
  {
   "cell_type": "markdown",
   "id": "f2975117",
   "metadata": {},
   "source": [
    "# 3rd---"
   ]
  },
  {
   "cell_type": "code",
   "execution_count": 59,
   "id": "d4d3439a",
   "metadata": {},
   "outputs": [],
   "source": [
    "from sklearn.model_selection import StratifiedKFold ,cross_val_predict"
   ]
  },
  {
   "cell_type": "code",
   "execution_count": 38,
   "id": "a1570b52",
   "metadata": {},
   "outputs": [],
   "source": [
    "#Apply AdaBoostClassifier with Stratified k fold cross Validation technique on Normal data set\n",
    "\n",
    "Sf_Kfold = StratifiedKFold(n_splits = 4)\n",
    "\n",
    "ADAB_NormalDataset_Sf_Kfold_result = cross_val_score(ADAB,Normal_Featurs,Normal_Classes,cv = Sf_Kfold)\n",
    "ADAB_NormalDataset_Sf_Kfold_result_Accuracy = ADAB_NormalDataset_Sf_Kfold_result.mean()"
   ]
  },
  {
   "cell_type": "code",
   "execution_count": 39,
   "id": "f1660e5a",
   "metadata": {},
   "outputs": [
    {
     "data": {
      "text/plain": [
       "0.9155677865195548"
      ]
     },
     "execution_count": 39,
     "metadata": {},
     "output_type": "execute_result"
    }
   ],
   "source": [
    "ADAB_NormalDataset_Sf_Kfold_result_Accuracy"
   ]
  },
  {
   "cell_type": "code",
   "execution_count": 60,
   "id": "bdc6dae3",
   "metadata": {},
   "outputs": [],
   "source": [
    "ADAB_NormalDataset_Sf_Kfold_predict = cross_val_predict(ADAB,Normal_Featurs,Normal_Classes,cv = Sf_Kfold)"
   ]
  },
  {
   "cell_type": "code",
   "execution_count": null,
   "id": "e6ed44f0",
   "metadata": {},
   "outputs": [],
   "source": []
  },
  {
   "cell_type": "code",
   "execution_count": 40,
   "id": "d09ba3e5",
   "metadata": {},
   "outputs": [],
   "source": [
    "#Apply AdaBoostClassifier with Stratified k fold cross Validation technique on Over Sampling data set\n",
    "\n",
    "ADAB_OverSampling_Dataset_Sf_Kfold_result = cross_val_score(ADAB,OverSampling_Featurs,OverSampling_Classes,cv = Sf_Kfold)\n",
    "ADAB_OverSampling_Dataset_Sf_Kfold_Accuracy = ADAB_OverSampling_Dataset_Sf_Kfold_result.mean()"
   ]
  },
  {
   "cell_type": "code",
   "execution_count": 41,
   "id": "948eef59",
   "metadata": {},
   "outputs": [
    {
     "data": {
      "text/plain": [
       "0.7611482720178372"
      ]
     },
     "execution_count": 41,
     "metadata": {},
     "output_type": "execute_result"
    }
   ],
   "source": [
    "ADAB_OverSampling_Dataset_Sf_Kfold_Accuracy"
   ]
  },
  {
   "cell_type": "code",
   "execution_count": 42,
   "id": "5267b9dc",
   "metadata": {},
   "outputs": [],
   "source": [
    "#Apply AdaBoostClassifier with Stratified k fold cross Validation technique on Under Sampling data set\n",
    "\n",
    "ADAB_UnderSampling_Dataset_Sf_Kfold_result = cross_val_score(ADAB,UnderSampling_Featurs,UnderSampling_Classes,cv = Sf_Kfold)\n",
    "ADAB_UnderSampling_Dataset_Sf_Kfold_Accuracy = ADAB_UnderSampling_Dataset_Sf_Kfold_result.mean()"
   ]
  },
  {
   "cell_type": "code",
   "execution_count": 43,
   "id": "a3811791",
   "metadata": {},
   "outputs": [
    {
     "data": {
      "text/plain": [
       "0.8897629422210671"
      ]
     },
     "execution_count": 43,
     "metadata": {},
     "output_type": "execute_result"
    }
   ],
   "source": [
    "ADAB_UnderSampling_Dataset_Sf_Kfold_Accuracy"
   ]
  },
  {
   "cell_type": "code",
   "execution_count": null,
   "id": "0429b351",
   "metadata": {},
   "outputs": [],
   "source": []
  },
  {
   "cell_type": "markdown",
   "id": "8cda42f5",
   "metadata": {},
   "source": [
    "# Evaluate this Model = ( ADAB_Normal_dataset_HoldOut ) "
   ]
  },
  {
   "cell_type": "code",
   "execution_count": 64,
   "id": "62629864",
   "metadata": {},
   "outputs": [
    {
     "name": "stdout",
     "output_type": "stream",
     "text": [
      "              precision    recall  f1-score   support\n",
      "\n",
      "           0       0.92      0.99      0.95     87649\n",
      "           1       0.50      0.11      0.18      8290\n",
      "\n",
      "    accuracy                           0.91     95939\n",
      "   macro avg       0.71      0.55      0.57     95939\n",
      "weighted avg       0.89      0.91      0.89     95939\n",
      "\n"
     ]
    }
   ],
   "source": [
    "#classification_report \n",
    "\n",
    "ADAB_Normal_dataset_HoldOut_CR = classification_report(Normal_Classes_test,ADAB_Normal_dataset_HoldOut_Predict)\n",
    "print(ADAB_Normal_dataset_HoldOut_CR)"
   ]
  },
  {
   "cell_type": "code",
   "execution_count": 65,
   "id": "3736bc96",
   "metadata": {},
   "outputs": [
    {
     "data": {
      "text/plain": [
       "0.913674313886949"
      ]
     },
     "execution_count": 65,
     "metadata": {},
     "output_type": "execute_result"
    }
   ],
   "source": [
    "#Accuracy Score\n",
    "\n",
    "ADAB_Normal_dataset_HoldOut_AS = accuracy_score(Normal_Classes_test,ADAB_Normal_dataset_HoldOut_Predict)\n",
    "\n",
    "ADAB_Normal_dataset_HoldOut_AS"
   ]
  },
  {
   "cell_type": "code",
   "execution_count": 66,
   "id": "d378dc67",
   "metadata": {},
   "outputs": [
    {
     "data": {
      "text/plain": [
       "array([[86718,   931],\n",
       "       [ 7351,   939]], dtype=int64)"
      ]
     },
     "execution_count": 66,
     "metadata": {},
     "output_type": "execute_result"
    }
   ],
   "source": [
    "#Confusion Matrix\n",
    "\n",
    "ADAB_Normal_dataset_HoldOut_CM = confusion_matrix(Normal_Classes_test,ADAB_Normal_dataset_HoldOut_Predict)\n",
    "\n",
    "ADAB_Normal_dataset_HoldOut_CM"
   ]
  },
  {
   "cell_type": "code",
   "execution_count": 67,
   "id": "a40523e3",
   "metadata": {},
   "outputs": [
    {
     "data": {
      "text/plain": [
       "Text(33.0, 0.5, 'Predicted Values')"
      ]
     },
     "execution_count": 67,
     "metadata": {},
     "output_type": "execute_result"
    },
    {
     "data": {
      "image/png": "[encoded data removed]",
      "text/plain": [
       "<Figure size 432x288 with 2 Axes>"
      ]
     },
     "metadata": {
      "needs_background": "light"
     },
     "output_type": "display_data"
    }
   ],
   "source": [
    "sns.heatmap(ADAB_Normal_dataset_HoldOut_CM,annot = True)\n",
    "plt.xlabel(\"Acutal Values\")\n",
    "plt.ylabel(\"Predicted Values\")"
   ]
  },
  {
   "cell_type": "code",
   "execution_count": 68,
   "id": "b3333d4c",
   "metadata": {},
   "outputs": [],
   "source": [
    "tp , fn, fp ,tn = confusion_matrix(Normal_Classes_test,ADAB_Normal_dataset_HoldOut_Predict).reshape(-1)"
   ]
  },
  {
   "cell_type": "code",
   "execution_count": 69,
   "id": "3b565873",
   "metadata": {},
   "outputs": [
    {
     "data": {
      "text/plain": [
       "0.9218552339240345"
      ]
     },
     "execution_count": 69,
     "metadata": {},
     "output_type": "execute_result"
    }
   ],
   "source": [
    "# Precision Of Positive Predictive Value as PPPV \n",
    "\n",
    "ADAB_Normal_dataset_HoldOut_PPV = tp/(tp+fp)\n",
    "\n",
    "ADAB_Normal_dataset_HoldOut_PPV"
   ]
  },
  {
   "cell_type": "code",
   "execution_count": 70,
   "id": "9b1b463c",
   "metadata": {},
   "outputs": [
    {
     "data": {
      "text/plain": [
       "0.9893780875994022"
      ]
     },
     "execution_count": 70,
     "metadata": {},
     "output_type": "execute_result"
    }
   ],
   "source": [
    "# Sensitivity, Recall Hit Rate\n",
    "\n",
    "ADAB_Normal_dataset_HoldOut_Sensitivity = tp/(tp+fn)\n",
    "\n",
    "ADAB_Normal_dataset_HoldOut_Sensitivity"
   ]
  },
  {
   "cell_type": "code",
   "execution_count": 71,
   "id": "b94fa06a",
   "metadata": {},
   "outputs": [
    {
     "data": {
      "text/plain": [
       "0.8867310012062726"
      ]
     },
     "execution_count": 71,
     "metadata": {},
     "output_type": "execute_result"
    }
   ],
   "source": [
    "# Flase Positive Rate or 1-Specificity \n",
    "\n",
    "ADAB_Normal_dataset_HoldOut_FPR = fp/(fp+tn)\n",
    "\n",
    "ADAB_Normal_dataset_HoldOut_FPR"
   ]
  },
  {
   "cell_type": "code",
   "execution_count": 72,
   "id": "3777d600",
   "metadata": {},
   "outputs": [
    {
     "data": {
      "text/plain": [
       "0.4772119437810234"
      ]
     },
     "execution_count": 72,
     "metadata": {},
     "output_type": "execute_result"
    }
   ],
   "source": [
    "# F1 Score\n",
    "\n",
    "ADAB_Normal_dataset_HoldOut_F1Score = (ADAB_Normal_dataset_HoldOut_PPV*ADAB_Normal_dataset_HoldOut_Sensitivity)/(ADAB_Normal_dataset_HoldOut_PPV+ADAB_Normal_dataset_HoldOut_Sensitivity)\n",
    "\n",
    "ADAB_Normal_dataset_HoldOut_F1Score"
   ]
  },
  {
   "cell_type": "code",
   "execution_count": 73,
   "id": "d698b933",
   "metadata": {},
   "outputs": [
    {
     "data": {
      "text/plain": [
       "0.912821052631579"
      ]
     },
     "execution_count": 73,
     "metadata": {},
     "output_type": "execute_result"
    }
   ],
   "source": [
    "#Treat Score , Critical Success or Index\n",
    "\n",
    "ADAB_Normal_dataset_HoldOut_TreatScore = tp/(tp+fn+fp)\n",
    "\n",
    "ADAB_Normal_dataset_HoldOut_TreatScore"
   ]
  },
  {
   "cell_type": "code",
   "execution_count": 74,
   "id": "dbb8d960",
   "metadata": {},
   "outputs": [
    {
     "data": {
      "text/plain": [
       "0.07814476607596552"
      ]
     },
     "execution_count": 74,
     "metadata": {},
     "output_type": "execute_result"
    }
   ],
   "source": [
    "# False Discovery Rate \n",
    "\n",
    "ADAB_Normal_dataset_HoldOut_FDR = fp/(tp+fp)\n",
    "ADAB_Normal_dataset_HoldOut_FDR"
   ]
  },
  {
   "cell_type": "code",
   "execution_count": 135,
   "id": "ee2ae9f5",
   "metadata": {},
   "outputs": [
    {
     "data": {
      "text/plain": [
       "[<matplotlib.lines.Line2D at 0x1cb3a783940>]"
      ]
     },
     "execution_count": 135,
     "metadata": {},
     "output_type": "execute_result"
    },
    {
     "data": {
      "image/png": "[encoded data removed]",
      "text/plain": [
       "<Figure size 432x288 with 1 Axes>"
      ]
     },
     "metadata": {
      "needs_background": "light"
     },
     "output_type": "display_data"
    }
   ],
   "source": [
    "# ROC and AUC Curve\n",
    "warnings.filterwarnings(\"ignore\")\n",
    "plot_roc_curve(ADAB,Normal_Featurs_test,Normal_Classes_test)\n",
    "plt.plot([0,1],[0,1])"
   ]
  },
  {
   "cell_type": "code",
   "execution_count": null,
   "id": "24d157eb",
   "metadata": {},
   "outputs": [],
   "source": []
  },
  {
   "cell_type": "markdown",
   "id": "d267511b",
   "metadata": {},
   "source": [
    "# Apply Mutinomial Naive Bayes and Cross Validation Techniques"
   ]
  },
  {
   "cell_type": "raw",
   "id": "8a664bb5",
   "metadata": {},
   "source": [
    "---Here i will apply Mutinomial Naive Bayes algorithm and Two cross validation techniques on (Normal, Over_Sampling , Under_Sampling  ) data sets .\n",
    "\n",
    "1st --- Apply Mutinomial Naive Bayes with Hold Out Cross Validation technique on (Normal, Over_Sampling , Under_Sampling ) data sets .\n",
    "\n",
    "2nd --- Apply Mutinomial Naive Bayes with K Fold Cross Validation technique on (Normal, Over_Sampling , Under_Sampling ) data sets .\n",
    "\n",
    "3rd --- Apply Mutinomial Naive Bayes with Stratified k fold cross Validation technique on (Normal, Over_Sampling , Under_Sampling) data sets ."
   ]
  },
  {
   "cell_type": "markdown",
   "id": "7d07c566",
   "metadata": {},
   "source": [
    "# 1st--"
   ]
  },
  {
   "cell_type": "code",
   "execution_count": 77,
   "id": "03b98187",
   "metadata": {},
   "outputs": [],
   "source": [
    "from sklearn.naive_bayes import MultinomialNB\n",
    "MNB = MultinomialNB()\n",
    "       "
   ]
  },
  {
   "cell_type": "code",
   "execution_count": 123,
   "id": "d8495301",
   "metadata": {},
   "outputs": [],
   "source": [
    "#Apply Mutinomial Naive Bayes with Hold Out Cross Validation technique on Normal data set\n",
    "\n",
    "MNB_NormalDataset_HoldOut = MNB.fit(Normal_Featurs_train , Normal_Classes_train)\n",
    "MNB_NormalDataset_HoldOut_Predict = MNB_NormalDataset_HoldOut.predict(Normal_Featurs_test)\n",
    "\n",
    "MNB_NormalDataset_HoldOut_Predict_TraingData = MNB_NormalDataset_HoldOut.predict(Normal_Featurs_train)"
   ]
  },
  {
   "cell_type": "code",
   "execution_count": 80,
   "id": "14b3cfa2",
   "metadata": {},
   "outputs": [
    {
     "data": {
      "text/plain": [
       "0.8377614942828255"
      ]
     },
     "execution_count": 80,
     "metadata": {},
     "output_type": "execute_result"
    }
   ],
   "source": [
    "MNB_NormalDataset_HoldOut.score(Normal_Featurs_test,Normal_Classes_test)"
   ]
  },
  {
   "cell_type": "code",
   "execution_count": 83,
   "id": "249c0931",
   "metadata": {},
   "outputs": [],
   "source": [
    "#Apply Mutinomial Naive Bayes with Hold Out Cross Validation technique on Over Sampling data set\n",
    "\n",
    "MNB_OverSampling_Dataset_HoldOut = MNB.fit(OverSampling_Featurs_train , OverSampling_Classes_train)\n",
    "MNB_OverSampling_Dataset_HoldOut_Predict = MNB_NormalDataset_HoldOut.predict(OverSampling_Featurs_test)"
   ]
  },
  {
   "cell_type": "code",
   "execution_count": 84,
   "id": "ec53feec",
   "metadata": {},
   "outputs": [
    {
     "data": {
      "text/plain": [
       "0.6288314885953014"
      ]
     },
     "execution_count": 84,
     "metadata": {},
     "output_type": "execute_result"
    }
   ],
   "source": [
    "MNB_OverSampling_Dataset_HoldOut.score(OverSampling_Featurs_test,OverSampling_Classes_test)"
   ]
  },
  {
   "cell_type": "code",
   "execution_count": 85,
   "id": "2d927f51",
   "metadata": {},
   "outputs": [],
   "source": [
    "#Apply Mutinomial Naive Bayes with Hold Out Cross Validation technique on Under Sampling data set\n",
    "\n",
    "MNB_UnderSampling_Dataset_HoldOut = MNB.fit(UnderSampling_Featurs_train , UnderSampling_Classes_train)\n",
    "MNB_UnderSampling_Dataset_HoldOut_Predict = MNB_UnderSampling_Dataset_HoldOut.predict(UnderSampling_Featurs_test)"
   ]
  },
  {
   "cell_type": "code",
   "execution_count": 86,
   "id": "f964cec4",
   "metadata": {},
   "outputs": [
    {
     "data": {
      "text/plain": [
       "0.5594229826621223"
      ]
     },
     "execution_count": 86,
     "metadata": {},
     "output_type": "execute_result"
    }
   ],
   "source": [
    "MNB_UnderSampling_Dataset_HoldOut.score(OverSampling_Featurs_test,OverSampling_Classes_test)"
   ]
  },
  {
   "cell_type": "code",
   "execution_count": null,
   "id": "cb130f86",
   "metadata": {},
   "outputs": [],
   "source": []
  },
  {
   "cell_type": "markdown",
   "id": "2ee7e328",
   "metadata": {},
   "source": [
    "# 2nd---"
   ]
  },
  {
   "cell_type": "code",
   "execution_count": 91,
   "id": "08d78644",
   "metadata": {},
   "outputs": [],
   "source": [
    "#Apply Mutinomial Naive Bayes with K Fold Cross Validation technique on Normal data sets\n",
    "\n",
    "kfold = KFold(n_splits = 2)\n",
    "\n",
    "MNB_NormalDataset_kfold_result = cross_val_score(MNB,Normal_Featurs,Normal_Classes,cv = kfold)\n",
    "MNB_NormalDataset_kfold_Accuracy = MNB_NormalDataset_kfold_result.mean()"
   ]
  },
  {
   "cell_type": "code",
   "execution_count": 92,
   "id": "6d557e77",
   "metadata": {},
   "outputs": [
    {
     "data": {
      "text/plain": [
       "0.8400444031412708"
      ]
     },
     "execution_count": 92,
     "metadata": {},
     "output_type": "execute_result"
    }
   ],
   "source": [
    "MNB_NormalDataset_kfold_Accuracy"
   ]
  },
  {
   "cell_type": "code",
   "execution_count": 104,
   "id": "4b542407",
   "metadata": {},
   "outputs": [],
   "source": [
    "#Apply Mutinomial Naive Bayes with K Fold Cross Validation technique on Over sampling data sets\n",
    "\n",
    "kfold = KFold(n_splits = 5)\n",
    "\n",
    "MNB_OverSampling_Dataset_kfold_result = cross_val_score(MNB,OverSampling_Featurs,OverSampling_Classes,cv = kfold)\n",
    "MNB_OverSampling_kfold_result_Accuracy = MNB_OverSampling_Dataset_kfold_result.mean()"
   ]
  },
  {
   "cell_type": "code",
   "execution_count": 105,
   "id": "a49621d4",
   "metadata": {},
   "outputs": [
    {
     "data": {
      "text/plain": [
       "0.6203718670920771"
      ]
     },
     "execution_count": 105,
     "metadata": {},
     "output_type": "execute_result"
    }
   ],
   "source": [
    "MNB_OverSampling_kfold_result_Accuracy"
   ]
  },
  {
   "cell_type": "code",
   "execution_count": 106,
   "id": "810ef9b2",
   "metadata": {},
   "outputs": [],
   "source": [
    "#Apply Mutinomial Naive Bayes with K Fold Cross Validation technique on Under sampling data sets\n",
    "\n",
    "kfold = KFold(n_splits = 4)\n",
    "\n",
    "MNB_UnderSamplingDataset_kfold_result = cross_val_score(MNB,UnderSampling_Featurs,UnderSampling_Classes,cv = kfold)\n",
    "MNB_UnderSamplingDataset_kfold_Accuracy = MNB_UnderSamplingDataset_kfold_result.mean()"
   ]
  },
  {
   "cell_type": "code",
   "execution_count": 107,
   "id": "bfd88c0f",
   "metadata": {},
   "outputs": [
    {
     "data": {
      "text/plain": [
       "0.7781492929847287"
      ]
     },
     "execution_count": 107,
     "metadata": {},
     "output_type": "execute_result"
    }
   ],
   "source": [
    "MNB_UnderSamplingDataset_kfold_Accuracy"
   ]
  },
  {
   "cell_type": "code",
   "execution_count": null,
   "id": "210b8864",
   "metadata": {},
   "outputs": [],
   "source": []
  },
  {
   "cell_type": "markdown",
   "id": "086eb8b4",
   "metadata": {},
   "source": [
    "# 3rd--"
   ]
  },
  {
   "cell_type": "code",
   "execution_count": 108,
   "id": "ff57abe9",
   "metadata": {},
   "outputs": [],
   "source": [
    "#Apply Mutinomial Naive Bayes with Stratified k fold cross Validation technique on Normal data sets\n",
    "\n",
    "Sf_Kfold = StratifiedKFold(n_splits = 4)\n",
    "\n",
    "MNB_NormalDataset_Sf_Kfold_result = cross_val_score(ADAB,Normal_Featurs,Normal_Classes,cv = Sf_Kfold)\n",
    "MNB_NormalDataset_Sf_Kfold_result_Accuracy = MNB_NormalDataset_Sf_Kfold_result.mean()"
   ]
  },
  {
   "cell_type": "code",
   "execution_count": 109,
   "id": "153f6164",
   "metadata": {},
   "outputs": [
    {
     "data": {
      "text/plain": [
       "0.9155677865195548"
      ]
     },
     "execution_count": 109,
     "metadata": {},
     "output_type": "execute_result"
    }
   ],
   "source": [
    "MNB_NormalDataset_Sf_Kfold_result_Accuracy"
   ]
  },
  {
   "cell_type": "code",
   "execution_count": 110,
   "id": "1066a0ce",
   "metadata": {},
   "outputs": [],
   "source": [
    "#Apply Mutinomial Naive Bayes with Stratified k fold cross Validation technique on OverSampling data sets\n",
    "\n",
    "MNB_OverSampling_Dataset_Sf_Kfold_result = cross_val_score(ADAB,OverSampling_Featurs,OverSampling_Classes,cv = Sf_Kfold)\n",
    "MNB_OverSampling_Dataset_Sf_Kfold_Accuracy = MNB_OverSampling_Dataset_Sf_Kfold_result.mean()"
   ]
  },
  {
   "cell_type": "code",
   "execution_count": 111,
   "id": "2113c51b",
   "metadata": {},
   "outputs": [
    {
     "data": {
      "text/plain": [
       "0.7611482720178372"
      ]
     },
     "execution_count": 111,
     "metadata": {},
     "output_type": "execute_result"
    }
   ],
   "source": [
    "MNB_OverSampling_Dataset_Sf_Kfold_Accuracy"
   ]
  },
  {
   "cell_type": "code",
   "execution_count": 112,
   "id": "6cef3e59",
   "metadata": {},
   "outputs": [],
   "source": [
    "#Apply Mutinomial Naive Bayes with Stratified k fold cross Validation technique on UnderSampling data sets\n",
    "\n",
    "MNB_UnderSampling_Dataset_Sf_Kfold_result = cross_val_score(ADAB,UnderSampling_Featurs,UnderSampling_Classes,cv = Sf_Kfold)\n",
    "MNB_UnderSampling_Dataset_Sf_Kfold_Accuracy = MNB_UnderSampling_Dataset_Sf_Kfold_result.mean()"
   ]
  },
  {
   "cell_type": "code",
   "execution_count": 113,
   "id": "3d2b27c1",
   "metadata": {},
   "outputs": [
    {
     "data": {
      "text/plain": [
       "0.8897629422210671"
      ]
     },
     "execution_count": 113,
     "metadata": {},
     "output_type": "execute_result"
    }
   ],
   "source": [
    "MNB_UnderSampling_Dataset_Sf_Kfold_Accuracy"
   ]
  },
  {
   "cell_type": "code",
   "execution_count": null,
   "id": "864065dd",
   "metadata": {},
   "outputs": [],
   "source": []
  },
  {
   "cell_type": "markdown",
   "id": "1e057251",
   "metadata": {},
   "source": [
    "# Evaluate this Model = ( MNB_NormalDataset_HoldOut )  "
   ]
  },
  {
   "cell_type": "code",
   "execution_count": 120,
   "id": "b7f044d0",
   "metadata": {},
   "outputs": [
    {
     "name": "stdout",
     "output_type": "stream",
     "text": [
      "              precision    recall  f1-score   support\n",
      "\n",
      "           0       0.93      0.89      0.91     87649\n",
      "           1       0.21      0.33      0.26      8290\n",
      "\n",
      "    accuracy                           0.84     95939\n",
      "   macro avg       0.57      0.61      0.58     95939\n",
      "weighted avg       0.87      0.84      0.85     95939\n",
      "\n"
     ]
    }
   ],
   "source": [
    "#classification_report \n",
    "\n",
    "MNB_NormalDataset_HoldOut_CR = classification_report(Normal_Classes_test, MNB_NormalDataset_HoldOut_Predict)\n",
    "print(MNB_NormalDataset_HoldOut_CR)"
   ]
  },
  {
   "cell_type": "code",
   "execution_count": 121,
   "id": "960e7018",
   "metadata": {},
   "outputs": [
    {
     "data": {
      "text/plain": [
       "0.8377614942828255"
      ]
     },
     "execution_count": 121,
     "metadata": {},
     "output_type": "execute_result"
    }
   ],
   "source": [
    "#Accuracy Score\n",
    "\n",
    "MNB_NormalDataset_HoldOut_AS = accuracy_score(Normal_Classes_test, MNB_NormalDataset_HoldOut_Predict)\n",
    "\n",
    "MNB_NormalDataset_HoldOut_AS"
   ]
  },
  {
   "cell_type": "code",
   "execution_count": 122,
   "id": "61677626",
   "metadata": {},
   "outputs": [
    {
     "data": {
      "text/plain": [
       "array([[77647, 10002],\n",
       "       [ 5563,  2727]], dtype=int64)"
      ]
     },
     "execution_count": 122,
     "metadata": {},
     "output_type": "execute_result"
    }
   ],
   "source": [
    "#Confusion Matrix\n",
    "\n",
    "MNB_NormalDataset_HoldOut_CM = confusion_matrix(Normal_Classes_test, MNB_NormalDataset_HoldOut_Predict)\n",
    "\n",
    "MNB_NormalDataset_HoldOut_CM"
   ]
  },
  {
   "cell_type": "code",
   "execution_count": 125,
   "id": "e1c1771e",
   "metadata": {},
   "outputs": [
    {
     "data": {
      "image/png": "[encoded data removed]",
      "text/plain": [
       "<Figure size 432x288 with 4 Axes>"
      ]
     },
     "metadata": {
      "needs_background": "light"
     },
     "output_type": "display_data"
    }
   ],
   "source": [
    "from sklearn import metrics\n",
    "\n",
    "f,a =  plt.subplots(1,2,sharex=True,sharey=True,squeeze=False)\n",
    "\n",
    "#Plotting confusion matrix for the different models for the Training Data\n",
    "\n",
    "plot_0 = sns.heatmap((metrics.confusion_matrix(Normal_Classes_train,MNB_NormalDataset_HoldOut_Predict_TraingData)),annot=True,fmt='.5g',cmap=\"YlGn\",ax=a[0][0]);\n",
    "a[0][0].set_title('Training Data')\n",
    "\n",
    "plot_1 = sns.heatmap((metrics.confusion_matrix(Normal_Classes_test, MNB_NormalDataset_HoldOut_Predict)),annot=True,fmt='.5g',cmap=\"YlGn\",ax=a[0][1]);\n",
    "a[0][1].set_title('Test Data');"
   ]
  },
  {
   "cell_type": "code",
   "execution_count": 126,
   "id": "ad05dc43",
   "metadata": {},
   "outputs": [],
   "source": [
    "tp , fn, fp ,tn = confusion_matrix(Normal_Classes_test, MNB_NormalDataset_HoldOut_Predict).reshape(-1)"
   ]
  },
  {
   "cell_type": "code",
   "execution_count": 128,
   "id": "b8b91ceb",
   "metadata": {},
   "outputs": [
    {
     "data": {
      "text/plain": [
       "0.9331450546809278"
      ]
     },
     "execution_count": 128,
     "metadata": {},
     "output_type": "execute_result"
    }
   ],
   "source": [
    "# Precision Of Positive Predictive Value as PPPV \n",
    "\n",
    "MNB_NormalDataset_HoldOut_PPV = tp/(tp+fp)\n",
    "\n",
    "MNB_NormalDataset_HoldOut_PPV"
   ]
  },
  {
   "cell_type": "code",
   "execution_count": 129,
   "id": "9901592e",
   "metadata": {},
   "outputs": [
    {
     "data": {
      "text/plain": [
       "0.8858857488391196"
      ]
     },
     "execution_count": 129,
     "metadata": {},
     "output_type": "execute_result"
    }
   ],
   "source": [
    "# Sensitivity, Recall Hit Rate\n",
    "\n",
    "MNB_NormalDataset_HoldOut_Sensitivity = tp/(tp+fn)\n",
    "\n",
    "MNB_NormalDataset_HoldOut_Sensitivity"
   ]
  },
  {
   "cell_type": "code",
   "execution_count": 130,
   "id": "8160e47b",
   "metadata": {},
   "outputs": [
    {
     "data": {
      "text/plain": [
       "0.6710494571773221"
      ]
     },
     "execution_count": 130,
     "metadata": {},
     "output_type": "execute_result"
    }
   ],
   "source": [
    "# Flase Positive Rate or 1-Specificity \n",
    "\n",
    "MNB_NormalDataset_HoldOut_FPR = fp/(fp+tn)\n",
    "\n",
    "MNB_NormalDataset_HoldOut_FPR"
   ]
  },
  {
   "cell_type": "code",
   "execution_count": 131,
   "id": "31711292",
   "metadata": {},
   "outputs": [
    {
     "data": {
      "text/plain": [
       "0.454450745936708"
      ]
     },
     "execution_count": 131,
     "metadata": {},
     "output_type": "execute_result"
    }
   ],
   "source": [
    "# F1 Score\n",
    "\n",
    "MNB_NormalDataset_HoldOut_F1Score = (MNB_NormalDataset_HoldOut_PPV*MNB_NormalDataset_HoldOut_Sensitivity)/(MNB_NormalDataset_HoldOut_PPV+MNB_NormalDataset_HoldOut_Sensitivity)\n",
    "\n",
    "MNB_NormalDataset_HoldOut_F1Score"
   ]
  },
  {
   "cell_type": "code",
   "execution_count": 132,
   "id": "6ca6ae36",
   "metadata": {},
   "outputs": [
    {
     "data": {
      "text/plain": [
       "0.8330150624383127"
      ]
     },
     "execution_count": 132,
     "metadata": {},
     "output_type": "execute_result"
    }
   ],
   "source": [
    "#Treat Score , Critical Success or Index\n",
    "\n",
    "MNB_NormalDataset_HoldOut_TreatScore = tp/(tp+fn+fp)\n",
    "\n",
    "MNB_NormalDataset_HoldOut_TreatScore"
   ]
  },
  {
   "cell_type": "code",
   "execution_count": 133,
   "id": "38ae9df0",
   "metadata": {},
   "outputs": [
    {
     "data": {
      "text/plain": [
       "0.06685494531907223"
      ]
     },
     "execution_count": 133,
     "metadata": {},
     "output_type": "execute_result"
    }
   ],
   "source": [
    "# False Discovery Rate \n",
    "\n",
    "MNB_NormalDataset_HoldOut_FDR = fp/(tp+fp)\n",
    "MNB_NormalDataset_HoldOut_FDR"
   ]
  },
  {
   "cell_type": "code",
   "execution_count": 134,
   "id": "0a1cdfdb",
   "metadata": {},
   "outputs": [
    {
     "data": {
      "text/plain": [
       "[<matplotlib.lines.Line2D at 0x1cb3a8d9250>]"
      ]
     },
     "execution_count": 134,
     "metadata": {},
     "output_type": "execute_result"
    },
    {
     "data": {
      "image/png": "[encoded data removed]",
      "text/plain": [
       "<Figure size 432x288 with 1 Axes>"
      ]
     },
     "metadata": {
      "needs_background": "light"
     },
     "output_type": "display_data"
    }
   ],
   "source": [
    "# ROC and AUC Curve\n",
    "\n",
    "warnings.filterwarnings(\"ignore\")\n",
    "\n",
    "plot_roc_curve(MNB,Normal_Featurs_test,Normal_Classes_test)\n",
    "plt.plot([0,1],[0,1])"
   ]
  },
  {
   "cell_type": "code",
   "execution_count": null,
   "id": "20b5d588",
   "metadata": {},
   "outputs": [],
   "source": []
  },
  {
   "cell_type": "markdown",
   "id": "94e8eb3c",
   "metadata": {},
   "source": [
    "# Check Over Fitting and Under Fitting"
   ]
  },
  {
   "cell_type": "code",
   "execution_count": 21,
   "id": "1334471b",
   "metadata": {},
   "outputs": [
    {
     "name": "stdout",
     "output_type": "stream",
     "text": [
      "Estimators = 33 , Normal Dataset Train Accuracy = 0.9957651347294689 , Normal Dataset Testing Accuracy = 0.9037826118679577\n",
      "Estimators = 106 , Normal Dataset Train Accuracy = 0.9970784790222286 , Normal Dataset Testing Accuracy = 0.9045852051824597\n",
      "Estimators = 128 , Normal Dataset Train Accuracy = 0.9971231505968122 , Normal Dataset Testing Accuracy = 0.9044184325456801\n",
      "Estimators = 30 , Normal Dataset Train Accuracy = 0.9950548566935887 , Normal Dataset Testing Accuracy = 0.9038659981863476\n",
      "Estimators = 173 , Normal Dataset Train Accuracy = 0.9971365520691874 , Normal Dataset Testing Accuracy = 0.9047832476886355\n",
      "Estimators = 81 , Normal Dataset Train Accuracy = 0.9970338074476449 , Normal Dataset Testing Accuracy = 0.9043663160966864\n",
      "Estimators = 139 , Normal Dataset Train Accuracy = 0.9971365520691874 , Normal Dataset Testing Accuracy = 0.9047936709784342\n",
      "Estimators = 40 , Normal Dataset Train Accuracy = 0.9959482881852619 , Normal Dataset Testing Accuracy = 0.9043454695170889\n",
      "Estimators = 172 , Normal Dataset Train Accuracy = 0.997132084911729 , Normal Dataset Testing Accuracy = 0.9048353641376291\n",
      "Estimators = 199 , Normal Dataset Train Accuracy = 0.9971365520691874 , Normal Dataset Testing Accuracy = 0.9048979038764214\n",
      "Estimators = 110 , Normal Dataset Train Accuracy = 0.9971052819669788 , Normal Dataset Testing Accuracy = 0.9050334066438049\n",
      "Estimators = 32 , Normal Dataset Train Accuracy = 0.9952022728897149 , Normal Dataset Testing Accuracy = 0.904230813329303\n",
      "Estimators = 180 , Normal Dataset Train Accuracy = 0.997132084911729 , Normal Dataset Testing Accuracy = 0.9050021367744088\n",
      "Estimators = 154 , Normal Dataset Train Accuracy = 0.9971365520691874 , Normal Dataset Testing Accuracy = 0.9050855230927985\n",
      "Estimators = 134 , Normal Dataset Train Accuracy = 0.997132084911729 , Normal Dataset Testing Accuracy = 0.9049395970356163\n"
     ]
    }
   ],
   "source": [
    "# Check Over Fitting and Under Fitting for nomar data set using RandomForestClassifier\n",
    "\n",
    "from sklearn.ensemble import RandomForestClassifier\n",
    "\n",
    "RFC = RandomForestClassifier()\n",
    "\n",
    "estimators = np.random.randint(20,200,15)\n",
    "\n",
    "Normal_Dataset_TraingScore = []\n",
    "Normal_Dataset_TestingScore = []\n",
    "\n",
    "\n",
    "for n in estimators:\n",
    "    RFC = RandomForestClassifier(n_estimators = n)\n",
    "    RFC.fit(Normal_Featurs_train , Normal_Classes_train)\n",
    "    \n",
    "    #Chack Training Accuracy\n",
    "    \n",
    "    Normal_Dataset_train_prediction = RFC.predict(Normal_Featurs_train)\n",
    "    Normal_Dataset_train_accuracy = RFC.score(Normal_Featurs_train,Normal_Classes_train)\n",
    "    Normal_Dataset_TraingScore.append(Normal_Dataset_train_accuracy)\n",
    "    \n",
    "    #Chack Testing Accuracy\n",
    "    \n",
    "    Normal_Dataset_testing_prediction = RFC.predict(Normal_Featurs_test)\n",
    "    Normal_Dataset_testing_accuracy = RFC.score(Normal_Featurs_test,Normal_Classes_test)\n",
    "    Normal_Dataset_TestingScore.append(Normal_Dataset_testing_accuracy)\n",
    "\n",
    "\n",
    "    print(f\"Estimators = {n} , Normal Dataset Train Accuracy = {Normal_Dataset_train_accuracy} , Normal Dataset Testing Accuracy = {Normal_Dataset_testing_accuracy}\")"
   ]
  },
  {
   "cell_type": "code",
   "execution_count": 24,
   "id": "aaa83509",
   "metadata": {},
   "outputs": [
    {
     "data": {
      "text/plain": [
       "<matplotlib.legend.Legend at 0x26c52a2fbb0>"
      ]
     },
     "execution_count": 24,
     "metadata": {},
     "output_type": "execute_result"
    },
    {
     "data": {
      "image/png": "[encoded data removed]",
      "text/plain": [
       "<Figure size 432x288 with 1 Axes>"
      ]
     },
     "metadata": {
      "needs_background": "light"
     },
     "output_type": "display_data"
    }
   ],
   "source": [
    "plt.plot(estimators , Normal_Dataset_TraingScore , marker = \"+\" , label = \"train\")\n",
    "plt.plot(estimators , Normal_Dataset_TestingScore , marker = \"*\" , label = \"test\")\n",
    "\n",
    "plt.legend()"
   ]
  },
  {
   "cell_type": "code",
   "execution_count": 26,
   "id": "384f8a8a",
   "metadata": {},
   "outputs": [
    {
     "name": "stdout",
     "output_type": "stream",
     "text": [
      "Estimators = 160 , OverSampling Dataset Train Accuracy = 0.9965802779745475 , OverSampling Dataset Testing Accuracy = 0.9639392661324335\n",
      "Estimators = 34 , OverSampling Dataset Train Accuracy = 0.9964434890935294 , OverSampling Dataset Testing Accuracy = 0.9641102511199516\n",
      "Estimators = 149 , OverSampling Dataset Train Accuracy = 0.9965802779745475 , OverSampling Dataset Testing Accuracy = 0.9634776066661347\n",
      "Estimators = 20 , OverSampling Dataset Train Accuracy = 0.9961479274041867 , OverSampling Dataset Testing Accuracy = 0.9642983346062216\n",
      "Estimators = 92 , OverSampling Dataset Train Accuracy = 0.9965729499987787 , OverSampling Dataset Testing Accuracy = 0.9638879706361781\n",
      "Estimators = 128 , OverSampling Dataset Train Accuracy = 0.9965802779745475 , OverSampling Dataset Testing Accuracy = 0.9640304581257766\n",
      "Estimators = 163 , OverSampling Dataset Train Accuracy = 0.9965802779745475 , OverSampling Dataset Testing Accuracy = 0.9636998871499083\n",
      "Estimators = 98 , OverSampling Dataset Train Accuracy = 0.9965778353159579 , OverSampling Dataset Testing Accuracy = 0.9638651726378424\n",
      "Estimators = 178 , OverSampling Dataset Train Accuracy = 0.9965802779745475 , OverSampling Dataset Testing Accuracy = 0.9637967786428352\n",
      "Estimators = 184 , OverSampling Dataset Train Accuracy = 0.9965802779745475 , OverSampling Dataset Testing Accuracy = 0.9639278671332657\n"
     ]
    }
   ],
   "source": [
    "# Check Over Fitting and Under Fitting for OverSampling dataset using RandomForestClassifier\n",
    "\n",
    "estimators = np.random.randint(20,200,10)\n",
    "\n",
    "OverSampling_Dataset_TraingScore = []\n",
    "OverSampling_Dataset_TestingScore = []\n",
    "\n",
    "\n",
    "for n in estimators:\n",
    "    RFC = RandomForestClassifier(n_estimators = n)\n",
    "    RFC.fit(OverSampling_Featurs_train , OverSampling_Classes_train)\n",
    "    \n",
    "    #Chack OverSampling Dataset Training Accuracy\n",
    "    \n",
    "    OverSampling_Dataset_train_prediction = RFC.predict(OverSampling_Featurs_train)\n",
    "    OverSampling_Dataset_train_accuracy = RFC.score(OverSampling_Featurs_train , OverSampling_Classes_train)\n",
    "    OverSampling_Dataset_TraingScore.append(OverSampling_Dataset_train_accuracy)\n",
    "    \n",
    "    #Chack OverSampling Dataset Testing Accuracy\n",
    "    \n",
    "    OverSampling_Dataset_testing_prediction = RFC.predict(OverSampling_Featurs_test)\n",
    "    OverSampling_Dataset_testing_accuracy = RFC.score(OverSampling_Featurs_test , OverSampling_Classes_test)\n",
    "    OverSampling_Dataset_TestingScore.append(OverSampling_Dataset_testing_accuracy)\n",
    "\n",
    "\n",
    "    print(f\"Estimators = {n} , OverSampling Dataset Train Accuracy = {OverSampling_Dataset_train_accuracy} , OverSampling Dataset Testing Accuracy = {OverSampling_Dataset_testing_accuracy}\")"
   ]
  },
  {
   "cell_type": "code",
   "execution_count": null,
   "id": "70951c29",
   "metadata": {},
   "outputs": [],
   "source": []
  },
  {
   "cell_type": "code",
   "execution_count": 27,
   "id": "a34d3101",
   "metadata": {},
   "outputs": [
    {
     "name": "stdout",
     "output_type": "stream",
     "text": [
      "Estimators = 61 , UnderSampling Dataset Train Accuracy = 0.9826470434737227 , UnderSampling Dataset Testing Accuracy = 0.8577691183633707\n",
      "Estimators = 48 , UnderSampling Dataset Train Accuracy = 0.982125150044361 , UnderSampling Dataset Testing Accuracy = 0.8577082318558208\n",
      "Estimators = 107 , UnderSampling Dataset Train Accuracy = 0.9831950315745525 , UnderSampling Dataset Testing Accuracy = 0.8570993667803215\n",
      "Estimators = 111 , UnderSampling Dataset Train Accuracy = 0.9831428422316163 , UnderSampling Dataset Testing Accuracy = 0.85831709693132\n",
      "Estimators = 140 , UnderSampling Dataset Train Accuracy = 0.9831689369030844 , UnderSampling Dataset Testing Accuracy = 0.8569167072576717\n",
      "Estimators = 99 , UnderSampling Dataset Train Accuracy = 0.9830906528886801 , UnderSampling Dataset Testing Accuracy = 0.8574646858256211\n",
      "Estimators = 203 , UnderSampling Dataset Train Accuracy = 0.9831950315745525 , UnderSampling Dataset Testing Accuracy = 0.8582562104237701\n",
      "Estimators = 188 , UnderSampling Dataset Train Accuracy = 0.9831950315745525 , UnderSampling Dataset Testing Accuracy = 0.8575864588407209\n",
      "Estimators = 93 , UnderSampling Dataset Train Accuracy = 0.9830906528886801 , UnderSampling Dataset Testing Accuracy = 0.859230394544569\n",
      "Estimators = 26 , UnderSampling Dataset Train Accuracy = 0.9800897656698502 , UnderSampling Dataset Testing Accuracy = 0.8595348270823185\n"
     ]
    }
   ],
   "source": [
    "# Check Over Fitting and Under Fitting for UnderSampling dataset using RandomForestClassifier\n",
    "\n",
    "estimators = np.random.randint(10,250,10)\n",
    "\n",
    "UnderSampling_Dataset_TraingScore = []\n",
    "UnderSampling_Dataset_TestingScore = []\n",
    "\n",
    "\n",
    "for n in estimators:\n",
    "    RFC = RandomForestClassifier(n_estimators = n)\n",
    "    RFC.fit(UnderSampling_Featurs_train , UnderSampling_Classes_train)\n",
    "    \n",
    "    #Chack UnderSampling Dataset Training Accuracy\n",
    "    \n",
    "    UnderSampling_Dataset_train_prediction = RFC.predict(UnderSampling_Featurs_train)\n",
    "    UnderSampling_Dataset_train_accuracy = RFC.score(UnderSampling_Featurs_train , UnderSampling_Classes_train)\n",
    "    UnderSampling_Dataset_TraingScore.append(UnderSampling_Dataset_train_accuracy)\n",
    "    \n",
    "    #Chack UnderSampling Dataset Testing Accuracy\n",
    "    \n",
    "    UnderSampling_Dataset_testing_prediction = RFC.predict(UnderSampling_Featurs_test)\n",
    "    UnderSampling_Dataset_testing_accuracy = RFC.score(UnderSampling_Featurs_test , UnderSampling_Classes_test)\n",
    "    UnderSampling_Dataset_TestingScore.append(UnderSampling_Dataset_testing_accuracy)\n",
    "\n",
    "\n",
    "    print(f\"Estimators = {n} , UnderSampling Dataset Train Accuracy = {UnderSampling_Dataset_train_accuracy} , UnderSampling Dataset Testing Accuracy = {UnderSampling_Dataset_testing_accuracy}\")"
   ]
  },
  {
   "cell_type": "code",
   "execution_count": null,
   "id": "4df6fb35",
   "metadata": {},
   "outputs": [],
   "source": []
  }
 ],
 "metadata": {
  "kernelspec": {
   "display_name": "Python 3 (ipykernel)",
   "language": "python",
   "name": "python3"
  },
  "language_info": {
   "codemirror_mode": {
    "name": "ipython",
    "version": 3
   },
   "file_extension": ".py",
   "mimetype": "text/x-python",
   "name": "python",
   "nbconvert_exporter": "python",
   "pygments_lexer": "ipython3",
   "version": "3.9.7"
  }
 },
 "nbformat": 4,
 "nbformat_minor": 5
}
